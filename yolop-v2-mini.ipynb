{
  "metadata": {
    "kernelspec": {
      "name": "python3",
      "display_name": "Python 3",
      "language": "python"
    },
    "language_info": {
      "codemirror_mode": {
        "name": "ipython",
        "version": 3
      },
      "file_extension": ".py",
      "mimetype": "text/x-python",
      "name": "python",
      "nbconvert_exporter": "python",
      "pygments_lexer": "ipython3",
      "version": "3.11.11"
    },
    "kaggle": {
      "accelerator": "gpu",
      "dataSources": [
        {
          "sourceId": 12345190,
          "sourceType": "datasetVersion",
          "datasetId": 7775335
        }
      ],
      "dockerImageVersionId": 31040,
      "isInternetEnabled": false,
      "language": "python",
      "sourceType": "notebook",
      "isGpuEnabled": true
    },
    "colab": {
      "provenance": [],
      "toc_visible": true,
      "gpuType": "T4",
      "include_colab_link": true
    },
    "accelerator": "GPU"
  },
  "nbformat_minor": 0,
  "nbformat": 4,
  "cells": [
    {
      "cell_type": "markdown",
      "metadata": {
        "id": "view-in-github",
        "colab_type": "text"
      },
      "source": [
        "<a href=\"https://colab.research.google.com/github/alessela/yolop-v2-mini/blob/main/yolop-v2-mini.ipynb\" target=\"_parent\"><img src=\"https://colab.research.google.com/assets/colab-badge.svg\" alt=\"Open In Colab\"/></a>"
      ]
    },
    {
      "cell_type": "markdown",
      "source": [
        "# Import libraries"
      ],
      "metadata": {
        "id": "HOUOjqqDCdf4"
      }
    },
    {
      "cell_type": "code",
      "source": [
        "import json\n",
        "import os\n",
        "import random\n",
        "import cv2\n",
        "import numpy as np\n",
        "import gc\n",
        "import zipfile\n",
        "import matplotlib.pyplot as plt\n",
        "\n",
        "import torch\n",
        "import torch.nn as nn\n",
        "import torch.nn.functional as F\n",
        "import torch.optim as optim\n",
        "from torch.utils.data.dataloader import DataLoader\n",
        "from torch.utils.data.dataset import Dataset\n",
        "import torchvision.ops as ops\n",
        "\n",
        "import albumentations as A\n",
        "from albumentations.pytorch import ToTensorV2\n",
        "\n",
        "from sklearn.cluster import KMeans\n",
        "\n",
        "from tqdm import tqdm"
      ],
      "metadata": {
        "id": "664_RUUKCdf6",
        "trusted": true,
        "execution": {
          "iopub.status.busy": "2025-08-27T20:33:17.645837Z",
          "iopub.execute_input": "2025-08-27T20:33:17.646061Z",
          "iopub.status.idle": "2025-08-27T20:34:01.135197Z",
          "shell.execute_reply.started": "2025-08-27T20:33:17.646038Z",
          "shell.execute_reply": "2025-08-27T20:34:01.134561Z"
        }
      },
      "outputs": [],
      "execution_count": 2
    },
    {
      "cell_type": "markdown",
      "source": [
        "# Architecture"
      ],
      "metadata": {
        "id": "ew6QVrEyCdf8"
      }
    },
    {
      "cell_type": "markdown",
      "source": [
        "## Base components"
      ],
      "metadata": {
        "id": "vMUpaLFgCdf8"
      }
    },
    {
      "cell_type": "markdown",
      "source": [
        "### Conv"
      ],
      "metadata": {
        "id": "Hv5sOCWiCxRI"
      }
    },
    {
      "cell_type": "code",
      "source": [
        "class Conv(nn.Module):\n",
        "    def __init__(self, c_in, c_out, k, s=1, g=1):\n",
        "        super(Conv, self).__init__()\n",
        "\n",
        "        self.layers = nn.Sequential(\n",
        "            nn.Conv2d(c_in, c_out, k, s, (k - 1) // 2, g, bias=False),\n",
        "            nn.BatchNorm2d(c_out),\n",
        "            nn.SiLU(inplace=True)\n",
        "        )\n",
        "\n",
        "    def forward(self, x):\n",
        "        return self.layers(x)"
      ],
      "metadata": {
        "id": "SJO2EuhICdf8",
        "trusted": true,
        "execution": {
          "iopub.status.busy": "2025-08-27T20:34:01.136522Z",
          "iopub.execute_input": "2025-08-27T20:34:01.136918Z",
          "iopub.status.idle": "2025-08-27T20:34:01.141949Z",
          "shell.execute_reply.started": "2025-08-27T20:34:01.136898Z",
          "shell.execute_reply": "2025-08-27T20:34:01.141224Z"
        }
      },
      "outputs": [],
      "execution_count": 3
    },
    {
      "cell_type": "markdown",
      "source": [
        "### Downsampling"
      ],
      "metadata": {
        "id": "wI0WQTU_DF2d"
      }
    },
    {
      "cell_type": "code",
      "source": [
        "class Downsampling(nn.Module):\n",
        "    def __init__(self, c_in, c_out, k):\n",
        "        super(Downsampling, self).__init__()\n",
        "\n",
        "        self.conv1 = nn.Sequential(\n",
        "            Conv(c_in, c_in, 1),\n",
        "            Conv(c_in, c_out // 2, 3, 2)\n",
        "        )\n",
        "\n",
        "        self.conv2 = nn.Sequential(\n",
        "            nn.MaxPool2d(kernel_size=k, stride=k),\n",
        "            Conv(c_in, c_out // 2, 1)\n",
        "        )\n",
        "\n",
        "    def forward(self, x):\n",
        "        return torch.cat([self.conv1(x), self.conv2(x)], 1)"
      ],
      "metadata": {
        "id": "xwkcJSlUCdf9",
        "trusted": true,
        "execution": {
          "iopub.status.busy": "2025-08-27T20:34:01.142680Z",
          "iopub.execute_input": "2025-08-27T20:34:01.142902Z",
          "iopub.status.idle": "2025-08-27T20:34:01.185166Z",
          "shell.execute_reply.started": "2025-08-27T20:34:01.142887Z",
          "shell.execute_reply": "2025-08-27T20:34:01.184496Z"
        }
      },
      "outputs": [],
      "execution_count": 4
    },
    {
      "cell_type": "markdown",
      "source": [
        "## Backbone"
      ],
      "metadata": {
        "id": "epjTMiEiCdf9"
      }
    },
    {
      "cell_type": "markdown",
      "source": [
        "### ELAN Block"
      ],
      "metadata": {
        "id": "RlMWlVZDDXP0"
      }
    },
    {
      "cell_type": "code",
      "source": [
        "class ELANBlock(nn.Module):\n",
        "    def __init__(self, c_in, c_hidden, n_blocks, c_out):\n",
        "        super(ELANBlock, self).__init__()\n",
        "\n",
        "        self.transition_layer = Conv(c_in, c_hidden, 1)\n",
        "        self.base_layer = Conv(c_in, c_hidden, 1)\n",
        "\n",
        "        self.layers = nn.Sequential(*[Conv(c_hidden, c_hidden, 3) for _ in range(n_blocks)])\n",
        "\n",
        "        n_in = (n_blocks // 2 + 2) * c_hidden\n",
        "        self.feature_aggreation = Conv(n_in, c_out, 1)\n",
        "\n",
        "    def forward(self, x):\n",
        "        output = [self.transition_layer(x)]\n",
        "        x = self.base_layer(x)\n",
        "        output.append(x)\n",
        "\n",
        "        for idx, layer in enumerate(self.layers):\n",
        "            x = layer(x)\n",
        "            if idx % 2 == 1:\n",
        "                output.append(x)\n",
        "\n",
        "        output = torch.cat(output, 1)\n",
        "        return self.feature_aggreation(output)"
      ],
      "metadata": {
        "id": "R0FBhC9zCdf9",
        "trusted": true,
        "execution": {
          "iopub.status.busy": "2025-08-27T20:34:01.185831Z",
          "iopub.execute_input": "2025-08-27T20:34:01.186016Z",
          "iopub.status.idle": "2025-08-27T20:34:01.202314Z",
          "shell.execute_reply.started": "2025-08-27T20:34:01.186000Z",
          "shell.execute_reply": "2025-08-27T20:34:01.201701Z"
        }
      },
      "outputs": [],
      "execution_count": 5
    },
    {
      "cell_type": "markdown",
      "source": [
        "### SPPCSPC"
      ],
      "metadata": {
        "id": "EJVJjkTMDfek"
      }
    },
    {
      "cell_type": "code",
      "source": [
        "class SPPCSPC(nn.Module):\n",
        "    def __init__(self, c_in, c_out, k=[5, 9, 13]) -> None:\n",
        "        super(SPPCSPC, self).__init__()\n",
        "\n",
        "        self.conv1 = Conv(c_in, c_out, 1)\n",
        "\n",
        "        self.preprocess = nn.Sequential(\n",
        "            Conv(c_in, c_out, 1),\n",
        "            Conv(c_out, c_out, 3),\n",
        "            Conv(c_out, c_out, 1)\n",
        "        )\n",
        "\n",
        "        self.maxpool = nn.ModuleList([nn.MaxPool2d(ki, 1, ki // 2) for ki in k])\n",
        "\n",
        "        self.postprocess = nn.Sequential(\n",
        "            Conv(4 * c_out, c_out, 1),\n",
        "            Conv(c_out, c_out, 3)\n",
        "        )\n",
        "\n",
        "        self.concat = Conv(2 * c_out, c_out, 1)\n",
        "\n",
        "    def forward(self, x):\n",
        "        x1 = self.preprocess(x)\n",
        "\n",
        "        y1 = [x1] + [layer(x1) for layer in self.maxpool]\n",
        "        y1 = torch.cat(y1, 1)\n",
        "        y1 = self.postprocess(y1)\n",
        "\n",
        "        y2 = self.conv1(x)\n",
        "\n",
        "        return self.concat(torch.cat([y1, y2], 1))"
      ],
      "metadata": {
        "id": "OD9cMm9ACdf9",
        "trusted": true,
        "execution": {
          "iopub.status.busy": "2025-08-27T20:34:01.202987Z",
          "iopub.execute_input": "2025-08-27T20:34:01.203187Z",
          "iopub.status.idle": "2025-08-27T20:34:01.223207Z",
          "shell.execute_reply.started": "2025-08-27T20:34:01.203172Z",
          "shell.execute_reply": "2025-08-27T20:34:01.222561Z"
        }
      },
      "outputs": [],
      "execution_count": 6
    },
    {
      "cell_type": "markdown",
      "source": [
        "### Backbone"
      ],
      "metadata": {
        "id": "Pt3n2atKDyX1"
      }
    },
    {
      "cell_type": "code",
      "source": [
        "class Backbone(nn.Module):\n",
        "    def __init__(self, c_out_downs = [64, 128, 256, 512],\n",
        "                     c_hidd_elan = [32, 64, 128, 256],\n",
        "                     n_blocks = 6) -> None:\n",
        "        super(Backbone, self).__init__()\n",
        "\n",
        "        self.conv = Conv(3, 32, 3, 2)\n",
        "\n",
        "        n_in = 32\n",
        "        layers = []\n",
        "        for n_out, n_hidd in zip(c_out_downs, c_hidd_elan):\n",
        "            layers.append(nn.Sequential(\n",
        "                Downsampling(n_in, n_out, 2),\n",
        "                ELANBlock(n_out, n_hidd, n_blocks, n_out)\n",
        "            ))\n",
        "            n_in = n_out\n",
        "\n",
        "        self.layers = nn.Sequential(*layers)\n",
        "        self.spp = SPPCSPC(n_in, n_in)\n",
        "\n",
        "    def forward(self, x):\n",
        "        x = self.conv(x)\n",
        "\n",
        "        output = []\n",
        "        for idx, layer in enumerate(self.layers):\n",
        "            x = layer(x)\n",
        "            if idx > 0:\n",
        "                output.append(x)\n",
        "\n",
        "        output[-1] = self.spp(output[-1])\n",
        "\n",
        "        return output"
      ],
      "metadata": {
        "id": "mCC6i6vGCdf9",
        "trusted": true,
        "execution": {
          "iopub.status.busy": "2025-08-27T20:34:01.224002Z",
          "iopub.execute_input": "2025-08-27T20:34:01.224677Z",
          "iopub.status.idle": "2025-08-27T20:34:01.238337Z",
          "shell.execute_reply.started": "2025-08-27T20:34:01.224655Z",
          "shell.execute_reply": "2025-08-27T20:34:01.237595Z"
        }
      },
      "outputs": [],
      "execution_count": 7
    },
    {
      "cell_type": "markdown",
      "source": [
        "## Neck"
      ],
      "metadata": {
        "id": "vw9BMO-UCdf9"
      }
    },
    {
      "cell_type": "markdown",
      "source": [
        "### Fuse Feature Module"
      ],
      "metadata": {
        "id": "gfyuugMlD4RE"
      }
    },
    {
      "cell_type": "code",
      "source": [
        "class FuseFeatureModule(nn.Module):\n",
        "    def __init__(self, c_in, c_out) -> None:\n",
        "        super(FuseFeatureModule, self).__init__()\n",
        "\n",
        "        self.upsample = nn.Upsample(scale_factor=2, mode='nearest')\n",
        "        self.conv1 = Conv(c_in, c_in // 2, 1)\n",
        "        self.conv2 = Conv(c_in, c_in // 2, 1)\n",
        "        self.conv3 = Conv(c_in, c_out, 3)\n",
        "\n",
        "    def forward(self, x):\n",
        "        [x1, x2] = x\n",
        "        x1 = self.upsample(x1)\n",
        "        x1 = self.conv1(x1)\n",
        "        x2 = self.conv2(x2)\n",
        "        concat = torch.cat([x1, x2], 1)\n",
        "        return self.conv3(concat)"
      ],
      "metadata": {
        "id": "a_s4js0TCdf9",
        "trusted": true,
        "execution": {
          "iopub.status.busy": "2025-08-27T20:34:01.240511Z",
          "iopub.execute_input": "2025-08-27T20:34:01.240676Z",
          "iopub.status.idle": "2025-08-27T20:34:01.255335Z",
          "shell.execute_reply.started": "2025-08-27T20:34:01.240663Z",
          "shell.execute_reply": "2025-08-27T20:34:01.254657Z"
        }
      },
      "outputs": [],
      "execution_count": 8
    },
    {
      "cell_type": "markdown",
      "source": [
        "### Neck"
      ],
      "metadata": {
        "id": "juG7DQe0EB_5"
      }
    },
    {
      "cell_type": "code",
      "source": [
        "class Neck(nn.Module):\n",
        "    def __init__(self, c_in=[512, 256, 128], c_out=[256, 128, 128]) -> None:\n",
        "        super(Neck, self).__init__()\n",
        "\n",
        "        self.p5 = Conv(c_in[0], c_out[0], 1)\n",
        "\n",
        "        self.upsampling = nn.ModuleList([\n",
        "            FuseFeatureModule(n_in, n_out)\n",
        "            for n_in, n_out in zip(c_in[1:], c_out[1:])])\n",
        "\n",
        "    def forward(self, x):\n",
        "        x = x[::-1]\n",
        "        output = [self.p5(x[0])]\n",
        "\n",
        "        for layer, xi in zip(self.upsampling, x[1:]):\n",
        "            output.append(layer([output[-1], xi]))\n",
        "\n",
        "        return output"
      ],
      "metadata": {
        "id": "trF9FRwHCdf-",
        "trusted": true,
        "execution": {
          "iopub.status.busy": "2025-08-27T20:34:01.256044Z",
          "iopub.execute_input": "2025-08-27T20:34:01.256289Z",
          "iopub.status.idle": "2025-08-27T20:34:01.268898Z",
          "shell.execute_reply.started": "2025-08-27T20:34:01.256269Z",
          "shell.execute_reply": "2025-08-27T20:34:01.268402Z"
        }
      },
      "outputs": [],
      "execution_count": 9
    },
    {
      "cell_type": "markdown",
      "source": [
        "## Drivable area segment head"
      ],
      "metadata": {
        "id": "uOfGGckbCdf-"
      }
    },
    {
      "cell_type": "code",
      "source": [
        "class DrivableAreaSegmentHead(nn.Module):\n",
        "    def __init__(self, c_in, c_hidd) -> None:\n",
        "        super(DrivableAreaSegmentHead, self).__init__()\n",
        "\n",
        "        next_layers = [Conv(c_in, c_in, 1)]\n",
        "        n_in = c_in\n",
        "        for n_hidd in c_hidd:\n",
        "            next_layers.append(nn.Upsample(scale_factor=2, mode='nearest'))\n",
        "            next_layers.append(Conv(n_in, n_hidd, 3))\n",
        "\n",
        "            n_in = n_hidd\n",
        "\n",
        "        self.next_layers = nn.Sequential(*next_layers)\n",
        "\n",
        "    def forward(self, x):\n",
        "        return self.next_layers(x)"
      ],
      "metadata": {
        "id": "0q0iQnNYCdf-",
        "trusted": true,
        "execution": {
          "iopub.status.busy": "2025-08-27T20:34:01.269765Z",
          "iopub.execute_input": "2025-08-27T20:34:01.270331Z",
          "iopub.status.idle": "2025-08-27T20:34:01.286303Z",
          "shell.execute_reply.started": "2025-08-27T20:34:01.270310Z",
          "shell.execute_reply": "2025-08-27T20:34:01.285657Z"
        }
      },
      "outputs": [],
      "execution_count": 10
    },
    {
      "cell_type": "markdown",
      "source": [
        "## Lane segment head"
      ],
      "metadata": {
        "id": "eSuFGAlDFK2v"
      }
    },
    {
      "cell_type": "code",
      "source": [
        "class LaneSegmentHead(nn.Module):\n",
        "    def __init__(self, c_in, c_hidd):\n",
        "        super(LaneSegmentHead, self).__init__()\n",
        "\n",
        "        next_layers = [Conv(c_in, c_in, 1)]\n",
        "        n_in = c_in\n",
        "        for n_hidd in c_hidd:\n",
        "            next_layers.append(nn.ConvTranspose2d(n_in, n_hidd, 2, 2, bias=False))\n",
        "            n_in = n_hidd\n",
        "\n",
        "        self.next_layers = nn.Sequential(*next_layers)\n",
        "\n",
        "    def forward(self, x):\n",
        "        return self.next_layers(x)"
      ],
      "metadata": {
        "id": "DEXT0I3ACdf-",
        "trusted": true,
        "execution": {
          "iopub.status.busy": "2025-08-27T20:34:01.286914Z",
          "iopub.execute_input": "2025-08-27T20:34:01.287145Z",
          "iopub.status.idle": "2025-08-27T20:34:01.305025Z",
          "shell.execute_reply.started": "2025-08-27T20:34:01.287125Z",
          "shell.execute_reply": "2025-08-27T20:34:01.304210Z"
        }
      },
      "outputs": [],
      "execution_count": 11
    },
    {
      "cell_type": "markdown",
      "source": [
        "## Detection head"
      ],
      "metadata": {
        "id": "GPOvAbc2Cdf-"
      }
    },
    {
      "cell_type": "markdown",
      "source": [
        "### Path aggregation block"
      ],
      "metadata": {
        "id": "vg12CbkXFXx9"
      }
    },
    {
      "cell_type": "code",
      "source": [
        "class PathAggregationBlock(nn.Module):\n",
        "    def __init__(self, c_in) -> None:\n",
        "        super(PathAggregationBlock, self).__init__()\n",
        "\n",
        "        self.conv1 = Conv(c_in, c_in, 3, 2)\n",
        "        self.conv2 = Conv(2 * c_in, 2 * c_in, 3)\n",
        "\n",
        "    def forward(self, x):\n",
        "        [x1, x2] = x\n",
        "        x1 = self.conv1(x1)\n",
        "        concat = torch.cat([x1, x2], 1)\n",
        "        return self.conv2(concat)"
      ],
      "metadata": {
        "id": "RUV3i5JJCdf-",
        "trusted": true,
        "execution": {
          "iopub.status.busy": "2025-08-27T20:34:01.305700Z",
          "iopub.execute_input": "2025-08-27T20:34:01.305913Z",
          "iopub.status.idle": "2025-08-27T20:34:01.319428Z",
          "shell.execute_reply.started": "2025-08-27T20:34:01.305898Z",
          "shell.execute_reply": "2025-08-27T20:34:01.318895Z"
        }
      },
      "outputs": [],
      "execution_count": 12
    },
    {
      "cell_type": "markdown",
      "source": [
        "### Path aggregation network"
      ],
      "metadata": {
        "id": "QUArz0BdFqJ0"
      }
    },
    {
      "cell_type": "code",
      "source": [
        "class PathAggregationNetwork(nn.Module):\n",
        "    def __init__(self, c_in) -> None:\n",
        "        super(PathAggregationNetwork, self).__init__()\n",
        "\n",
        "        self.n3 = Conv(c_in[0], c_in[0], 1)\n",
        "        self.layers = nn.ModuleList([PathAggregationBlock(n_in) for n_in in c_in[1:]])\n",
        "\n",
        "    def forward(self, x):\n",
        "        x = x[::-1]\n",
        "        output = [self.n3(x[0])]\n",
        "\n",
        "        for layer, xi in zip(self.layers, x[1:]):\n",
        "            output.append(layer([output[-1], xi]))\n",
        "\n",
        "        return output"
      ],
      "metadata": {
        "id": "ztzv753iCdf-",
        "trusted": true,
        "execution": {
          "iopub.status.busy": "2025-08-27T20:34:01.320118Z",
          "iopub.execute_input": "2025-08-27T20:34:01.320333Z",
          "iopub.status.idle": "2025-08-27T20:34:01.334296Z",
          "shell.execute_reply.started": "2025-08-27T20:34:01.320313Z",
          "shell.execute_reply": "2025-08-27T20:34:01.333690Z"
        }
      },
      "outputs": [],
      "execution_count": 13
    },
    {
      "cell_type": "markdown",
      "source": [
        "### Detect head"
      ],
      "metadata": {
        "id": "jDUHRDgXFsua"
      }
    },
    {
      "cell_type": "code",
      "source": [
        "class DetectHead(nn.Module):\n",
        "    def __init__(self, nc, anchors,\n",
        "               c_in=[128, 128, 256], c_h=[128, 256, 512]) -> None:\n",
        "        super(DetectHead, self).__init__()\n",
        "\n",
        "        self.pan = PathAggregationNetwork(c_in)\n",
        "        self.stride = torch.tensor([8, 16, 32])\n",
        "        self.nc = nc\n",
        "        self.no = nc + 5\n",
        "        self.nl = len(anchors)\n",
        "        self.na = len(anchors[0])\n",
        "        self.grid = [torch.zeros(1)] * self.nl\n",
        "        self.register_buffer('anchor_grid', anchors.float().view(self.nl, 1, -1, 1, 1, 2))\n",
        "        self.detectors = nn.ModuleList(\n",
        "            [nn.Conv2d(n_h, self.no * self.na, 1) for n_h in c_h]\n",
        "        )\n",
        "\n",
        "    def forward(self, x):\n",
        "        x = self.pan(x)\n",
        "\n",
        "        for i in range(self.nl):\n",
        "            x[i] = self.detectors[i](x[i])\n",
        "            bs, _, ny, nx = x[i].shape\n",
        "\n",
        "            if self.grid[i].shape[2:4] != x[i].shape[2:4]:\n",
        "                self.grid[i] = self.make_grid(nx, ny).to(x[i].device)\n",
        "\n",
        "            x[i] = x[i].view(bs, self.na, self.no, ny, nx).permute(0, 1, 3, 4, 2).contiguous()\n",
        "\n",
        "            x[i][..., 0:2] = (x[i][..., 0:2].sigmoid() + self.grid[i]) * self.stride[i]\n",
        "            x[i][..., 2:4] = (x[i][..., 2:4].sigmoid() ** 2) * self.anchor_grid[i].to(x[i].device)\n",
        "\n",
        "            if not self.training:\n",
        "                x[i][..., 4:] = x[i][..., 4:].sigmoid()\n",
        "\n",
        "            x[i] = x[i].view(bs, -1, self.no)\n",
        "\n",
        "        return torch.cat(x, dim=1)\n",
        "\n",
        "    @staticmethod\n",
        "    def make_grid(nx, ny):\n",
        "        yv, xv = torch.meshgrid([torch.arange(ny), torch.arange(nx)])\n",
        "        return torch.stack((xv, yv), 2).view((1, 1, ny, nx, 2)).float()"
      ],
      "metadata": {
        "id": "F6wcsiXMCdf-",
        "trusted": true,
        "execution": {
          "iopub.status.busy": "2025-08-27T20:34:01.334949Z",
          "iopub.execute_input": "2025-08-27T20:34:01.335183Z",
          "iopub.status.idle": "2025-08-27T20:34:01.351036Z",
          "shell.execute_reply.started": "2025-08-27T20:34:01.335163Z",
          "shell.execute_reply": "2025-08-27T20:34:01.350313Z"
        }
      },
      "outputs": [],
      "execution_count": 14
    },
    {
      "cell_type": "markdown",
      "source": [
        "## Full implementation"
      ],
      "metadata": {
        "id": "MGti2OJdCdf_"
      }
    },
    {
      "cell_type": "code",
      "source": [
        "DEFAULT_ANCHORS = torch.tensor([\n",
        "    [(12, 16), (19, 36), (40, 28)],\n",
        "    [(36, 75), (76, 55), (72, 146)],\n",
        "    [(142, 110), (192, 243), (459, 401)]\n",
        "])\n",
        "\n",
        "class YOLOP(nn.Module):\n",
        "    def __init__(self, nc=10, anchors=DEFAULT_ANCHORS):\n",
        "        super(YOLOP, self).__init__()\n",
        "\n",
        "        self.backbone = Backbone()\n",
        "        self.neck = Neck()\n",
        "        self.drivableAreaHead = DrivableAreaSegmentHead(512, [256, 128, 64, 32, 1])\n",
        "        self.laneHead = LaneSegmentHead(128, [64, 32, 1])\n",
        "        self.detectHead = DetectHead(nc, anchors)\n",
        "\n",
        "    def forward(self, x):\n",
        "        x = self.backbone(x)\n",
        "        drivable = self.drivableAreaHead(x[-1])\n",
        "        x = self.neck(x)\n",
        "        lanes = self.laneHead(x[-1])\n",
        "        boxes = self.detectHead(x)\n",
        "\n",
        "        return drivable, lanes, boxes"
      ],
      "metadata": {
        "id": "GsnTXbWlCdf_",
        "trusted": true,
        "execution": {
          "iopub.status.busy": "2025-08-27T20:34:01.351648Z",
          "iopub.execute_input": "2025-08-27T20:34:01.351869Z",
          "iopub.status.idle": "2025-08-27T20:34:01.370426Z",
          "shell.execute_reply.started": "2025-08-27T20:34:01.351854Z",
          "shell.execute_reply": "2025-08-27T20:34:01.369912Z"
        }
      },
      "outputs": [],
      "execution_count": 15
    },
    {
      "cell_type": "code",
      "source": [
        "model = YOLOP()\n",
        "model.eval()\n",
        "x = torch.randint(0, 255, (1, 3, 640, 640)).float()\n",
        "\n",
        "p_drv, p_lanes, p_boxes = model(x)\n",
        "#print(p_drv.shape)\n",
        "#print(p_lanes.shape)\n",
        "#print(p_boxes.shape)\n",
        "print(p_boxes[..., 0:4].min(), p_boxes[..., 0:4].max())\n",
        "print(p_boxes[..., 4].min(), p_boxes[..., 4].max())\n",
        "print(p_boxes[..., 5:].min(), p_boxes[..., 5:].max())\n",
        "\n",
        "del model, x, p_drv, p_lanes, p_boxes\n",
        "torch.cuda.empty_cache()\n",
        "gc.collect()"
      ],
      "metadata": {
        "id": "ycpup8GyCdf_",
        "trusted": true,
        "outputId": "50dbf3de-12db-44d7-eb6a-496e2a017fb3",
        "colab": {
          "base_uri": "https://localhost:8080/"
        },
        "execution": {
          "iopub.status.busy": "2025-08-27T22:13:33.014865Z",
          "iopub.execute_input": "2025-08-27T22:13:33.015620Z",
          "iopub.status.idle": "2025-08-27T22:13:33.883778Z",
          "shell.execute_reply.started": "2025-08-27T22:13:33.015588Z",
          "shell.execute_reply": "2025-08-27T22:13:33.883015Z"
        }
      },
      "outputs": [
        {
          "output_type": "stream",
          "name": "stderr",
          "text": [
            "/usr/local/lib/python3.12/dist-packages/torch/functional.py:554: UserWarning: torch.meshgrid: in an upcoming release, it will be required to pass the indexing argument. (Triggered internally at /pytorch/aten/src/ATen/native/TensorShape.cpp:4322.)\n",
            "  return _VF.meshgrid(tensors, **kwargs)  # type: ignore[attr-defined]\n"
          ]
        },
        {
          "output_type": "stream",
          "name": "stdout",
          "text": [
            "tensor(3.2493, grad_fn=<MinBackward1>) tensor(636.1278, grad_fn=<MaxBackward1>)\n",
            "tensor(0.4855, grad_fn=<MinBackward1>) tensor(0.5196, grad_fn=<MaxBackward1>)\n",
            "tensor(0.4841, grad_fn=<MinBackward1>) tensor(0.5207, grad_fn=<MaxBackward1>)\n"
          ]
        },
        {
          "output_type": "execute_result",
          "data": {
            "text/plain": [
              "0"
            ]
          },
          "metadata": {},
          "execution_count": 16
        }
      ],
      "execution_count": 16
    },
    {
      "cell_type": "markdown",
      "source": [
        "# Dataset"
      ],
      "metadata": {
        "id": "zVhAr5ruCdf6"
      }
    },
    {
      "cell_type": "markdown",
      "source": [
        "## Download dataset"
      ],
      "metadata": {
        "id": "zIIYhU38F3ku"
      }
    },
    {
      "cell_type": "code",
      "source": [
        "import kagglehub\n",
        "\n",
        "# Download latest version\n",
        "DATASET_PATH = kagglehub.dataset_download(\"alesssaulea/bdd100k\")\n",
        "DATASET_PATH"
      ],
      "metadata": {
        "id": "8OkQW1VtIPqQ",
        "trusted": true,
        "outputId": "70450b6d-44cb-4f3b-ace1-fc56d652840f",
        "colab": {
          "base_uri": "https://localhost:8080/",
          "height": 105
        },
        "execution": {
          "iopub.status.busy": "2025-08-27T20:34:02.883409Z",
          "iopub.execute_input": "2025-08-27T20:34:02.883698Z",
          "iopub.status.idle": "2025-08-27T20:34:02.887041Z",
          "shell.execute_reply.started": "2025-08-27T20:34:02.883681Z",
          "shell.execute_reply": "2025-08-27T20:34:02.886325Z"
        }
      },
      "outputs": [
        {
          "output_type": "stream",
          "name": "stdout",
          "text": [
            "Warning: Looks like you're using an outdated `kagglehub` version (installed: 0.3.12), please consider upgrading to the latest version (0.3.13).\n",
            "Downloading from https://www.kaggle.com/api/v1/datasets/download/alesssaulea/bdd100k?dataset_version_number=2...\n"
          ]
        },
        {
          "output_type": "stream",
          "name": "stderr",
          "text": [
            "100%|██████████| 5.80G/5.80G [01:09<00:00, 89.0MB/s]"
          ]
        },
        {
          "output_type": "stream",
          "name": "stdout",
          "text": [
            "Extracting files...\n"
          ]
        },
        {
          "output_type": "stream",
          "name": "stderr",
          "text": [
            "\n"
          ]
        },
        {
          "output_type": "execute_result",
          "data": {
            "text/plain": [
              "'/root/.cache/kagglehub/datasets/alesssaulea/bdd100k/versions/2'"
            ],
            "application/vnd.google.colaboratory.intrinsic+json": {
              "type": "string"
            }
          },
          "metadata": {},
          "execution_count": 17
        }
      ],
      "execution_count": 17
    },
    {
      "cell_type": "code",
      "source": [
        "# DATASET_PATH = '/kaggle/input/bdd100k'"
      ],
      "metadata": {
        "id": "iqk1XDCYO3wW",
        "trusted": true,
        "execution": {
          "iopub.status.busy": "2025-08-27T20:34:02.887807Z",
          "iopub.execute_input": "2025-08-27T20:34:02.888001Z",
          "iopub.status.idle": "2025-08-27T20:34:02.902896Z",
          "shell.execute_reply.started": "2025-08-27T20:34:02.887987Z",
          "shell.execute_reply": "2025-08-27T20:34:02.902299Z"
        }
      },
      "outputs": [],
      "execution_count": 18
    },
    {
      "cell_type": "markdown",
      "source": [
        "## Paths"
      ],
      "metadata": {
        "id": "h7JnbMCeCdf7"
      }
    },
    {
      "cell_type": "code",
      "source": [
        "IMAGE_TRAIN_PATH = DATASET_PATH + '/images/100k/train'\n",
        "IMAGE_VAL_PATH = DATASET_PATH + '/images/100k/val'\n",
        "\n",
        "DET_TRAIN_PATH = DATASET_PATH + '/labels/det_20/train'\n",
        "DET_VAL_PATH = DATASET_PATH + '/labels/det_20/val'\n",
        "\n",
        "DRIVABLE_TRAIN_PATH = DATASET_PATH + '/labels/drivable/colormaps/train'\n",
        "DRIVABLE_VAL_PATH = DATASET_PATH + '/labels/drivable/colormaps/val'\n",
        "\n",
        "LANE_TRAIN_PATH = DATASET_PATH + '/labels/lane/colormaps/train'\n",
        "LANE_VAL_PATH = DATASET_PATH + '/labels/lane/colormaps/val'"
      ],
      "metadata": {
        "id": "u1yvXYtXCdf7",
        "trusted": true,
        "execution": {
          "iopub.status.busy": "2025-08-27T20:34:02.903607Z",
          "iopub.execute_input": "2025-08-27T20:34:02.903882Z",
          "iopub.status.idle": "2025-08-27T20:34:02.917557Z",
          "shell.execute_reply.started": "2025-08-27T20:34:02.903864Z",
          "shell.execute_reply": "2025-08-27T20:34:02.916984Z"
        }
      },
      "outputs": [],
      "execution_count": 19
    },
    {
      "cell_type": "markdown",
      "source": [
        "## Utils"
      ],
      "metadata": {
        "id": "rp2fRNdRCdf7"
      }
    },
    {
      "cell_type": "code",
      "source": [
        "CATEGORY_TO_INT = {\n",
        "  \"bicycle\": 0,\n",
        "  \"bus\": 1,\n",
        "  \"car\": 2,\n",
        "  \"motorcycle\": 3,\n",
        "  \"person\": 4,\n",
        "  \"pedestrian\": 4,\n",
        "  \"rider\": 5,\n",
        "  \"traffic light\": 6,\n",
        "  \"traffic sign\": 7,\n",
        "  \"train\": 8,\n",
        "  \"truck\": 9,\n",
        "  \"trailer\": 9\n",
        "}"
      ],
      "metadata": {
        "id": "EmAi4m5tCdf7",
        "trusted": true,
        "execution": {
          "iopub.status.busy": "2025-08-27T20:34:02.918383Z",
          "iopub.execute_input": "2025-08-27T20:34:02.918665Z",
          "iopub.status.idle": "2025-08-27T20:34:02.933127Z",
          "shell.execute_reply.started": "2025-08-27T20:34:02.918641Z",
          "shell.execute_reply": "2025-08-27T20:34:02.932554Z"
        }
      },
      "outputs": [],
      "execution_count": 20
    },
    {
      "cell_type": "markdown",
      "source": [
        "## Dataset class"
      ],
      "metadata": {
        "id": "dplfIIFDCdf8"
      }
    },
    {
      "cell_type": "code",
      "source": [
        "class BDD100K(Dataset):\n",
        "    def __init__(self, img_dir, drv_dir, lane_dir, det_dir, out_s, n=0, train=True):\n",
        "        self.img_dir = img_dir\n",
        "        self.drv_dir = drv_dir\n",
        "        self.lane_dir = lane_dir\n",
        "        self.det_dir = det_dir\n",
        "        self.out_s = out_s\n",
        "        self.transform = ToTensorV2()\n",
        "        self.train = train\n",
        "\n",
        "        img_list: list[str] = os.listdir(self.img_dir)\n",
        "        if n > 0:\n",
        "            img_list = random.sample(img_list, n)\n",
        "\n",
        "        self.images = []\n",
        "        for file in tqdm(img_list, total=len(img_list)):\n",
        "            self.images.append(self.load_image(file))\n",
        "\n",
        "        if self.train:\n",
        "            self.anchors = self.generate_anchors()\n",
        "\n",
        "    def load_image(self, file):\n",
        "        img_path = self.img_dir + '/' + file\n",
        "        det_path = self.det_dir + '/' + file.replace('.jpg', '.json')\n",
        "        drv_path = self.drv_dir + '/' + file.replace('.jpg', '.png')\n",
        "        lane_path = self.lane_dir + '/' + file.replace('.jpg', '.png')\n",
        "\n",
        "        img = cv2.imread(img_path)\n",
        "        h, w, _ = img.shape\n",
        "        img = cv2.resize(img, self.out_s)\n",
        "\n",
        "        drv = cv2.imread(drv_path, cv2.IMREAD_GRAYSCALE)\n",
        "        drv = cv2.resize(drv, self.out_s)\n",
        "        drv = (drv > 0).astype(np.float32)\n",
        "\n",
        "        lanes = cv2.imread(lane_path, cv2.IMREAD_GRAYSCALE)\n",
        "        lanes = cv2.resize(lanes, self.out_s)\n",
        "        lanes = (lanes > 0).astype(np.float32)\n",
        "\n",
        "        try:\n",
        "            with open(det_path) as f:\n",
        "                obj = json.load(f)\n",
        "                labels = obj['labels'] if 'labels' in obj else []\n",
        "        except:\n",
        "            labels = []\n",
        "\n",
        "        boxes = []\n",
        "        sw, sh = self.out_s\n",
        "        ratio_x, ratio_y = sw / w, sh / h\n",
        "\n",
        "        for lbl in labels:\n",
        "            if lbl['category'] in CATEGORY_TO_INT:\n",
        "                cat = CATEGORY_TO_INT[lbl['category']]\n",
        "                x1 = lbl['box2d']['x1'] * ratio_x\n",
        "                y1 = lbl['box2d']['y1'] * ratio_y\n",
        "                x2 = lbl['box2d']['x2'] * ratio_x\n",
        "                y2 = lbl['box2d']['y2'] * ratio_y\n",
        "\n",
        "                assert 0 <= x1 <= sw\n",
        "                assert 0 <= y1 <= sh\n",
        "                assert 0 <= x2 <= sw\n",
        "                assert 0 <= y2 <= sh\n",
        "\n",
        "                xc = (x1 + x2) / 2\n",
        "                yc = (y1 + y2) / 2\n",
        "                wb = abs(x1 - x2)\n",
        "                hb = abs(y1 - y2)\n",
        "\n",
        "                assert wb > 0\n",
        "                assert hb > 0\n",
        "\n",
        "                boxes.append((xc, yc, wb, hb, cat))\n",
        "\n",
        "        transf = self.transform(image=img, masks=[drv, lanes])\n",
        "        img = transf['image'].float()\n",
        "        drv, lanes = transf['masks']\n",
        "\n",
        "        return [img, drv, lanes, torch.tensor(boxes)]\n",
        "\n",
        "    def generate_anchors(self):\n",
        "        boxes = [[wb, hb] for _, _, _, lbls in self.images for _, _, wb, hb, _ in lbls]\n",
        "        kmeans = KMeans(n_clusters=9, random_state=0)\n",
        "        kmeans.fit(boxes)\n",
        "        anchors = kmeans.cluster_centers_\n",
        "        anchors = anchors[np.argsort(anchors[:, 0] * anchors[:, 1])]\n",
        "        return torch.tensor(anchors).reshape((3, 3, 2)).float()\n",
        "\n",
        "    def __getitem__(self, index):\n",
        "        return self.images[index]\n",
        "\n",
        "    def __len__(self):\n",
        "        return len(self.images)"
      ],
      "metadata": {
        "id": "7FfRETUFCdf8",
        "trusted": true,
        "execution": {
          "iopub.status.busy": "2025-08-27T20:34:02.933747Z",
          "iopub.execute_input": "2025-08-27T20:34:02.933913Z",
          "iopub.status.idle": "2025-08-27T20:34:02.953392Z",
          "shell.execute_reply.started": "2025-08-27T20:34:02.933901Z",
          "shell.execute_reply": "2025-08-27T20:34:02.952822Z"
        }
      },
      "outputs": [],
      "execution_count": 21
    },
    {
      "cell_type": "markdown",
      "source": [
        "# Training"
      ],
      "metadata": {
        "id": "zw1XC7AlCdf_"
      }
    },
    {
      "cell_type": "markdown",
      "source": [
        "## Setup"
      ],
      "metadata": {
        "id": "-8Pqlp8pCdf_"
      }
    },
    {
      "cell_type": "code",
      "source": [
        "device = torch.device('cuda' if torch.cuda.is_available() else 'cpu')\n",
        "device"
      ],
      "metadata": {
        "id": "4uMGCvn0Cdf_",
        "trusted": true,
        "outputId": "240966eb-def0-49a5-8190-bd5eed8e953e",
        "colab": {
          "base_uri": "https://localhost:8080/"
        },
        "execution": {
          "iopub.status.busy": "2025-08-27T20:34:02.954110Z",
          "iopub.execute_input": "2025-08-27T20:34:02.954289Z",
          "iopub.status.idle": "2025-08-27T20:34:03.032852Z",
          "shell.execute_reply.started": "2025-08-27T20:34:02.954264Z",
          "shell.execute_reply": "2025-08-27T20:34:03.032147Z"
        }
      },
      "outputs": [
        {
          "output_type": "execute_result",
          "data": {
            "text/plain": [
              "device(type='cuda')"
            ]
          },
          "metadata": {},
          "execution_count": 22
        }
      ],
      "execution_count": 22
    },
    {
      "cell_type": "code",
      "source": [
        "dataset = BDD100K(IMAGE_TRAIN_PATH, DRIVABLE_TRAIN_PATH, LANE_TRAIN_PATH, DET_TRAIN_PATH, (640, 640), n=300)"
      ],
      "metadata": {
        "id": "1rsz1183CdgA",
        "trusted": true,
        "outputId": "0a740a99-1a8e-47cd-b990-94a590033a15",
        "colab": {
          "base_uri": "https://localhost:8080/"
        },
        "execution": {
          "iopub.status.busy": "2025-08-27T20:34:03.036196Z",
          "iopub.execute_input": "2025-08-27T20:34:03.036369Z",
          "iopub.status.idle": "2025-08-27T20:34:17.298920Z",
          "shell.execute_reply.started": "2025-08-27T20:34:03.036357Z",
          "shell.execute_reply": "2025-08-27T20:34:17.297991Z"
        }
      },
      "outputs": [
        {
          "output_type": "stream",
          "name": "stderr",
          "text": [
            "100%|██████████| 300/300 [00:06<00:00, 43.73it/s]\n"
          ]
        }
      ],
      "execution_count": 23
    },
    {
      "cell_type": "code",
      "source": [
        "def collate_fn(batch):\n",
        "    imgs, drvs, lanes, lbls = zip(*batch)\n",
        "    return list(imgs), list(drvs), list(lanes), list(lbls)"
      ],
      "metadata": {
        "id": "-U8WPd6mCdgA",
        "trusted": true,
        "execution": {
          "iopub.status.busy": "2025-08-27T20:34:17.299890Z",
          "iopub.execute_input": "2025-08-27T20:34:17.300112Z",
          "iopub.status.idle": "2025-08-27T20:34:17.304680Z",
          "shell.execute_reply.started": "2025-08-27T20:34:17.300094Z",
          "shell.execute_reply": "2025-08-27T20:34:17.303823Z"
        }
      },
      "outputs": [],
      "execution_count": 24
    },
    {
      "cell_type": "code",
      "source": [
        "data_loader = DataLoader(dataset, batch_size=8, shuffle=True, collate_fn=collate_fn)"
      ],
      "metadata": {
        "id": "Mul9FgWmCdgA",
        "trusted": true,
        "execution": {
          "iopub.status.busy": "2025-08-27T20:34:17.305452Z",
          "iopub.execute_input": "2025-08-27T20:34:17.305751Z",
          "iopub.status.idle": "2025-08-27T20:34:17.323713Z",
          "shell.execute_reply.started": "2025-08-27T20:34:17.305727Z",
          "shell.execute_reply": "2025-08-27T20:34:17.323029Z"
        }
      },
      "outputs": [],
      "execution_count": 25
    },
    {
      "cell_type": "markdown",
      "source": [
        "## Loss function"
      ],
      "metadata": {
        "id": "vqbdGvWHCdgA"
      }
    },
    {
      "cell_type": "code",
      "source": [
        "def center_regions(boxes, radius=2.5):\n",
        "    center_w = boxes[:, 2] / radius\n",
        "    center_h = boxes[:, 3] / radius\n",
        "\n",
        "    cx1 = boxes[:, 0] - center_w\n",
        "    cy1 = boxes[:, 1] - center_h\n",
        "    cx2 = boxes[:, 0] + center_w\n",
        "    cy2 = boxes[:, 1] + center_h\n",
        "\n",
        "    return torch.cat([cx1.unsqueeze(1), cy1.unsqueeze(1), cx2.unsqueeze(1), cy2.unsqueeze(1)], dim=1)"
      ],
      "metadata": {
        "id": "VLaA7qxxJ1Sy",
        "trusted": true,
        "execution": {
          "iopub.status.busy": "2025-08-27T20:34:17.324551Z",
          "iopub.execute_input": "2025-08-27T20:34:17.324850Z",
          "iopub.status.idle": "2025-08-27T20:34:17.340843Z",
          "shell.execute_reply.started": "2025-08-27T20:34:17.324824Z",
          "shell.execute_reply": "2025-08-27T20:34:17.340301Z"
        }
      },
      "outputs": [],
      "execution_count": 26
    },
    {
      "cell_type": "code",
      "source": [
        "def filter_pred_in_center_region(p_boxes, c_regions):\n",
        "    gt_x1 = c_regions[:, 0].unsqueeze(1)\n",
        "    gt_y1 = c_regions[:, 1].unsqueeze(1)\n",
        "    gt_x2 = c_regions[:, 2].unsqueeze(1)\n",
        "    gt_y2 = c_regions[:, 3].unsqueeze(1)\n",
        "\n",
        "    px = p_boxes[:, 0].unsqueeze(0)\n",
        "    py = p_boxes[:, 1].unsqueeze(0)\n",
        "\n",
        "    in_x = (px >= gt_x1) & (px <= gt_x2)\n",
        "    in_y = (py >= gt_y1) & (py <= gt_y2)\n",
        "\n",
        "    return in_x & in_y"
      ],
      "metadata": {
        "id": "kZrwwYE0bT5M",
        "trusted": true,
        "execution": {
          "iopub.status.busy": "2025-08-27T20:34:17.341540Z",
          "iopub.execute_input": "2025-08-27T20:34:17.341762Z",
          "iopub.status.idle": "2025-08-27T20:34:17.356899Z",
          "shell.execute_reply.started": "2025-08-27T20:34:17.341744Z",
          "shell.execute_reply": "2025-08-27T20:34:17.356216Z"
        }
      },
      "outputs": [],
      "execution_count": 27
    },
    {
      "cell_type": "code",
      "source": [
        "def compute_iou(boxes1, boxes2):\n",
        "    boxes1_xyxy = ops.box_convert(boxes1, 'cxcywh', 'xyxy')\n",
        "    boxes2_xyxy = ops.box_convert(boxes2, 'cxcywh', 'xyxy')\n",
        "    return ops.box_iou(boxes1_xyxy, boxes2_xyxy)"
      ],
      "metadata": {
        "id": "G-RR-45Wb-6w",
        "trusted": true,
        "execution": {
          "iopub.status.busy": "2025-08-27T20:34:17.357504Z",
          "iopub.execute_input": "2025-08-27T20:34:17.357684Z",
          "iopub.status.idle": "2025-08-27T20:34:17.374951Z",
          "shell.execute_reply.started": "2025-08-27T20:34:17.357670Z",
          "shell.execute_reply": "2025-08-27T20:34:17.374489Z"
        }
      },
      "outputs": [],
      "execution_count": 28
    },
    {
      "cell_type": "code",
      "source": [
        "def simota(p_boxes, gt_boxes, l_iou=6.0, l_cls=1.0):\n",
        "    num_pred = len(p_boxes)\n",
        "    num_gt = len(gt_boxes)\n",
        "    nc = p_boxes.size(-1) - 5\n",
        "\n",
        "    c_regions = center_regions(gt_boxes)\n",
        "    is_in_center = filter_pred_in_center_region(p_boxes, c_regions)\n",
        "\n",
        "    ious = compute_iou(gt_boxes[:, :4], p_boxes[:, :4])\n",
        "    iou_cost = 1 - ious\n",
        "\n",
        "    gt_cls = F.one_hot(gt_boxes[:, 4].long(), nc).unsqueeze(1).repeat(1, num_pred, 1).float()\n",
        "    pred_cls = p_boxes[:, 5:].unsqueeze(0).repeat(num_gt, 1, 1)\n",
        "    cls_cost = F.binary_cross_entropy_with_logits(pred_cls, gt_cls, reduction='none').sum(-1)\n",
        "\n",
        "    cost = l_iou * iou_cost + l_cls * cls_cost\n",
        "    cost[~is_in_center] = torch.inf\n",
        "\n",
        "    matched_gt_indices = []\n",
        "    matched_pred_indices = []\n",
        "\n",
        "    for i in range(num_gt):\n",
        "        iou_row = ious[i]\n",
        "        top_k = min(10, iou_row.size(0))\n",
        "        topk_ious, _ = torch.topk(iou_row, top_k)\n",
        "\n",
        "        dynamic_k = max(topk_ious.sum().int().item(), 1)\n",
        "\n",
        "        valid_cost = torch.where(torch.isfinite(cost[i]), cost[i], torch.full_like(cost[i], 1e6))\n",
        "        _, topk_cost_idx = torch.topk(valid_cost, dynamic_k, largest=False)\n",
        "\n",
        "        matched_pred_indices.append(topk_cost_idx)\n",
        "        matched_gt_indices.append(torch.full_like(topk_cost_idx, i))\n",
        "\n",
        "    matched_pred_indices = torch.cat(matched_pred_indices)\n",
        "    matched_gt_indices = torch.cat(matched_gt_indices)\n",
        "\n",
        "    unique_pred_indices = matched_pred_indices.unique()\n",
        "    final_gt_indices = torch.full_like(unique_pred_indices, -1)\n",
        "\n",
        "    for i, pred_idx in enumerate(unique_pred_indices):\n",
        "        mask = matched_pred_indices == pred_idx\n",
        "        costs = cost[matched_gt_indices[mask], matched_pred_indices[mask]]\n",
        "        min_cost_idx = torch.argmin(costs)\n",
        "        final_gt_indices[i] = matched_gt_indices[mask][min_cost_idx]\n",
        "\n",
        "    matched_preds = p_boxes[unique_pred_indices]\n",
        "    matched_gts = gt_boxes[final_gt_indices]\n",
        "\n",
        "    return unique_pred_indices, final_gt_indices"
      ],
      "metadata": {
        "id": "qxz2YH6WL0GX",
        "trusted": true,
        "execution": {
          "iopub.status.busy": "2025-08-27T21:19:34.928971Z",
          "iopub.execute_input": "2025-08-27T21:19:34.929257Z",
          "iopub.status.idle": "2025-08-27T21:19:34.937638Z",
          "shell.execute_reply.started": "2025-08-27T21:19:34.929237Z",
          "shell.execute_reply": "2025-08-27T21:19:34.936894Z"
        }
      },
      "outputs": [],
      "execution_count": 29
    },
    {
      "cell_type": "code",
      "source": [
        "def detection_loss(p_boxes, gt_boxes, l_obj=0.5, l_cls=1.0, l_reg=5.0):\n",
        "    b = len(p_boxes)\n",
        "    reg_loss = torch.tensor(0., device=p_boxes.device)\n",
        "    obj_loss = torch.tensor(0., device=p_boxes.device)\n",
        "    cls_loss = torch.tensor(0., device=p_boxes.device)\n",
        "\n",
        "    for bi in range(b):\n",
        "        p_boxes_i = p_boxes[bi]\n",
        "        gt_boxes_i = gt_boxes[bi]\n",
        "\n",
        "        if len(gt_boxes_i) == 0:\n",
        "            continue\n",
        "\n",
        "        nc = p_boxes_i.size(-1) - 5\n",
        "\n",
        "        unique_pred_indices, final_gt_indices = simota(p_boxes_i, gt_boxes_i)\n",
        "        num_pos = len(unique_pred_indices)\n",
        "\n",
        "        matched_preds = p_boxes_i[unique_pred_indices]\n",
        "        matched_gts = gt_boxes_i[final_gt_indices]\n",
        "\n",
        "        reg_loss += (1.0 - compute_iou(matched_preds[:, :4], matched_gts[:, :4]).diag()).sum() / num_pos\n",
        "\n",
        "        obj_target = torch.zeros_like(p_boxes_i[:, 4], device=p_boxes.device)\n",
        "        obj_target[unique_pred_indices] = 1.0\n",
        "        obj_loss += ops.sigmoid_focal_loss(p_boxes_i[:, 4], obj_target, reduction='sum') / num_pos\n",
        "\n",
        "        gt_cls = F.one_hot(matched_gts[:, 4].long(), nc).float().to(p_boxes.device)\n",
        "        cls_loss += ops.sigmoid_focal_loss(matched_preds[:, 5:], gt_cls, reduction='sum') / num_pos\n",
        "\n",
        "    return (l_obj * obj_loss + l_cls * cls_loss + l_reg * reg_loss) / b\n",
        "\n",
        "def compute_loss(gt_drv, gt_lanes, gt_boxes, p_drv, p_lanes, p_boxes, l_drv=0.2, l_lanes=0.2, l_det=0.75):\n",
        "    det_loss = detection_loss(p_boxes, gt_boxes)\n",
        "    #drv_loss = F.binary_cross_entropy_with_logits(p_drv.squeeze(1), gt_drv, reduction='mean')\n",
        "    #lanes_loss = ops.sigmoid_focal_loss(p_lanes.squeeze(1), gt_lanes, reduction='mean')\n",
        "\n",
        "    #return l_det * det_loss + l_drv * drv_loss + l_lanes * lanes_loss\n",
        "    return det_loss"
      ],
      "metadata": {
        "id": "g3SlKAGlCdgA",
        "trusted": true,
        "execution": {
          "iopub.status.busy": "2025-08-27T22:08:48.797038Z",
          "iopub.execute_input": "2025-08-27T22:08:48.797287Z",
          "iopub.status.idle": "2025-08-27T22:08:48.804800Z",
          "shell.execute_reply.started": "2025-08-27T22:08:48.797271Z",
          "shell.execute_reply": "2025-08-27T22:08:48.804050Z"
        }
      },
      "outputs": [],
      "execution_count": 30
    },
    {
      "cell_type": "markdown",
      "source": [
        "## Metrics"
      ],
      "metadata": {
        "id": "tA-U9Ga6CaTb"
      }
    },
    {
      "cell_type": "code",
      "source": [
        "def compute_recall(pred_batch, gt_batch, iou_th=0.0, conf_th=0.3):\n",
        "    total_tp, total_fn = 0, 0\n",
        "\n",
        "    for i in range(len(pred_batch)):\n",
        "        pred = pred_batch[i]\n",
        "        gt = gt_batch[i]\n",
        "\n",
        "        if gt.numel() == 0:\n",
        "            continue\n",
        "\n",
        "        if pred.numel() == 0:\n",
        "            total_fn += len(gt)\n",
        "            continue\n",
        "\n",
        "        pred = pred[pred[:, 4] > conf_th]\n",
        "\n",
        "        if pred.numel() == 0:\n",
        "            total_fn += len(gt)\n",
        "            continue\n",
        "\n",
        "        p_boxes = pred[:, :4]\n",
        "        p_scores = pred[:, 4]\n",
        "        p_cls = pred[:, 5:].argmax(dim=-1)\n",
        "\n",
        "        gt_boxes = gt[:, :4]\n",
        "        gt_cls = gt[:, 4]\n",
        "\n",
        "        ious = compute_iou(p_boxes, gt_boxes)\n",
        "\n",
        "        matched_gt = torch.zeros(len(gt_boxes), dtype=torch.bool)\n",
        "        tp = 0\n",
        "\n",
        "        for j in range(len(pred)):\n",
        "            max_iou, gt_idx = ious[j].max(0)\n",
        "\n",
        "            if max_iou >= iou_th and not matched_gt[gt_idx.item()] and p_cls[j] == gt_cls[gt_idx]:\n",
        "                tp += 1\n",
        "                matched_gt[gt_idx.item()] = True\n",
        "\n",
        "        fn = len(gt_boxes) - matched_gt.sum()\n",
        "        total_tp += tp\n",
        "        total_fn += fn\n",
        "\n",
        "    return total_tp / (total_tp + total_fn) if total_tp + total_fn > 0 else 0"
      ],
      "metadata": {
        "id": "GWUgbWB0D6eQ",
        "trusted": true,
        "execution": {
          "iopub.status.busy": "2025-08-27T21:47:01.299597Z",
          "iopub.execute_input": "2025-08-27T21:47:01.299868Z",
          "iopub.status.idle": "2025-08-27T21:47:01.306590Z",
          "shell.execute_reply.started": "2025-08-27T21:47:01.299847Z",
          "shell.execute_reply": "2025-08-27T21:47:01.305772Z"
        }
      },
      "outputs": [],
      "execution_count": 31
    },
    {
      "cell_type": "markdown",
      "source": [
        "## Training loop"
      ],
      "metadata": {
        "id": "2lgXd21QCdgK"
      }
    },
    {
      "cell_type": "code",
      "source": [
        "torch.cuda.empty_cache()\n",
        "gc.collect()"
      ],
      "metadata": {
        "id": "Hjw2jSR1MHLE",
        "trusted": true,
        "outputId": "e03643df-6460-4543-ef15-c2e5f94d3956",
        "colab": {
          "base_uri": "https://localhost:8080/"
        },
        "execution": {
          "iopub.status.busy": "2025-08-27T22:19:26.117775Z",
          "iopub.execute_input": "2025-08-27T22:19:26.118092Z",
          "iopub.status.idle": "2025-08-27T22:19:26.310658Z",
          "shell.execute_reply.started": "2025-08-27T22:19:26.118071Z",
          "shell.execute_reply": "2025-08-27T22:19:26.309703Z"
        }
      },
      "outputs": [
        {
          "output_type": "execute_result",
          "data": {
            "text/plain": [
              "562"
            ]
          },
          "metadata": {},
          "execution_count": 34
        }
      ],
      "execution_count": 34
    },
    {
      "cell_type": "code",
      "source": [
        "model = YOLOP(anchors=dataset.anchors).to(device)\n",
        "\n",
        "optimizer = optim.SGD(model.parameters(), lr=0.01, momentum=0.937, weight_decay=0.005)\n",
        "scheduler = optim.lr_scheduler.CosineAnnealingWarmRestarts(optimizer, 10, 2, 1e-5)\n",
        "\n",
        "epochs = 100\n",
        "patience, counter = 5, 0\n",
        "best_loss = float('inf')\n",
        "\n",
        "for epoch in range(epochs):\n",
        "    model.train()\n",
        "    epoch_loss = 0\n",
        "\n",
        "    for images, gt_drv, gt_lanes, gt_boxes in tqdm(data_loader):\n",
        "        images = torch.stack(images).float().to(device)\n",
        "        gt_drv = torch.stack(gt_drv).to(device)\n",
        "        gt_lanes = torch.stack(gt_lanes).to(device)\n",
        "        gt_boxes = [boxes.to(device) for boxes in gt_boxes]\n",
        "\n",
        "        #forward pass\n",
        "        p_drv, p_lanes, p_boxes = model(images)\n",
        "\n",
        "        assert not torch.any(torch.isnan(p_boxes))\n",
        "        assert torch.any(p_boxes[..., :4] >= 0)\n",
        "        assert torch.any(p_boxes[..., :4] <= 640)\n",
        "\n",
        "        #loss calculation\n",
        "        loss = compute_loss(gt_drv, gt_lanes, gt_boxes, p_drv, p_lanes, p_boxes)\n",
        "\n",
        "        #Backpropagation\n",
        "        optimizer.zero_grad()\n",
        "        loss.backward()\n",
        "        optimizer.step()\n",
        "\n",
        "        epoch_loss += loss.item()\n",
        "\n",
        "    if epoch_loss < best_loss:\n",
        "        best_loss = epoch_loss\n",
        "        counter = 0\n",
        "        torch.save(model.state_dict(), \"yolop_v2_mini.pth\")\n",
        "    else:\n",
        "        counter += 1\n",
        "\n",
        "    # model.eval()\n",
        "    recall_score = 0\n",
        "\n",
        "    # with torch.no_grad():\n",
        "    #     for images, gt_drv, gt_lanes, gt_boxes in tqdm(data_loader):\n",
        "    #         images = torch.stack(images).float().to(device)\n",
        "    #         gt_drv = torch.stack(gt_drv).to(device)\n",
        "    #         gt_lanes = torch.stack(gt_lanes).to(device)\n",
        "    #         gt_boxes = [boxes.to(device) for boxes in gt_boxes]\n",
        "\n",
        "    #         #forward pass\n",
        "    #         p_drv, p_lanes, p_boxes = model(images)\n",
        "\n",
        "    #         recall_score += compute_recall(p_boxes, gt_boxes)\n",
        "\n",
        "    #         del p_drv, p_lanes, p_boxes\n",
        "\n",
        "    # recall_score /= len(data_loader)\n",
        "\n",
        "    # pick first batch item\n",
        "    images, _, _, gt_boxes_batch = next(iter(data_loader))\n",
        "    images = torch.stack(images).float().to(device)\n",
        "    gt_boxes_batch = [b.to(device) for b in gt_boxes_batch]\n",
        "\n",
        "    model.eval()\n",
        "    with torch.no_grad():\n",
        "        p_drv, p_lanes, p_boxes_batch = model(images)\n",
        "\n",
        "    # choose first image in batch\n",
        "    i = 0\n",
        "    pred = p_boxes_batch[i].detach().cpu()   # shape [N, 5+nc]\n",
        "    gt   = gt_boxes_batch[i].detach().cpu()  # shape [M, 5]\n",
        "\n",
        "    # print(\"num_preds, num_gt:\", pred.shape[0], gt.shape[0])\n",
        "    # print(\"pred (cx,cy,w,h,obj) sample rows (first 10):\")\n",
        "    # print(pred[:10, :6])\n",
        "    # print(\"gt (cx,cy,w,h,cls) sample rows (first 10):\")\n",
        "    # print(gt[:10])\n",
        "\n",
        "    # # are preds logits or probs?\n",
        "    # print(\"pred obj min/max:\", pred[:,4].min().item(), pred[:,4].max().item())\n",
        "    # print(\"pred class logits min/max:\", pred[:,5:].min().item(), pred[:,5:].max().item())\n",
        "\n",
        "    # # convert to xyxy for IoU (both are in cxcywh pixels per your code)\n",
        "    # pred_xyxy = ops.box_convert(pred[:, :4], in_fmt='cxcywh', out_fmt='xyxy')  # [N,4]\n",
        "    # gt_xyxy   = ops.box_convert(gt[:, :4],   in_fmt='cxcywh', out_fmt='xyxy')  # [M,4]\n",
        "\n",
        "    # ious = ops.box_iou(pred_xyxy.to(pred.device), gt_xyxy.to(pred.device))  # note shape: (N, M)\n",
        "    # print(\"IoU shape (N, M):\", ious.shape)\n",
        "    # print(\"max IoU overall:\", ious.max().item())\n",
        "    # print(\"max IoU per GT (cpu):\", ious.max(dim=0).values.cpu().numpy())\n",
        "    # print(\"max IoU per pred (cpu):\", ious.max(dim=1).values.cpu().numpy()[:20])  # first 20 preds\n",
        "\n",
        "    # conf_th = 0.3   # same as your compute_recall\n",
        "    # scores = pred[:, 4].clone()\n",
        "    # # if these are logits, convert to probs for human inspection:\n",
        "    # if scores.min() < 0 or scores.max() > 1:\n",
        "    #     scores = torch.sigmoid(scores)\n",
        "\n",
        "    # keep_conf_mask = scores > conf_th\n",
        "    # print(\"num preds above conf_th:\", keep_conf_mask.sum().item(), \"out of\", pred.shape[0])\n",
        "    # print(\"scores above conf sample:\", scores[keep_conf_mask][:20].cpu().numpy())\n",
        "\n",
        "    # # optional NMS check\n",
        "    # if keep_conf_mask.sum() > 0:\n",
        "    #     kept_indices = keep_conf_mask.nonzero(as_tuple=False).squeeze(1)\n",
        "    #     boxes_keep = pred_xyxy[kept_indices]\n",
        "    #     scores_keep = scores[kept_indices].cpu()\n",
        "    #     keep_nms = ops.nms(boxes_keep, scores_keep, iou_threshold=0.5)\n",
        "    #     print(\"after NMS kept:\", keep_nms.numel())\n",
        "    # else:\n",
        "    #     print(\"no preds above conf_th\")\n",
        "\n",
        "    # # predicted class ids\n",
        "    # p_cls = pred[:, 5:].argmax(dim=-1)\n",
        "    # print(\"pred classes unique:\", torch.unique(p_cls)[:20].cpu().numpy())\n",
        "\n",
        "    # # gt class ids\n",
        "    # gt_cls = gt[:, 4].long()\n",
        "    # print(\"gt classes unique:\", torch.unique(gt_cls)[:20].cpu().numpy())\n",
        "\n",
        "    # # sample equality check for top preds:\n",
        "    # if pred.shape[0] and gt.shape[0]:\n",
        "    #     print(\"sample pred cls, sample gt cls:\", p_cls[:5].cpu().numpy(), gt_cls[:5].cpu().numpy())\n",
        "\n",
        "    recall_loose = compute_recall([pred.to(device)], [gt.to(device)])\n",
        "    print(\"recall with iou=0.1 conf=0.01:\", recall_loose)\n",
        "\n",
        "    print(f\"Epoch {epoch+1}/{epochs}, Loss: {epoch_loss:.4f}, recall: {recall_score:.4f}\")\n",
        "\n",
        "    if counter >= patience:\n",
        "        print('Training stopped early')\n",
        "        break\n",
        "\n",
        "del model, p_drv, p_lanes, p_boxes, loss\n",
        "torch.cuda.empty_cache()\n",
        "gc.collect()"
      ],
      "metadata": {
        "id": "q7pl53WwCdgK",
        "trusted": true,
        "outputId": "cbbc7651-47b8-4d7e-c14c-d02373bfd147",
        "colab": {
          "base_uri": "https://localhost:8080/",
          "height": 1000
        },
        "execution": {
          "iopub.status.busy": "2025-08-27T22:08:56.558668Z",
          "iopub.execute_input": "2025-08-27T22:08:56.558963Z",
          "iopub.status.idle": "2025-08-27T22:10:19.029432Z",
          "shell.execute_reply.started": "2025-08-27T22:08:56.558945Z",
          "shell.execute_reply": "2025-08-27T22:10:19.028470Z"
        }
      },
      "outputs": [
        {
          "output_type": "stream",
          "name": "stderr",
          "text": [
            "100%|██████████| 38/38 [00:24<00:00,  1.55it/s]\n"
          ]
        },
        {
          "output_type": "stream",
          "name": "stdout",
          "text": [
            "num_preds, num_gt: 25200 9\n",
            "pred (cx,cy,w,h,obj) sample rows (first 10):\n",
            "tensor([[1.3549e+00, 7.8299e+00, 9.1368e+00, 1.4774e+01, 0.0000e+00, 8.3726e-02],\n",
            "        [8.4701e+00, 7.9934e+00, 9.1383e+00, 1.4798e+01, 0.0000e+00, 1.5053e-02],\n",
            "        [1.6225e+01, 7.9984e+00, 9.1383e+00, 1.4798e+01, 0.0000e+00, 4.6383e-03],\n",
            "        [2.4096e+01, 7.9998e+00, 9.1383e+00, 1.4798e+01, 0.0000e+00, 1.3652e-03],\n",
            "        [3.2062e+01, 7.9998e+00, 9.1383e+00, 1.4798e+01, 0.0000e+00, 8.1625e-04],\n",
            "        [4.0023e+01, 8.0000e+00, 9.1383e+00, 1.4798e+01, 0.0000e+00, 2.5841e-04],\n",
            "        [4.8008e+01, 8.0000e+00, 9.1383e+00, 1.4798e+01, 0.0000e+00, 6.7648e-05],\n",
            "        [5.6001e+01, 8.0000e+00, 9.1383e+00, 1.4798e+01, 0.0000e+00, 6.0700e-06],\n",
            "        [6.4000e+01, 8.0000e+00, 9.1383e+00, 1.4798e+01, 0.0000e+00, 8.0171e-07],\n",
            "        [7.2000e+01, 8.0000e+00, 9.1383e+00, 1.4798e+01, 0.0000e+00, 1.7261e-08]])\n",
            "gt (cx,cy,w,h,cls) sample rows (first 10):\n",
            "tensor([[350.1183, 390.6707,  18.4662,  41.7643,   9.0000],\n",
            "        [308.8278, 391.3232,  22.5136,  34.8036,   9.0000],\n",
            "        [332.3202, 389.5831,  24.4713,  46.9849,   9.0000],\n",
            "        [393.3726, 376.9667,  52.6062, 100.0604,   9.0000],\n",
            "        [488.2207, 400.2417,  11.7462,  48.7251,   4.0000],\n",
            "        [460.3235, 401.9818,   7.8308,  33.0634,   4.0000],\n",
            "        [227.9440, 365.4380,  15.6616,  34.8036,   7.0000],\n",
            "        [628.4835, 400.4342,  21.9398,  31.7083,   2.0000],\n",
            "        [570.4443, 445.9214, 138.0181, 154.0060,   2.0000]])\n",
            "pred obj min/max: 0.0 0.00039259978802874684\n",
            "pred class logits min/max: 0.0 1.0\n",
            "IoU shape (N, M): torch.Size([25200, 9])\n",
            "max IoU overall: 0.7036235928535461\n",
            "max IoU per GT (cpu): [0.666192   0.70250964 0.59885395 0.64635396 0.43211618 0.3393838\n",
            " 0.5755956  0.7036236  0.29222715]\n",
            "max IoU per pred (cpu): [0. 0. 0. 0. 0. 0. 0. 0. 0. 0. 0. 0. 0. 0. 0. 0. 0. 0. 0. 0.]\n",
            "num preds above conf_th: 0 out of 25200\n",
            "scores above conf sample: []\n",
            "no preds above conf_th\n",
            "pred classes unique: [0 1 2 3 6 7 8 9]\n",
            "gt classes unique: [2 4 7 9]\n",
            "sample pred cls, sample gt cls: [6 6 6 6 6] [9 9 9 9 4]\n",
            "recall with iou=0.1 conf=0.01: tensor(0.)\n",
            "Epoch 1/100, Loss: 320.7431, recall: 0.0000\n"
          ]
        },
        {
          "output_type": "stream",
          "name": "stderr",
          "text": [
            "100%|██████████| 38/38 [00:22<00:00,  1.70it/s]\n"
          ]
        },
        {
          "output_type": "stream",
          "name": "stdout",
          "text": [
            "num_preds, num_gt: 25200 7\n",
            "pred (cx,cy,w,h,obj) sample rows (first 10):\n",
            "tensor([[3.3997e+00, 4.2289e+00, 2.6216e+00, 3.5014e+00, 2.4046e-10, 3.9488e-01],\n",
            "        [1.1405e+01, 4.2393e+00, 2.6237e+00, 3.4826e+00, 2.4914e-10, 3.9520e-01],\n",
            "        [1.9405e+01, 4.2400e+00, 2.6239e+00, 3.4816e+00, 2.4805e-10, 3.9520e-01],\n",
            "        [2.7405e+01, 4.2395e+00, 2.6237e+00, 3.4828e+00, 2.4869e-10, 3.9520e-01],\n",
            "        [3.5405e+01, 4.2394e+00, 2.6237e+00, 3.4829e+00, 2.4863e-10, 3.9520e-01],\n",
            "        [4.3404e+01, 4.2395e+00, 2.6237e+00, 3.4828e+00, 2.4838e-10, 3.9519e-01],\n",
            "        [5.1404e+01, 4.2397e+00, 2.6238e+00, 3.4824e+00, 2.4819e-10, 3.9520e-01],\n",
            "        [5.9404e+01, 4.2397e+00, 2.6238e+00, 3.4825e+00, 2.4827e-10, 3.9520e-01],\n",
            "        [6.7404e+01, 4.2397e+00, 2.6238e+00, 3.4825e+00, 2.4826e-10, 3.9520e-01],\n",
            "        [7.5404e+01, 4.2397e+00, 2.6238e+00, 3.4825e+00, 2.4826e-10, 3.9520e-01]])\n",
            "gt (cx,cy,w,h,cls) sample rows (first 10):\n",
            "tensor([[352.5418, 133.0105,  12.1500,   6.8211,   7.0000],\n",
            "        [345.1404, 148.9263,  29.5107,  25.0105,   7.0000],\n",
            "        [363.3587, 238.0675,  41.6741,  99.1070,   2.0000],\n",
            "        [142.4747, 155.1790,  43.4842, 121.6421,   9.0000],\n",
            "        [227.5247, 134.7158, 140.6842, 251.2421,   9.0000],\n",
            "        [ 81.4050, 197.8105, 161.7868, 190.9895,   2.0000],\n",
            "        [272.7374, 212.3588, 173.9368, 176.2105,   2.0000]])\n",
            "pred obj min/max: 5.465978798052662e-12 0.06510979682207108\n",
            "pred class logits min/max: 0.05149687081575394 0.6560826897621155\n",
            "IoU shape (N, M): torch.Size([25200, 7])\n",
            "max IoU overall: 0.7324774265289307\n",
            "max IoU per GT (cpu): [0.28341088 0.5295266  0.5997031  0.5083455  0.7324774  0.7156498\n",
            " 0.62999487]\n",
            "max IoU per pred (cpu): [0. 0. 0. 0. 0. 0. 0. 0. 0. 0. 0. 0. 0. 0. 0. 0. 0. 0. 0. 0.]\n",
            "num preds above conf_th: 0 out of 25200\n",
            "scores above conf sample: []\n",
            "no preds above conf_th\n",
            "pred classes unique: [2 4 6 7]\n",
            "gt classes unique: [2 7 9]\n",
            "sample pred cls, sample gt cls: [6 6 6 6 6] [7 7 2 9 9]\n",
            "recall with iou=0.1 conf=0.01: tensor(0.7143)\n",
            "Epoch 2/100, Loss: 187.4531, recall: 0.0000\n"
          ]
        },
        {
          "output_type": "stream",
          "name": "stderr",
          "text": [
            "100%|██████████| 38/38 [00:22<00:00,  1.66it/s]\n"
          ]
        },
        {
          "output_type": "stream",
          "name": "stdout",
          "text": [
            "num_preds, num_gt: 25200 10\n",
            "pred (cx,cy,w,h,obj) sample rows (first 10):\n",
            "tensor([[3.4540e+00, 4.1365e+00, 2.6326e+00, 3.5954e+00, 3.8470e-07, 4.0303e-01],\n",
            "        [1.1453e+01, 4.1406e+00, 2.6377e+00, 3.5745e+00, 3.7349e-07, 4.0305e-01],\n",
            "        [1.9450e+01, 4.1423e+00, 2.6388e+00, 3.5699e+00, 3.5847e-07, 4.0289e-01],\n",
            "        [2.7451e+01, 4.1419e+00, 2.6382e+00, 3.5713e+00, 3.6142e-07, 4.0292e-01],\n",
            "        [3.5451e+01, 4.1416e+00, 2.6380e+00, 3.5721e+00, 3.6372e-07, 4.0295e-01],\n",
            "        [4.3452e+01, 4.1410e+00, 2.6374e+00, 3.5737e+00, 3.6878e-07, 4.0301e-01],\n",
            "        [5.1454e+01, 4.1398e+00, 2.6362e+00, 3.5772e+00, 3.8024e-07, 4.0316e-01],\n",
            "        [5.9461e+01, 4.1360e+00, 2.6326e+00, 3.5877e+00, 4.1553e-07, 4.0357e-01],\n",
            "        [6.7471e+01, 4.1296e+00, 2.6269e+00, 3.6052e+00, 4.8406e-07, 4.0429e-01],\n",
            "        [7.5480e+01, 4.1247e+00, 2.6232e+00, 3.6184e+00, 5.4334e-07, 4.0481e-01]])\n",
            "gt (cx,cy,w,h,cls) sample rows (first 10):\n",
            "tensor([[248.2887, 310.4990,   6.6804,  14.5155,   2.0000],\n",
            "        [240.4949, 311.1588,   5.9381,  13.1959,   2.0000],\n",
            "        [233.4433, 311.1588,   6.6804,  15.8351,   2.0000],\n",
            "        [295.4227, 309.8392,  14.8454,  10.5567,   2.0000],\n",
            "        [261.6495, 321.7595,  30.4330,  43.5464,   2.0000],\n",
            "        [ 98.5435, 255.6495,  13.7172,  23.0515,   7.0000],\n",
            "        [563.3963, 415.6289, 150.6804, 265.2372,   2.0000],\n",
            "        [282.5815, 275.1341,   6.6804,   9.2371,   7.0000],\n",
            "        [282.2104, 283.7114,   4.4536,  10.5567,   7.0000],\n",
            "        [226.5113, 281.5999,   4.8608,   9.7215,   6.0000]])\n",
            "pred obj min/max: 3.473006984222593e-07 0.27894526720046997\n",
            "pred class logits min/max: 0.17310798168182373 0.5305044054985046\n",
            "IoU shape (N, M): torch.Size([25200, 10])\n",
            "max IoU overall: 0.6558992862701416\n",
            "max IoU per GT (cpu): [0.6558993  0.2842057  0.5373172  0.40726197 0.64533013 0.5004425\n",
            " 0.64064145 0.37418383 0.28460473 0.28804576]\n",
            "max IoU per pred (cpu): [0. 0. 0. 0. 0. 0. 0. 0. 0. 0. 0. 0. 0. 0. 0. 0. 0. 0. 0. 0.]\n",
            "num preds above conf_th: 0 out of 25200\n",
            "scores above conf sample: []\n",
            "no preds above conf_th\n",
            "pred classes unique: [2 6 7]\n",
            "gt classes unique: [2 6 7]\n",
            "sample pred cls, sample gt cls: [6 6 6 6 6] [2 2 2 2 2]\n",
            "recall with iou=0.1 conf=0.01: tensor(0.9000)\n",
            "Epoch 3/100, Loss: 150.4062, recall: 0.0000\n"
          ]
        },
        {
          "output_type": "stream",
          "name": "stderr",
          "text": [
            "100%|██████████| 38/38 [00:22<00:00,  1.67it/s]\n"
          ]
        },
        {
          "output_type": "stream",
          "name": "stdout",
          "text": [
            "num_preds, num_gt: 25200 6\n",
            "pred (cx,cy,w,h,obj) sample rows (first 10):\n",
            "tensor([[3.7512e+00, 4.0004e+00, 2.4891e+00, 4.2911e+00, 7.1951e-04, 4.1661e-01],\n",
            "        [1.1808e+01, 3.9647e+00, 2.7648e+00, 4.8497e+00, 1.8692e-02, 4.1143e-01],\n",
            "        [1.9678e+01, 3.8921e+00, 2.4841e+00, 4.5879e+00, 1.3019e-03, 4.1295e-01],\n",
            "        [2.7562e+01, 4.0728e+00, 2.5757e+00, 4.0296e+00, 1.4801e-05, 4.0377e-01],\n",
            "        [3.5460e+01, 4.1377e+00, 2.6812e+00, 3.7987e+00, 2.5889e-06, 3.9724e-01],\n",
            "        [4.3491e+01, 4.1271e+00, 2.6574e+00, 3.8397e+00, 4.1040e-06, 3.9923e-01],\n",
            "        [5.1563e+01, 4.1101e+00, 2.6238e+00, 3.9158e+00, 1.2776e-05, 4.0319e-01],\n",
            "        [5.9591e+01, 4.0967e+00, 2.5991e+00, 3.9666e+00, 2.0472e-05, 4.0509e-01],\n",
            "        [6.7599e+01, 4.0859e+00, 2.5846e+00, 4.0009e+00, 2.4503e-05, 4.0541e-01],\n",
            "        [7.5601e+01, 4.0977e+00, 2.6027e+00, 3.9701e+00, 2.4542e-05, 4.0542e-01]])\n",
            "gt (cx,cy,w,h,cls) sample rows (first 10):\n",
            "tensor([[188.6240,  13.6493,  84.4549,  27.2986,   7.0000],\n",
            "        [ 99.9463,  10.9194,  60.6540,  21.8388,   7.0000],\n",
            "        [ 28.9274,  10.9194,  55.2796,  21.8388,   7.0000],\n",
            "        [165.9747, 224.5307,  22.2654,  28.6635,   2.0000],\n",
            "        [206.2827, 205.0901,  50.6730, 104.4364,   1.0000],\n",
            "        [142.1738, 218.3885,   8.4455,   5.4597,   7.0000]])\n",
            "pred obj min/max: 0.0 0.46205201745033264\n",
            "pred class logits min/max: 7.735130225228204e-08 0.9855650067329407\n",
            "IoU shape (N, M): torch.Size([25200, 6])\n",
            "max IoU overall: 0.7687729001045227\n",
            "max IoU per GT (cpu): [0.30164066 0.31019425 0.33171523 0.616095   0.7687729  0.19576931]\n",
            "max IoU per pred (cpu): [0.00884734 0.01110674 0.00944022 0.00859718 0.00843662 0.00845188\n",
            " 0.00851059 0.         0.         0.00780079 0.0078123  0.00813124\n",
            " 0.00995673 0.00839534 0.00782145 0.00775538 0.         0.\n",
            " 0.00440586 0.00447065]\n",
            "num preds above conf_th: 1 out of 25200\n",
            "scores above conf sample: [0.46205202]\n",
            "after NMS kept: 1\n",
            "pred classes unique: [0 1 2 4 5 6 7 8 9]\n",
            "gt classes unique: [1 2 7]\n",
            "sample pred cls, sample gt cls: [6 9 6 6 6] [7 7 7 2 1]\n",
            "recall with iou=0.1 conf=0.01: tensor(0.5000)\n",
            "Epoch 4/100, Loss: 141.2404, recall: 0.0000\n"
          ]
        },
        {
          "output_type": "stream",
          "name": "stderr",
          "text": [
            "100%|██████████| 38/38 [00:23<00:00,  1.64it/s]\n"
          ]
        },
        {
          "output_type": "stream",
          "name": "stdout",
          "text": [
            "num_preds, num_gt: 25200 37\n",
            "pred (cx,cy,w,h,obj) sample rows (first 10):\n",
            "tensor([[3.4355e+00, 4.1583e+00, 2.8255e+00, 4.0068e+00, 6.0767e-06, 3.8845e-01],\n",
            "        [1.1415e+01, 4.1689e+00, 2.8413e+00, 3.9767e+00, 4.6210e-06, 3.8765e-01],\n",
            "        [1.9409e+01, 4.1721e+00, 2.8457e+00, 3.9688e+00, 4.2408e-06, 3.8737e-01],\n",
            "        [2.7407e+01, 4.1724e+00, 2.8458e+00, 3.9685e+00, 4.1746e-06, 3.8728e-01],\n",
            "        [3.5407e+01, 4.1726e+00, 2.8461e+00, 3.9679e+00, 4.1374e-06, 3.8724e-01],\n",
            "        [4.3409e+01, 4.1715e+00, 2.8438e+00, 3.9707e+00, 4.3026e-06, 3.8741e-01],\n",
            "        [5.1413e+01, 4.1706e+00, 2.8422e+00, 3.9731e+00, 4.4912e-06, 3.8760e-01],\n",
            "        [5.9413e+01, 4.1701e+00, 2.8418e+00, 3.9742e+00, 4.4864e-06, 3.8756e-01],\n",
            "        [6.7412e+01, 4.1703e+00, 2.8423e+00, 3.9735e+00, 4.4600e-06, 3.8755e-01],\n",
            "        [7.5412e+01, 4.1707e+00, 2.8428e+00, 3.9728e+00, 4.4254e-06, 3.8753e-01]])\n",
            "gt (cx,cy,w,h,cls) sample rows (first 10):\n",
            "tensor([[ 97.0319, 388.5254, 171.9714, 188.4203,   2.0000],\n",
            "        [264.7232, 355.2265,  36.0308,  51.9536,   2.0000],\n",
            "        [339.5260, 356.8124,  61.5051,  95.6428,   2.0000],\n",
            "        [297.9829, 343.5972,  20.4827,  32.1775,   2.0000],\n",
            "        [483.1293, 378.2745,  74.1356,  87.8644,   2.0000],\n",
            "        [548.5661, 436.3626, 182.8678, 395.3898,   2.0000],\n",
            "        [244.8038, 337.8576,  10.4207,  16.3999,   2.0000],\n",
            "        [235.9215, 341.6935,  17.9007,  21.6236,   2.0000],\n",
            "        [329.2068, 327.9521,   9.3504,  13.1066,   2.0000],\n",
            "        [382.7072, 329.6460,  11.6777,  13.2977,   2.0000]])\n",
            "pred obj min/max: 1.3599278645415325e-06 0.23029546439647675\n",
            "pred class logits min/max: 0.06499650329351425 0.5673623085021973\n",
            "IoU shape (N, M): torch.Size([25200, 37])\n",
            "max IoU overall: 0.7937489748001099\n",
            "max IoU per GT (cpu): [0.68100685 0.52767116 0.7582731  0.67090756 0.793749   0.35515034\n",
            " 0.6908947  0.520827   0.5927797  0.43838724 0.5781081  0.25253406\n",
            " 0.65289825 0.49708676 0.7608692  0.67470914 0.5841406  0.46339062\n",
            " 0.26236814 0.30884302 0.10290656 0.33604208 0.3639318  0.31357938\n",
            " 0.50677997 0.32742965 0.69800574 0.5812372  0.13718767 0.78588057\n",
            " 0.07541737 0.26151708 0.05260549 0.1756266  0.08085242 0.4428584\n",
            " 0.06460948]\n",
            "max IoU per pred (cpu): [0. 0. 0. 0. 0. 0. 0. 0. 0. 0. 0. 0. 0. 0. 0. 0. 0. 0. 0. 0.]\n",
            "num preds above conf_th: 0 out of 25200\n",
            "scores above conf sample: []\n",
            "no preds above conf_th\n",
            "pred classes unique: [0 2 6 7 9]\n",
            "gt classes unique: [2 3 5 6 7]\n",
            "sample pred cls, sample gt cls: [6 6 6 6 6] [2 2 2 2 2]\n",
            "recall with iou=0.1 conf=0.01: tensor(0.5946)\n",
            "Epoch 5/100, Loss: 135.1761, recall: 0.0000\n"
          ]
        },
        {
          "output_type": "stream",
          "name": "stderr",
          "text": [
            "100%|██████████| 38/38 [00:23<00:00,  1.64it/s]\n"
          ]
        },
        {
          "output_type": "stream",
          "name": "stdout",
          "text": [
            "num_preds, num_gt: 25200 7\n",
            "pred (cx,cy,w,h,obj) sample rows (first 10):\n",
            "tensor([[3.4978e+00, 4.1690e+00, 2.8789e+00, 4.2063e+00, 1.7309e-05, 3.8273e-01],\n",
            "        [1.1470e+01, 4.1821e+00, 2.9039e+00, 4.1750e+00, 1.1144e-05, 3.8127e-01],\n",
            "        [1.9455e+01, 4.1916e+00, 2.9157e+00, 4.1571e+00, 8.9464e-06, 3.8078e-01],\n",
            "        [2.7451e+01, 4.1950e+00, 2.9185e+00, 4.1518e+00, 8.5788e-06, 3.8078e-01],\n",
            "        [3.5452e+01, 4.1932e+00, 2.9167e+00, 4.1549e+00, 8.6967e-06, 3.8071e-01],\n",
            "        [4.3457e+01, 4.1922e+00, 2.9124e+00, 4.1567e+00, 9.4362e-06, 3.8117e-01],\n",
            "        [5.1459e+01, 4.1911e+00, 2.9113e+00, 4.1589e+00, 9.7261e-06, 3.8129e-01],\n",
            "        [5.9457e+01, 4.1903e+00, 2.9119e+00, 4.1604e+00, 9.4056e-06, 3.8095e-01],\n",
            "        [6.7458e+01, 4.1911e+00, 2.9114e+00, 4.1586e+00, 9.5695e-06, 3.8118e-01],\n",
            "        [7.5459e+01, 4.1902e+00, 2.9100e+00, 4.1606e+00, 9.7951e-06, 3.8124e-01]])\n",
            "gt (cx,cy,w,h,cls) sample rows (first 10):\n",
            "tensor([[160.2728, 297.9940,  30.3750,  45.2903,   2.0000],\n",
            "        [104.7740, 310.7990,  39.3826,  43.8559,   2.0000],\n",
            "        [182.4604, 299.2782,  18.1270,  24.3871,   2.0000],\n",
            "        [ 82.8500, 320.0646,  45.5153,  52.2856,   2.0000],\n",
            "        [ 37.5605, 309.7742,  53.8911,  57.4839,   2.0000],\n",
            "        [ 11.5001, 332.1249,  22.7256,  39.6415,   2.0000],\n",
            "        [265.1864, 324.6222, 156.7742, 256.3134,   2.0000]])\n",
            "pred obj min/max: 8.528178341293824e-07 0.19215670228004456\n",
            "pred class logits min/max: 0.049239154905080795 0.565839409828186\n",
            "IoU shape (N, M): torch.Size([25200, 7])\n",
            "max IoU overall: 0.7092610597610474\n",
            "max IoU per GT (cpu): [0.70926106 0.6400355  0.5432129  0.54662144 0.6143197  0.6562958\n",
            " 0.65146506]\n",
            "max IoU per pred (cpu): [0. 0. 0. 0. 0. 0. 0. 0. 0. 0. 0. 0. 0. 0. 0. 0. 0. 0. 0. 0.]\n",
            "num preds above conf_th: 0 out of 25200\n",
            "scores above conf sample: []\n",
            "no preds above conf_th\n",
            "pred classes unique: [2 6 7 9]\n",
            "gt classes unique: [2]\n",
            "sample pred cls, sample gt cls: [6 6 6 6 6] [2 2 2 2 2]\n",
            "recall with iou=0.1 conf=0.01: tensor(1.)\n",
            "Epoch 6/100, Loss: 131.8526, recall: 0.0000\n"
          ]
        },
        {
          "output_type": "stream",
          "name": "stderr",
          "text": [
            "100%|██████████| 38/38 [00:23<00:00,  1.65it/s]\n"
          ]
        },
        {
          "output_type": "stream",
          "name": "stdout",
          "text": [
            "num_preds, num_gt: 25200 25\n",
            "pred (cx,cy,w,h,obj) sample rows (first 10):\n",
            "tensor([[3.6264e+00, 4.1172e+00, 2.8469e+00, 4.4430e+00, 1.5894e-04, 3.8037e-01],\n",
            "        [1.1645e+01, 4.1192e+00, 2.8142e+00, 4.4419e+00, 2.8866e-04, 3.8532e-01],\n",
            "        [1.9639e+01, 4.1092e+00, 2.8378e+00, 4.4514e+00, 1.9754e-04, 3.8133e-01],\n",
            "        [2.7655e+01, 4.0990e+00, 2.8072e+00, 4.4859e+00, 2.9192e-04, 3.8267e-01],\n",
            "        [3.5684e+01, 4.1146e+00, 2.7410e+00, 4.4933e+00, 9.3971e-04, 3.9271e-01],\n",
            "        [4.3719e+01, 4.0887e+00, 2.6851e+00, 4.5950e+00, 2.3032e-03, 3.9564e-01],\n",
            "        [5.1725e+01, 4.0934e+00, 2.5841e+00, 4.7508e+00, 1.2642e-02, 4.0825e-01],\n",
            "        [5.9729e+01, 4.0956e+00, 2.5889e+00, 4.7666e+00, 1.5634e-02, 4.1009e-01],\n",
            "        [6.7761e+01, 3.9771e+00, 2.6449e+00, 4.8269e+00, 2.6559e-03, 3.8246e-01],\n",
            "        [7.5726e+01, 4.0766e+00, 2.6322e+00, 4.6750e+00, 4.5861e-03, 3.9887e-01]])\n",
            "gt (cx,cy,w,h,cls) sample rows (first 10):\n",
            "tensor([[113.2368, 241.1367,  13.4660,  43.5265,   7.0000],\n",
            "        [155.7160, 278.1342,  13.4660,   8.7053,   7.0000],\n",
            "        [187.8507, 287.9276,  10.4055,   6.5290,   7.0000],\n",
            "        [194.8898, 274.8697,   3.6725,   8.7053,   7.0000],\n",
            "        [234.3608, 295.3795,   9.4085,   8.3749,   7.0000],\n",
            "        [401.0420, 266.1644,  11.0176,   6.5290,   7.0000],\n",
            "        [454.1103, 303.7060,  15.3023,   7.6171,   7.0000],\n",
            "        [616.5426, 417.8201,  37.9496, 146.9018,   4.0000],\n",
            "        [366.8130, 352.3801,  11.0247,  36.2099,   4.0000],\n",
            "        [356.0979, 352.5304,   6.7330,  33.7330,   4.0000]])\n",
            "pred obj min/max: 8.979533561159769e-08 0.18455399572849274\n",
            "pred class logits min/max: 0.04759422689676285 0.5839313864707947\n",
            "IoU shape (N, M): torch.Size([25200, 25])\n",
            "max IoU overall: 0.8983908891677856\n",
            "max IoU per GT (cpu): [0.5288791  0.41732326 0.32724616 0.32350507 0.34964457 0.23014668\n",
            " 0.3509189  0.46422288 0.5078233  0.41867614 0.29172784 0.40633687\n",
            " 0.6873108  0.34441254 0.4869725  0.5374859  0.8983909  0.45572594\n",
            " 0.7883362  0.5084842  0.7825326  0.21360363 0.15682672 0.5566109\n",
            " 0.45249256]\n",
            "max IoU per pred (cpu): [0. 0. 0. 0. 0. 0. 0. 0. 0. 0. 0. 0. 0. 0. 0. 0. 0. 0. 0. 0.]\n",
            "num preds above conf_th: 0 out of 25200\n",
            "scores above conf sample: []\n",
            "no preds above conf_th\n",
            "pred classes unique: [0 2 6 7 9]\n",
            "gt classes unique: [2 4 7]\n",
            "sample pred cls, sample gt cls: [6 6 6 6 6] [7 7 7 7 7]\n",
            "recall with iou=0.1 conf=0.01: tensor(0.7200)\n",
            "Epoch 7/100, Loss: 130.0709, recall: 0.0000\n"
          ]
        },
        {
          "output_type": "stream",
          "name": "stderr",
          "text": [
            "100%|██████████| 38/38 [00:23<00:00,  1.65it/s]\n"
          ]
        },
        {
          "output_type": "stream",
          "name": "stdout",
          "text": [
            "num_preds, num_gt: 25200 25\n",
            "pred (cx,cy,w,h,obj) sample rows (first 10):\n",
            "tensor([[3.6599e+00, 4.1688e+00, 2.8819e+00, 4.6104e+00, 1.2807e-03, 3.9245e-01],\n",
            "        [1.1643e+01, 4.0689e+00, 3.0459e+00, 4.6571e+00, 1.2201e-04, 3.6595e-01],\n",
            "        [1.9533e+01, 4.1787e+00, 3.0942e+00, 4.3148e+00, 3.2083e-05, 3.7437e-01],\n",
            "        [2.7509e+01, 4.2039e+00, 3.1011e+00, 4.2413e+00, 2.5338e-05, 3.7671e-01],\n",
            "        [3.5511e+01, 4.2047e+00, 3.0972e+00, 4.2424e+00, 2.6963e-05, 3.7717e-01],\n",
            "        [4.3512e+01, 4.2035e+00, 3.0976e+00, 4.2457e+00, 2.7106e-05, 3.7702e-01],\n",
            "        [5.1509e+01, 4.2025e+00, 3.1022e+00, 4.2443e+00, 2.5159e-05, 3.7646e-01],\n",
            "        [5.9505e+01, 4.2050e+00, 3.1055e+00, 4.2347e+00, 2.3593e-05, 3.7645e-01],\n",
            "        [6.7508e+01, 4.2044e+00, 3.1019e+00, 4.2391e+00, 2.4916e-05, 3.7665e-01],\n",
            "        [7.5522e+01, 4.2017e+00, 3.0857e+00, 4.2607e+00, 3.3301e-05, 3.7785e-01]])\n",
            "gt (cx,cy,w,h,cls) sample rows (first 10):\n",
            "tensor([[212.4414, 249.1705,   5.2890,   7.3132,   2.0000],\n",
            "        [179.3936, 250.0050,   5.8207,   9.9340,   2.0000],\n",
            "        [202.2919, 249.7980,   3.7955,   7.0366,   2.0000],\n",
            "        [166.6034, 251.2600,   8.8150,   6.2684,   2.0000],\n",
            "        [145.1536, 246.5587,  19.9807,  11.4921,   1.0000],\n",
            "        [124.5853, 250.2153,   9.4027,   9.4027,   2.0000],\n",
            "        [ 75.2213, 244.4692,   8.2273,   8.3579,   2.0000],\n",
            "        [111.3628, 248.6481,   8.8150,  10.4474,   2.0000],\n",
            "        [221.2564, 260.1403,  13.5163,  16.7158,   2.0000],\n",
            "        [190.1788, 247.1525,   5.2048,   7.3606,   2.0000]])\n",
            "pred obj min/max: 3.8218857412175566e-07 0.18168127536773682\n",
            "pred class logits min/max: 0.026909245178103447 0.6645638942718506\n",
            "IoU shape (N, M): torch.Size([25200, 25])\n",
            "max IoU overall: 0.6757993102073669\n",
            "max IoU per GT (cpu): [0.21613675 0.40993947 0.22764204 0.3241639  0.3835051  0.41647655\n",
            " 0.45151117 0.27636072 0.6757993  0.157596   0.44614568 0.5250264\n",
            " 0.54012114 0.49121615 0.49563217 0.60853696 0.28371713 0.52046025\n",
            " 0.5568799  0.48534635 0.42915654 0.5122929  0.47086823 0.5446053\n",
            " 0.5209682 ]\n",
            "max IoU per pred (cpu): [0. 0. 0. 0. 0. 0. 0. 0. 0. 0. 0. 0. 0. 0. 0. 0. 0. 0. 0. 0.]\n",
            "num preds above conf_th: 0 out of 25200\n",
            "scores above conf sample: []\n",
            "no preds above conf_th\n",
            "pred classes unique: [0 2 6 7]\n",
            "gt classes unique: [1 2 7]\n",
            "sample pred cls, sample gt cls: [6 6 6 6 6] [2 2 2 2 1]\n",
            "recall with iou=0.1 conf=0.01: tensor(0.9600)\n",
            "Epoch 8/100, Loss: 128.8375, recall: 0.0000\n"
          ]
        },
        {
          "output_type": "stream",
          "name": "stderr",
          "text": [
            "100%|██████████| 38/38 [00:23<00:00,  1.64it/s]\n"
          ]
        },
        {
          "output_type": "stream",
          "name": "stdout",
          "text": [
            "num_preds, num_gt: 25200 7\n",
            "pred (cx,cy,w,h,obj) sample rows (first 10):\n",
            "tensor([[3.5656e+00, 4.1198e+00, 3.1766e+00, 4.7398e+00, 1.8470e-04, 3.6939e-01],\n",
            "        [1.1527e+01, 4.1340e+00, 3.2009e+00, 4.6378e+00, 9.9872e-05, 3.6940e-01],\n",
            "        [1.9511e+01, 4.1395e+00, 3.2100e+00, 4.6049e+00, 7.8270e-05, 3.6909e-01],\n",
            "        [2.7511e+01, 4.1521e+00, 3.1927e+00, 4.5849e+00, 9.0322e-05, 3.7135e-01],\n",
            "        [3.5524e+01, 4.1442e+00, 3.1885e+00, 4.6215e+00, 1.0754e-04, 3.7101e-01],\n",
            "        [4.3529e+01, 4.1421e+00, 3.1855e+00, 4.6347e+00, 1.1715e-04, 3.7108e-01],\n",
            "        [5.1532e+01, 4.1399e+00, 3.1849e+00, 4.6440e+00, 1.2157e-04, 3.7094e-01],\n",
            "        [5.9529e+01, 4.1401e+00, 3.1889e+00, 4.6372e+00, 1.1410e-04, 3.7071e-01],\n",
            "        [6.7523e+01, 4.1389e+00, 3.1975e+00, 4.6285e+00, 9.9079e-05, 3.6995e-01],\n",
            "        [7.5515e+01, 4.1442e+00, 3.1988e+00, 4.6066e+00, 9.0683e-05, 3.7030e-01]])\n",
            "gt (cx,cy,w,h,cls) sample rows (first 10):\n",
            "tensor([[325.7568, 206.9810,  16.9727,  19.0571,   7.0000],\n",
            "        [475.0010, 352.4211,  17.9053,  27.2842,   2.0000],\n",
            "        [463.4905, 368.9053,  28.1368,  71.6211,   2.0000],\n",
            "        [498.0221, 388.8000,  43.4842,  70.4842,   2.0000],\n",
            "        [546.6221, 399.6000,  89.5263,  85.2632,   2.0000],\n",
            "        [602.2563, 425.1790,  74.1789, 122.7789,   2.0000],\n",
            "        [360.8550, 431.4316, 269.2184, 312.6316,   2.0000]])\n",
            "pred obj min/max: 1.0687750545912422e-05 0.22351545095443726\n",
            "pred class logits min/max: 0.02111097238957882 0.7020488381385803\n",
            "IoU shape (N, M): torch.Size([25200, 7])\n",
            "max IoU overall: 0.734421968460083\n",
            "max IoU per GT (cpu): [0.48704013 0.73442197 0.44342935 0.62662655 0.6358466  0.6228809\n",
            " 0.4563467 ]\n",
            "max IoU per pred (cpu): [0. 0. 0. 0. 0. 0. 0. 0. 0. 0. 0. 0. 0. 0. 0. 0. 0. 0. 0. 0.]\n",
            "num preds above conf_th: 0 out of 25200\n",
            "scores above conf sample: []\n",
            "no preds above conf_th\n",
            "pred classes unique: [2 6 7]\n",
            "gt classes unique: [2 7]\n",
            "sample pred cls, sample gt cls: [6 6 6 6 6] [7 2 2 2 2]\n",
            "recall with iou=0.1 conf=0.01: tensor(1.)\n",
            "Epoch 9/100, Loss: 128.3237, recall: 0.0000\n"
          ]
        },
        {
          "output_type": "stream",
          "name": "stderr",
          "text": [
            "100%|██████████| 38/38 [00:23<00:00,  1.61it/s]\n"
          ]
        },
        {
          "output_type": "stream",
          "name": "stdout",
          "text": [
            "num_preds, num_gt: 25200 15\n",
            "pred (cx,cy,w,h,obj) sample rows (first 10):\n",
            "tensor([[3.6220e+00, 4.1789e+00, 3.2312e+00, 5.6865e+00, 3.3204e-02, 3.8974e-01],\n",
            "        [1.1576e+01, 4.0488e+00, 3.3432e+00, 5.8050e+00, 5.0825e-03, 3.6858e-01],\n",
            "        [1.9545e+01, 4.1299e+00, 3.2657e+00, 5.3572e+00, 2.0208e-03, 3.7639e-01],\n",
            "        [2.7538e+01, 4.1488e+00, 3.2495e+00, 5.2662e+00, 1.7211e-03, 3.7848e-01],\n",
            "        [3.5536e+01, 4.1505e+00, 3.2483e+00, 5.2538e+00, 1.6563e-03, 3.7863e-01],\n",
            "        [4.3535e+01, 4.1501e+00, 3.2491e+00, 5.2531e+00, 1.6209e-03, 3.7849e-01],\n",
            "        [5.1536e+01, 4.1515e+00, 3.2474e+00, 5.2507e+00, 1.6503e-03, 3.7874e-01],\n",
            "        [5.9536e+01, 4.1512e+00, 3.2477e+00, 5.2514e+00, 1.6535e-03, 3.7872e-01],\n",
            "        [6.7535e+01, 4.1499e+00, 3.2494e+00, 5.2535e+00, 1.6207e-03, 3.7846e-01],\n",
            "        [7.5537e+01, 4.1514e+00, 3.2470e+00, 5.2559e+00, 1.6919e-03, 3.7877e-01]])\n",
            "gt (cx,cy,w,h,cls) sample rows (first 10):\n",
            "tensor([[295.3443, 243.6396,   7.6777,  20.4739,   7.0000],\n",
            "        [297.6476, 267.5259,  10.7488,  21.8388,   7.0000],\n",
            "        [297.8412, 292.5771,   8.4864,  14.6142,   7.0000],\n",
            "        [236.6097, 306.4263,   5.3744,  20.4739,   6.0000],\n",
            "        [217.4154, 299.6017,   3.8389,  12.2844,   6.0000],\n",
            "        [210.1216, 298.9192,   9.2133,   8.1896,   7.0000],\n",
            "        [176.7715, 302.8011,   8.5414,  13.2234,   7.0000],\n",
            "        [245.5011, 331.2815,  15.4794,  29.2365,   2.0000],\n",
            "        [170.0221, 336.5869,  21.1469,  23.4681,   2.0000],\n",
            "        [209.3538, 335.7723,  44.5308,  60.0568,   2.0000]])\n",
            "pred obj min/max: 7.876767995185219e-06 0.186969593167305\n",
            "pred class logits min/max: 0.018921302631497383 0.7202651500701904\n",
            "IoU shape (N, M): torch.Size([25200, 15])\n",
            "max IoU overall: 0.7730011343955994\n",
            "max IoU per GT (cpu): [0.609152   0.5230169  0.41442922 0.4537682  0.34730813 0.3671068\n",
            " 0.41790676 0.45989755 0.6749189  0.66130424 0.59264296 0.77300113\n",
            " 0.73021734 0.41360325 0.48238727]\n",
            "max IoU per pred (cpu): [0. 0. 0. 0. 0. 0. 0. 0. 0. 0. 0. 0. 0. 0. 0. 0. 0. 0. 0. 0.]\n",
            "num preds above conf_th: 0 out of 25200\n",
            "scores above conf sample: []\n",
            "no preds above conf_th\n",
            "pred classes unique: [2 6 7]\n",
            "gt classes unique: [2 6 7]\n",
            "sample pred cls, sample gt cls: [6 6 6 6 6] [7 7 7 6 6]\n",
            "recall with iou=0.1 conf=0.01: tensor(0.8000)\n",
            "Epoch 10/100, Loss: 127.3900, recall: 0.0000\n"
          ]
        },
        {
          "output_type": "stream",
          "name": "stderr",
          "text": [
            "100%|██████████| 38/38 [00:23<00:00,  1.64it/s]\n"
          ]
        },
        {
          "output_type": "stream",
          "name": "stdout",
          "text": [
            "num_preds, num_gt: 25200 17\n",
            "pred (cx,cy,w,h,obj) sample rows (first 10):\n",
            "tensor([[3.3245e+00, 4.1132e+00, 3.6348e+00, 6.0367e+00, 1.0740e-03, 3.5717e-01],\n",
            "        [1.1288e+01, 4.0768e+00, 3.6687e+00, 6.0965e+00, 6.8566e-04, 3.5133e-01],\n",
            "        [1.9290e+01, 4.1084e+00, 3.6309e+00, 5.9607e+00, 6.1239e-04, 3.5557e-01],\n",
            "        [2.7288e+01, 4.1075e+00, 3.6322e+00, 5.9578e+00, 5.9174e-04, 3.5536e-01],\n",
            "        [3.5285e+01, 4.1033e+00, 3.6368e+00, 5.9744e+00, 5.8104e-04, 3.5465e-01],\n",
            "        [4.3290e+01, 4.1106e+00, 3.6286e+00, 5.9494e+00, 6.0088e-04, 3.5583e-01],\n",
            "        [5.1283e+01, 4.1029e+00, 3.6375e+00, 5.9650e+00, 5.5287e-04, 3.5451e-01],\n",
            "        [5.9276e+01, 4.1026e+00, 3.6374e+00, 5.9520e+00, 4.9986e-04, 3.5416e-01],\n",
            "        [6.7275e+01, 4.1048e+00, 3.6347e+00, 5.9384e+00, 4.8168e-04, 3.5436e-01],\n",
            "        [7.5277e+01, 4.1066e+00, 3.6325e+00, 5.9362e+00, 4.9367e-04, 3.5469e-01]])\n",
            "gt (cx,cy,w,h,cls) sample rows (first 10):\n",
            "tensor([[357.9177, 214.7487,   6.9099,   8.1896,   7.0000],\n",
            "        [353.6950, 225.6681,  12.2844,   8.1896,   7.0000],\n",
            "        [347.1668, 240.2508,   6.9058,  10.0564,   7.0000],\n",
            "        [398.8047, 203.1468,   8.8356,  20.4739,   7.0000],\n",
            "        [254.7224, 282.8657,  36.7131,  57.0682,   2.0000],\n",
            "        [233.5387, 267.2984,  14.5877,  17.7441,   2.0000],\n",
            "        [207.4344, 273.4406,  11.5166,  16.3791,   2.0000],\n",
            "        [193.9984, 275.4880,  15.3554,  20.4739,   2.0000],\n",
            "        [177.1074, 277.5353,  16.8910,  24.5687,   2.0000],\n",
            "        [157.1453, 278.2178,  19.9621,  23.2038,   2.0000]])\n",
            "pred obj min/max: 3.347213350934908e-05 0.1945090889930725\n",
            "pred class logits min/max: 0.017856230959296227 0.722540557384491\n",
            "IoU shape (N, M): torch.Size([25200, 17])\n",
            "max IoU overall: 0.7694206833839417\n",
            "max IoU per GT (cpu): [0.3468153  0.4022612  0.40760452 0.45010552 0.6798145  0.671509\n",
            " 0.47844774 0.7135968  0.5555123  0.46812105 0.52340627 0.5144187\n",
            " 0.5859535  0.7694207  0.45384786 0.4977368  0.4013439 ]\n",
            "max IoU per pred (cpu): [0. 0. 0. 0. 0. 0. 0. 0. 0. 0. 0. 0. 0. 0. 0. 0. 0. 0. 0. 0.]\n",
            "num preds above conf_th: 0 out of 25200\n",
            "scores above conf sample: []\n",
            "no preds above conf_th\n",
            "pred classes unique: [2 6 7]\n",
            "gt classes unique: [2 7 9]\n",
            "sample pred cls, sample gt cls: [6 6 6 6 6] [7 7 7 7 2]\n",
            "recall with iou=0.1 conf=0.01: tensor(0.9412)\n",
            "Epoch 11/100, Loss: 126.8097, recall: 0.0000\n"
          ]
        },
        {
          "output_type": "stream",
          "name": "stderr",
          "text": [
            "100%|██████████| 38/38 [00:22<00:00,  1.65it/s]\n"
          ]
        },
        {
          "output_type": "stream",
          "name": "stdout",
          "text": [
            "num_preds, num_gt: 25200 15\n",
            "pred (cx,cy,w,h,obj) sample rows (first 10):\n",
            "tensor([[3.1704e+00, 4.2164e+00, 3.9182e+00, 6.7534e+00, 5.6013e-03, 3.6511e-01],\n",
            "        [1.1142e+01, 4.1424e+00, 4.0044e+00, 6.9351e+00, 3.8066e-03, 3.5568e-01],\n",
            "        [1.9150e+01, 4.1563e+00, 3.9589e+00, 6.8003e+00, 3.1637e-03, 3.5766e-01],\n",
            "        [2.7159e+01, 4.2060e+00, 3.9341e+00, 6.8115e+00, 5.3954e-03, 3.6409e-01],\n",
            "        [3.5156e+01, 4.2233e+00, 3.9693e+00, 6.9373e+00, 8.6366e-03, 3.6587e-01],\n",
            "        [4.3104e+01, 4.1072e+00, 4.1211e+00, 7.2931e+00, 5.1543e-03, 3.4987e-01],\n",
            "        [5.1135e+01, 4.1264e+00, 4.0346e+00, 7.0099e+00, 3.6943e-03, 3.5306e-01],\n",
            "        [5.9148e+01, 4.1790e+00, 3.9662e+00, 6.8824e+00, 4.7083e-03, 3.6047e-01],\n",
            "        [6.7148e+01, 4.2446e+00, 3.9828e+00, 6.9981e+00, 1.2004e-02, 3.6829e-01],\n",
            "        [7.5126e+01, 4.2044e+00, 4.0546e+00, 7.1906e+00, 1.2107e-02, 3.6336e-01]])\n",
            "gt (cx,cy,w,h,cls) sample rows (first 10):\n",
            "tensor([[ 68.0026, 444.2004,  86.0950,  41.0372,   2.0000],\n",
            "        [211.8062, 433.1093,  28.0745,  27.7279,   2.0000],\n",
            "        [236.4494, 436.9912,  16.2208,  11.0911,   2.0000],\n",
            "        [262.6522, 435.3275,  11.2298,  12.2003,   2.0000],\n",
            "        [255.1657, 435.8821,   8.7343,  11.0911,   2.0000],\n",
            "        [313.7477, 435.2166,   9.3582,  17.7458,   1.0000],\n",
            "        [336.8936, 442.5105,  24.9551,  35.4391,   2.0000],\n",
            "        [356.8577, 428.6728,  34.9371,  52.1284,   9.0000],\n",
            "        [290.4148, 440.1337,   5.6149,   9.9820,   2.0000],\n",
            "        [297.9013, 437.9155,   8.1104,   9.9820,   2.0000]])\n",
            "pred obj min/max: 7.962727011090465e-08 0.19569158554077148\n",
            "pred class logits min/max: 0.022284504026174545 0.6526889204978943\n",
            "IoU shape (N, M): torch.Size([25200, 15])\n",
            "max IoU overall: 0.7183343768119812\n",
            "max IoU per GT (cpu): [0.45994994 0.6034429  0.4010662  0.49399066 0.3446607  0.5775676\n",
            " 0.5380696  0.7183344  0.3484429  0.37278968 0.50109524 0.41019678\n",
            " 0.47866982 0.57353944 0.36420575]\n",
            "max IoU per pred (cpu): [0. 0. 0. 0. 0. 0. 0. 0. 0. 0. 0. 0. 0. 0. 0. 0. 0. 0. 0. 0.]\n",
            "num preds above conf_th: 0 out of 25200\n",
            "scores above conf sample: []\n",
            "no preds above conf_th\n",
            "pred classes unique: [2 6 7]\n",
            "gt classes unique: [1 2 7 9]\n",
            "sample pred cls, sample gt cls: [6 6 6 6 6] [2 2 2 2 2]\n",
            "recall with iou=0.1 conf=0.01: tensor(0.8667)\n",
            "Epoch 12/100, Loss: 125.5098, recall: 0.0000\n"
          ]
        },
        {
          "output_type": "stream",
          "name": "stderr",
          "text": [
            "100%|██████████| 38/38 [00:23<00:00,  1.63it/s]\n"
          ]
        },
        {
          "output_type": "stream",
          "name": "stdout",
          "text": [
            "num_preds, num_gt: 25200 19\n",
            "pred (cx,cy,w,h,obj) sample rows (first 10):\n",
            "tensor([[2.4200e+00, 4.1846e+00, 5.0533e+00, 9.1729e+00, 2.6441e-02, 3.3796e-01],\n",
            "        [1.0281e+01, 4.1411e+00, 5.3105e+00, 9.7219e+00, 2.9775e-02, 3.2928e-01],\n",
            "        [1.8314e+01, 4.1426e+00, 5.2683e+00, 9.6332e+00, 3.1062e-02, 3.3119e-01],\n",
            "        [2.6401e+01, 4.1380e+00, 5.1262e+00, 9.3513e+00, 2.6999e-02, 3.3506e-01],\n",
            "        [3.4414e+01, 4.1661e+00, 5.0842e+00, 9.2497e+00, 2.8710e-02, 3.3778e-01],\n",
            "        [4.2432e+01, 4.1509e+00, 5.0532e+00, 9.2017e+00, 2.6083e-02, 3.3772e-01],\n",
            "        [5.0401e+01, 4.1681e+00, 5.1011e+00, 9.2849e+00, 2.9318e-02, 3.3738e-01],\n",
            "        [5.8322e+01, 4.1580e+00, 5.2301e+00, 9.5564e+00, 3.0895e-02, 3.3288e-01],\n",
            "        [6.6337e+01, 4.1449e+00, 5.2263e+00, 9.5494e+00, 2.9542e-02, 3.3229e-01],\n",
            "        [7.4262e+01, 4.1465e+00, 5.3395e+00, 9.7755e+00, 3.0695e-02, 3.2887e-01]])\n",
            "gt (cx,cy,w,h,cls) sample rows (first 10):\n",
            "tensor([[165.4909, 456.2997,  40.5000,  66.0000,   2.0000],\n",
            "        [153.2565, 466.7997,  32.9062,  63.0000,   2.0000],\n",
            "        [127.9441, 469.7997,  31.2187,  80.9999,   2.0000],\n",
            "        [244.8033, 456.2997,   6.7500,  18.0000,   2.0000],\n",
            "        [239.3190, 454.7997,   9.2812,  18.0000,   2.0000],\n",
            "        [235.1002, 456.2997,   7.5937,  18.0000,   2.0000],\n",
            "        [273.4908, 455.5497,   8.4375,  16.5000,   2.0000],\n",
            "        [278.9752, 453.2997,   7.5937,  15.0000,   2.0000],\n",
            "        [282.3502, 457.0497,   9.2812,  22.5000,   2.0000],\n",
            "        [286.5689, 454.0497,  12.6562,  34.5000,   2.0000]])\n",
            "pred obj min/max: 9.961268915503751e-06 0.19987687468528748\n",
            "pred class logits min/max: 0.014356416650116444 0.7258102297782898\n",
            "IoU shape (N, M): torch.Size([25200, 19])\n",
            "max IoU overall: 0.7553467154502869\n",
            "max IoU per GT (cpu): [0.67741257 0.6816922  0.54331046 0.45317316 0.4599932  0.5540288\n",
            " 0.46992978 0.53076476 0.6813613  0.602044   0.5267158  0.51145625\n",
            " 0.7553467  0.6453831  0.55197066 0.511089   0.710746   0.6361679\n",
            " 0.6369113 ]\n",
            "max IoU per pred (cpu): [0. 0. 0. 0. 0. 0. 0. 0. 0. 0. 0. 0. 0. 0. 0. 0. 0. 0. 0. 0.]\n",
            "num preds above conf_th: 0 out of 25200\n",
            "scores above conf sample: []\n",
            "no preds above conf_th\n",
            "pred classes unique: [1 2 6 7]\n",
            "gt classes unique: [2 9]\n",
            "sample pred cls, sample gt cls: [6 6 6 6 6] [2 2 2 2 2]\n",
            "recall with iou=0.1 conf=0.01: tensor(0.9474)\n",
            "Epoch 13/100, Loss: 124.0565, recall: 0.0000\n"
          ]
        },
        {
          "output_type": "stream",
          "name": "stderr",
          "text": [
            "100%|██████████| 38/38 [00:23<00:00,  1.63it/s]\n"
          ]
        },
        {
          "output_type": "stream",
          "name": "stdout",
          "text": [
            "num_preds, num_gt: 25200 17\n",
            "pred (cx,cy,w,h,obj) sample rows (first 10):\n",
            "tensor([[2.2965e+00, 4.0172e+00, 5.3029e+00, 9.2626e+00, 3.2300e-02, 3.3340e-01],\n",
            "        [1.0218e+01, 3.9375e+00, 5.4675e+00, 9.6209e+00, 2.1970e-02, 3.2371e-01],\n",
            "        [1.8234e+01, 4.0004e+00, 5.4006e+00, 9.4887e+00, 4.0964e-02, 3.3158e-01],\n",
            "        [2.6286e+01, 4.0033e+00, 5.3041e+00, 9.2959e+00, 3.1827e-02, 3.3447e-01],\n",
            "        [3.4441e+01, 4.0309e+00, 5.0316e+00, 8.6968e+00, 1.7816e-02, 3.4191e-01],\n",
            "        [4.2529e+01, 4.0433e+00, 4.8723e+00, 8.3308e+00, 1.1055e-02, 3.4519e-01],\n",
            "        [5.0593e+01, 4.0702e+00, 4.7564e+00, 8.0532e+00, 1.0386e-02, 3.4980e-01],\n",
            "        [5.8611e+01, 4.0549e+00, 4.7320e+00, 7.9832e+00, 7.2880e-03, 3.4832e-01],\n",
            "        [6.6645e+01, 4.0686e+00, 4.6687e+00, 7.8286e+00, 6.7262e-03, 3.5055e-01],\n",
            "        [7.4631e+01, 4.0623e+00, 4.6950e+00, 7.8926e+00, 6.8184e-03, 3.4937e-01]])\n",
            "gt (cx,cy,w,h,cls) sample rows (first 10):\n",
            "tensor([[160.9303, 271.4267,  17.4227,  22.8227,   2.0000],\n",
            "        [142.1322, 273.8719,  22.0076,  27.7132,   2.0000],\n",
            "        [227.4115, 256.7549,  12.8377,  16.3019,   2.0000],\n",
            "        [488.2929, 251.8644,  92.6152,  71.7284,   2.0000],\n",
            "        [249.4191, 262.4606,   5.5019,  21.1925,   2.0000],\n",
            "        [254.9210, 264.0908,   7.3359,  24.4529,   2.0000],\n",
            "        [264.0908, 264.9059,  14.6717,  29.3434,   2.0000],\n",
            "        [274.1776, 264.9059,  14.6717,  35.8642,   2.0000],\n",
            "        [292.0587, 264.0908,  35.7623,  50.5359,   2.0000],\n",
            "        [586.4100, 229.0417,  58.6868,  74.9887,   2.0000]])\n",
            "pred obj min/max: 1.7192898667417467e-05 0.18977949023246765\n",
            "pred class logits min/max: 0.01627868227660656 0.6899085640907288\n",
            "IoU shape (N, M): torch.Size([25200, 17])\n",
            "max IoU overall: 0.8555021286010742\n",
            "max IoU per GT (cpu): [0.5930364  0.5761781  0.69429386 0.61108077 0.5457355  0.47230506\n",
            " 0.57170326 0.5065234  0.75746703 0.8555021  0.78810894 0.6140132\n",
            " 0.6237801  0.6461412  0.6495876  0.42828122 0.23502201]\n",
            "max IoU per pred (cpu): [0. 0. 0. 0. 0. 0. 0. 0. 0. 0. 0. 0. 0. 0. 0. 0. 0. 0. 0. 0.]\n",
            "num preds above conf_th: 0 out of 25200\n",
            "scores above conf sample: []\n",
            "no preds above conf_th\n",
            "pred classes unique: [2 6 7]\n",
            "gt classes unique: [2 4 7]\n",
            "sample pred cls, sample gt cls: [6 6 6 6 6] [2 2 2 2 2]\n",
            "recall with iou=0.1 conf=0.01: tensor(0.9412)\n",
            "Epoch 14/100, Loss: 122.5553, recall: 0.0000\n"
          ]
        },
        {
          "output_type": "stream",
          "name": "stderr",
          "text": [
            "100%|██████████| 38/38 [00:23<00:00,  1.61it/s]\n"
          ]
        },
        {
          "output_type": "stream",
          "name": "stdout",
          "text": [
            "num_preds, num_gt: 25200 34\n",
            "pred (cx,cy,w,h,obj) sample rows (first 10):\n",
            "tensor([[2.0471e+00, 3.8193e+00, 5.8466e+00, 1.0314e+01, 5.8389e-02, 3.1073e-01],\n",
            "        [1.0115e+01, 3.7735e+00, 5.7404e+00, 1.0074e+01, 2.2729e-02, 3.1032e-01],\n",
            "        [1.8414e+01, 3.9075e+00, 5.1848e+00, 8.8763e+00, 1.4039e-02, 3.3179e-01],\n",
            "        [2.6433e+01, 3.9187e+00, 5.1405e+00, 8.7799e+00, 1.3069e-02, 3.3347e-01],\n",
            "        [3.4420e+01, 3.9307e+00, 5.1463e+00, 8.8148e+00, 1.5472e-02, 3.3457e-01],\n",
            "        [4.2379e+01, 3.9220e+00, 5.2113e+00, 8.9726e+00, 1.7742e-02, 3.3272e-01],\n",
            "        [5.0331e+01, 3.9144e+00, 5.2868e+00, 9.1552e+00, 2.1463e-02, 3.3072e-01],\n",
            "        [5.8278e+01, 3.9008e+00, 5.3788e+00, 9.3645e+00, 2.5842e-02, 3.2783e-01],\n",
            "        [6.6236e+01, 3.8852e+00, 5.4545e+00, 9.5295e+00, 2.7889e-02, 3.2495e-01],\n",
            "        [7.4223e+01, 3.8807e+00, 5.4789e+00, 9.5819e+00, 2.8976e-02, 3.2409e-01]])\n",
            "gt (cx,cy,w,h,cls) sample rows (first 10):\n",
            "tensor([[ 54.9083, 333.2234,  80.4636,  55.3527,   2.0000],\n",
            "        [101.2554, 318.1351,  49.5656,  45.7748,   2.0000],\n",
            "        [143.0964, 311.8410,  44.4159,  30.8980,   2.0000],\n",
            "        [168.2010, 307.8358,  27.6795,  25.1762,   2.0000],\n",
            "        [276.6660, 302.1139,   9.0119,  34.3311,   2.0000],\n",
            "        [283.7467, 301.5417,  10.2993,  30.8980,   2.0000],\n",
            "        [317.8633, 299.2530,  12.8742,  35.4755,   2.0000],\n",
            "        [327.1971, 294.1033,  14.8053,  22.8874,   2.0000],\n",
            "        [335.8871, 292.9589,   6.4371,  20.5987,   2.0000],\n",
            "        [225.4911, 320.4238, 101.0622, 141.9020,   2.0000]])\n",
            "pred obj min/max: 0.00020789122208952904 0.18692642450332642\n",
            "pred class logits min/max: 0.011437461711466312 0.7330349087715149\n",
            "IoU shape (N, M): torch.Size([25200, 34])\n",
            "max IoU overall: 0.7275251150131226\n",
            "max IoU per GT (cpu): [0.60533345 0.55171204 0.50156415 0.46888357 0.50031316 0.5929621\n",
            " 0.5473014  0.5246612  0.508852   0.47099268 0.62971693 0.7275251\n",
            " 0.5967877  0.43362224 0.4489548  0.363895   0.29079124 0.56606656\n",
            " 0.510936   0.34877425 0.51113623 0.25677645 0.6286087  0.4745717\n",
            " 0.41526425 0.65568584 0.58265024 0.4078617  0.45465404 0.72637993\n",
            " 0.3755844  0.6279875  0.3536945  0.650599  ]\n",
            "max IoU per pred (cpu): [0. 0. 0. 0. 0. 0. 0. 0. 0. 0. 0. 0. 0. 0. 0. 0. 0. 0. 0. 0.]\n",
            "num preds above conf_th: 0 out of 25200\n",
            "scores above conf sample: []\n",
            "no preds above conf_th\n",
            "pred classes unique: [2 6 7]\n",
            "gt classes unique: [2 6 7]\n",
            "sample pred cls, sample gt cls: [7 7 7 7 7] [2 2 2 2 2]\n",
            "recall with iou=0.1 conf=0.01: tensor(0.7941)\n",
            "Epoch 15/100, Loss: 122.1070, recall: 0.0000\n"
          ]
        },
        {
          "output_type": "stream",
          "name": "stderr",
          "text": [
            "100%|██████████| 38/38 [00:23<00:00,  1.60it/s]\n"
          ]
        },
        {
          "output_type": "stream",
          "name": "stdout",
          "text": [
            "num_preds, num_gt: 25200 18\n",
            "pred (cx,cy,w,h,obj) sample rows (first 10):\n",
            "tensor([[2.4838e+00, 3.8170e+00, 5.2089e+00, 8.6288e+00, 6.5027e-03, 3.2477e-01],\n",
            "        [1.0471e+01, 3.7392e+00, 5.3002e+00, 8.7463e+00, 4.5179e-03, 3.1824e-01],\n",
            "        [1.8540e+01, 3.8052e+00, 5.1260e+00, 8.3935e+00, 4.1569e-03, 3.2603e-01],\n",
            "        [2.6546e+01, 3.8032e+00, 5.1176e+00, 8.3662e+00, 3.9187e-03, 3.2611e-01],\n",
            "        [3.4553e+01, 3.8039e+00, 5.1052e+00, 8.3334e+00, 3.7132e-03, 3.2639e-01],\n",
            "        [4.2567e+01, 3.8155e+00, 5.0724e+00, 8.2646e+00, 3.6370e-03, 3.2784e-01],\n",
            "        [5.0566e+01, 3.8087e+00, 5.0802e+00, 8.2731e+00, 3.4915e-03, 3.2721e-01],\n",
            "        [5.8567e+01, 3.8150e+00, 5.0705e+00, 8.2589e+00, 3.5672e-03, 3.2779e-01],\n",
            "        [6.6566e+01, 3.8177e+00, 5.0709e+00, 8.2645e+00, 3.6839e-03, 3.2799e-01],\n",
            "        [7.4561e+01, 3.8130e+00, 5.0823e+00, 8.2875e+00, 3.6813e-03, 3.2746e-01]])\n",
            "gt (cx,cy,w,h,cls) sample rows (first 10):\n",
            "tensor([[390.7720, 222.5999,  11.8125,  12.0000,   7.0000],\n",
            "        [151.4131, 243.6682,   9.5932,   3.6135,   7.0000],\n",
            "        [385.2876, 243.7498,  16.0312,  10.5000,   7.0000],\n",
            "        [345.6314, 281.9998,   9.2812,  18.0000,   7.0000],\n",
            "        [108.9597, 239.4525,  11.8125,   4.8180,   7.0000],\n",
            "        [285.5788, 276.4906,   3.9259,   6.6247,   6.0000],\n",
            "        [304.9058, 277.3268,   5.4550,   6.8670,   6.0000],\n",
            "        [162.9597, 304.7424,  64.1250,  59.5148,   2.0000],\n",
            "        [ 73.1450, 333.6027, 104.8383,  90.7367,   2.0000],\n",
            "        [421.2944, 329.9998,  79.0177,  83.9999,   2.0000]])\n",
            "pred obj min/max: 0.0003542686172295362 0.22649534046649933\n",
            "pred class logits min/max: 0.009526191279292107 0.7446334958076477\n",
            "IoU shape (N, M): torch.Size([25200, 18])\n",
            "max IoU overall: 0.8136798143386841\n",
            "max IoU per GT (cpu): [0.49424565 0.239949   0.46711066 0.6104083  0.25906503 0.17965972\n",
            " 0.418096   0.66264445 0.62602127 0.79905355 0.43277994 0.08170597\n",
            " 0.55552864 0.71947926 0.6315087  0.8136798  0.50641316 0.2896305 ]\n",
            "max IoU per pred (cpu): [0. 0. 0. 0. 0. 0. 0. 0. 0. 0. 0. 0. 0. 0. 0. 0. 0. 0. 0. 0.]\n",
            "num preds above conf_th: 0 out of 25200\n",
            "scores above conf sample: []\n",
            "no preds above conf_th\n",
            "pred classes unique: [0 1 2 6 7]\n",
            "gt classes unique: [2 6 7]\n",
            "sample pred cls, sample gt cls: [7 6 6 6 6] [7 7 7 7 7]\n",
            "recall with iou=0.1 conf=0.01: tensor(0.8333)\n",
            "Epoch 16/100, Loss: 121.4941, recall: 0.0000\n"
          ]
        },
        {
          "output_type": "stream",
          "name": "stderr",
          "text": [
            "100%|██████████| 38/38 [00:23<00:00,  1.62it/s]\n"
          ]
        },
        {
          "output_type": "stream",
          "name": "stdout",
          "text": [
            "num_preds, num_gt: 25200 21\n",
            "pred (cx,cy,w,h,obj) sample rows (first 10):\n",
            "tensor([[2.4638e+00, 3.7141e+00, 5.3172e+00, 8.7977e+00, 7.7050e-03, 3.1981e-01],\n",
            "        [1.0471e+01, 3.6042e+00, 5.4056e+00, 8.8618e+00, 4.6475e-03, 3.1318e-01],\n",
            "        [1.8564e+01, 3.7064e+00, 5.1606e+00, 8.3763e+00, 4.1174e-03, 3.2396e-01],\n",
            "        [2.6568e+01, 3.7128e+00, 5.1483e+00, 8.3530e+00, 4.1026e-03, 3.2459e-01],\n",
            "        [3.4558e+01, 3.7142e+00, 5.1610e+00, 8.3893e+00, 4.2715e-03, 3.2423e-01],\n",
            "        [4.2547e+01, 3.7231e+00, 5.1705e+00, 8.4282e+00, 4.7125e-03, 3.2429e-01],\n",
            "        [5.0530e+01, 3.6972e+00, 5.2219e+00, 8.5239e+00, 4.7344e-03, 3.2190e-01],\n",
            "        [5.8536e+01, 3.6963e+00, 5.2127e+00, 8.4981e+00, 4.5309e-03, 3.2213e-01],\n",
            "        [6.6554e+01, 3.7126e+00, 5.1690e+00, 8.4074e+00, 4.3888e-03, 3.2403e-01],\n",
            "        [7.4561e+01, 3.7035e+00, 5.1664e+00, 8.3856e+00, 4.0677e-03, 3.2376e-01]])\n",
            "gt (cx,cy,w,h,cls) sample rows (first 10):\n",
            "tensor([[342.6783, 263.9998,  11.8125,  30.0000,   7.0000],\n",
            "        [299.4890, 175.4863,  10.4892,  20.2015,   6.0000],\n",
            "        [243.9836, 140.5722,   9.6151,  21.8554,   6.0000],\n",
            "        [248.5910, 163.0546,  12.6377,  20.2015,   6.0000],\n",
            "        [208.2366, 155.2848,  12.9290,  20.2015,   6.0000],\n",
            "        [178.5690, 155.2848,   9.2812,  20.2015,   6.0000],\n",
            "        [601.7094,  56.2500,  10.1250,  52.5000,   6.0000],\n",
            "        [441.3970, 258.7498,  11.8125,  16.5000,   6.0000],\n",
            "        [290.3658, 311.2498,   6.7500,  13.5000,   7.0000],\n",
            "        [273.0689, 331.4998,   7.5937,  21.0000,   2.0000]])\n",
            "pred obj min/max: 0.000504068739246577 0.24459649622440338\n",
            "pred class logits min/max: 0.009611404500901699 0.7300122380256653\n",
            "IoU shape (N, M): torch.Size([25200, 21])\n",
            "max IoU overall: 0.8836476802825928\n",
            "max IoU per GT (cpu): [0.5472122  0.6550111  0.7148722  0.69315636 0.49828377 0.71162397\n",
            " 0.38607863 0.6365315  0.4452983  0.62345403 0.4880279  0.47510535\n",
            " 0.70942885 0.5608606  0.6074599  0.58603185 0.4999631  0.46388608\n",
            " 0.7169475  0.53477544 0.8836477 ]\n",
            "max IoU per pred (cpu): [0. 0. 0. 0. 0. 0. 0. 0. 0. 0. 0. 0. 0. 0. 0. 0. 0. 0. 0. 0.]\n",
            "num preds above conf_th: 0 out of 25200\n",
            "scores above conf sample: []\n",
            "no preds above conf_th\n",
            "pred classes unique: [0 1 2 6 7]\n",
            "gt classes unique: [2 6 7]\n",
            "sample pred cls, sample gt cls: [6 6 6 6 6] [7 6 6 6 6]\n",
            "recall with iou=0.1 conf=0.01: tensor(0.6667)\n",
            "Epoch 17/100, Loss: 120.1007, recall: 0.0000\n"
          ]
        },
        {
          "output_type": "stream",
          "name": "stderr",
          "text": [
            "100%|██████████| 38/38 [00:22<00:00,  1.67it/s]\n"
          ]
        },
        {
          "output_type": "stream",
          "name": "stdout",
          "text": [
            "num_preds, num_gt: 25200 26\n",
            "pred (cx,cy,w,h,obj) sample rows (first 10):\n",
            "tensor([[2.3985e+00, 3.7425e+00, 5.5059e+00, 9.1910e+00, 1.1566e-02, 3.1306e-01],\n",
            "        [1.0355e+01, 3.5688e+00, 5.6980e+00, 9.3999e+00, 6.4203e-03, 3.0233e-01],\n",
            "        [1.8480e+01, 3.7124e+00, 5.3778e+00, 8.8220e+00, 6.4467e-03, 3.1686e-01],\n",
            "        [2.6480e+01, 3.7223e+00, 5.3702e+00, 8.8174e+00, 6.7257e-03, 3.1745e-01],\n",
            "        [3.4484e+01, 3.6983e+00, 5.3810e+00, 8.8024e+00, 5.9452e-03, 3.1661e-01],\n",
            "        [4.2504e+01, 3.7014e+00, 5.3410e+00, 8.7033e+00, 5.3160e-03, 3.1803e-01],\n",
            "        [5.0507e+01, 3.7239e+00, 5.3178e+00, 8.6835e+00, 5.6819e-03, 3.1925e-01],\n",
            "        [5.8499e+01, 3.7270e+00, 5.3330e+00, 8.7283e+00, 6.1718e-03, 3.1884e-01],\n",
            "        [6.6485e+01, 3.6961e+00, 5.3801e+00, 8.7961e+00, 5.7886e-03, 3.1653e-01],\n",
            "        [7.4497e+01, 3.7079e+00, 5.3493e+00, 8.7382e+00, 5.7253e-03, 3.1788e-01]])\n",
            "gt (cx,cy,w,h,cls) sample rows (first 10):\n",
            "tensor([[307.3616, 200.2951,   5.6333,  10.9252,   6.0000],\n",
            "        [240.8236, 166.6091,   8.1939,  10.0148,   7.0000],\n",
            "        [346.0639, 212.1308,   5.6333,  11.8356,   7.0000],\n",
            "        [399.3242, 176.6239,   8.7060,  10.0148,   7.0000],\n",
            "        [320.1646, 223.0560,   8.7060,   9.1043,   2.0000],\n",
            "        [313.9285, 224.1940,   6.1454,   9.1043,   2.0000],\n",
            "        [310.5997, 227.8357,   5.6333,  10.9252,   2.0000],\n",
            "        [305.4785, 226.0149,   4.6091,  12.7461,   2.0000],\n",
            "        [302.9179, 227.3805,   4.6091,  15.4774,   2.0000],\n",
            "        [299.3331, 226.9253,   5.6333,  16.3878,   2.0000]])\n",
            "pred obj min/max: 0.0009655733010731637 0.2355344146490097\n",
            "pred class logits min/max: 0.009373443201184273 0.7332009673118591\n",
            "IoU shape (N, M): torch.Size([25200, 26])\n",
            "max IoU overall: 0.755989134311676\n",
            "max IoU per GT (cpu): [0.42875057 0.42061803 0.656542   0.37136996 0.46324277 0.45142248\n",
            " 0.52772003 0.5128687  0.48245823 0.5479373  0.49764073 0.64276654\n",
            " 0.5488608  0.512507   0.7191015  0.6985335  0.26075476 0.41181895\n",
            " 0.48049596 0.5031448  0.5331598  0.7492239  0.6723285  0.6909426\n",
            " 0.75598913 0.70833224]\n",
            "max IoU per pred (cpu): [0. 0. 0. 0. 0. 0. 0. 0. 0. 0. 0. 0. 0. 0. 0. 0. 0. 0. 0. 0.]\n",
            "num preds above conf_th: 0 out of 25200\n",
            "scores above conf sample: []\n",
            "no preds above conf_th\n",
            "pred classes unique: [0 1 2 6 7]\n",
            "gt classes unique: [2 6 7]\n",
            "sample pred cls, sample gt cls: [7 2 6 6 6] [6 7 7 7 2]\n",
            "recall with iou=0.1 conf=0.01: tensor(0.9615)\n",
            "Epoch 18/100, Loss: 119.5176, recall: 0.0000\n"
          ]
        },
        {
          "output_type": "stream",
          "name": "stderr",
          "text": [
            "100%|██████████| 38/38 [00:22<00:00,  1.67it/s]\n"
          ]
        },
        {
          "output_type": "stream",
          "name": "stdout",
          "text": [
            "num_preds, num_gt: 25200 8\n",
            "pred (cx,cy,w,h,obj) sample rows (first 10):\n",
            "tensor([[1.9038e+00, 3.6811e+00, 6.4303e+00, 1.1117e+01, 5.4476e-02, 2.7698e-01],\n",
            "        [9.8822e+00, 3.5043e+00, 6.4949e+00, 1.1128e+01, 2.6901e-02, 2.7277e-01],\n",
            "        [1.8214e+01, 3.7424e+00, 5.8384e+00, 9.9133e+00, 2.0956e-02, 3.0217e-01],\n",
            "        [2.6257e+01, 3.7506e+00, 5.7606e+00, 9.7442e+00, 1.8518e-02, 3.0533e-01],\n",
            "        [3.4282e+01, 3.7550e+00, 5.7143e+00, 9.6421e+00, 1.7031e-02, 3.0711e-01],\n",
            "        [4.2326e+01, 3.7637e+00, 5.6360e+00, 9.4699e+00, 1.5379e-02, 3.1032e-01],\n",
            "        [5.0376e+01, 3.7599e+00, 5.5495e+00, 9.2633e+00, 1.2647e-02, 3.1366e-01],\n",
            "        [5.8431e+01, 3.7852e+00, 5.4341e+00, 9.0205e+00, 1.0940e-02, 3.1832e-01],\n",
            "        [6.6443e+01, 3.8026e+00, 5.3999e+00, 8.9616e+00, 1.0860e-02, 3.1976e-01],\n",
            "        [7.4450e+01, 3.8125e+00, 5.3858e+00, 8.9393e+00, 1.1204e-02, 3.2047e-01]])\n",
            "gt (cx,cy,w,h,cls) sample rows (first 10):\n",
            "tensor([[454.7938, 265.1116,   9.2084,  11.8232,   7.0000],\n",
            "        [255.2565, 290.4419,  31.4062,  44.2941,   9.0000],\n",
            "        [462.9791, 292.8506,  13.3011,  38.1979,   2.0000],\n",
            "        [440.7254, 300.5811,  43.4842,  66.3916,   2.0000],\n",
            "        [233.5734, 268.4604,  50.5712,  45.1425,   2.0000],\n",
            "        [184.4243, 346.5096, 141.7074, 150.9727,   2.0000],\n",
            "        [553.5286, 323.7727, 170.8674, 181.8948,   2.0000],\n",
            "        [340.5097, 350.7031, 171.4867, 266.7990,   2.0000]])\n",
            "pred obj min/max: 0.0004418162570800632 0.22976268827915192\n",
            "pred class logits min/max: 0.01310134120285511 0.7394638061523438\n",
            "IoU shape (N, M): torch.Size([25200, 8])\n",
            "max IoU overall: 0.746873140335083\n",
            "max IoU per GT (cpu): [0.74687314 0.6355889  0.62343097 0.6509794  0.51077527 0.59051675\n",
            " 0.72566086 0.7246678 ]\n",
            "max IoU per pred (cpu): [0. 0. 0. 0. 0. 0. 0. 0. 0. 0. 0. 0. 0. 0. 0. 0. 0. 0. 0. 0.]\n",
            "num preds above conf_th: 0 out of 25200\n",
            "scores above conf sample: []\n",
            "no preds above conf_th\n",
            "pred classes unique: [0 1 2 6 7 9]\n",
            "gt classes unique: [2 7 9]\n",
            "sample pred cls, sample gt cls: [2 2 2 2 2] [7 9 2 2 2]\n",
            "recall with iou=0.1 conf=0.01: tensor(0.7500)\n",
            "Epoch 19/100, Loss: 118.5725, recall: 0.0000\n"
          ]
        },
        {
          "output_type": "stream",
          "name": "stderr",
          "text": [
            "100%|██████████| 38/38 [00:22<00:00,  1.68it/s]\n"
          ]
        },
        {
          "output_type": "stream",
          "name": "stdout",
          "text": [
            "num_preds, num_gt: 25200 21\n",
            "pred (cx,cy,w,h,obj) sample rows (first 10):\n",
            "tensor([[2.0495e+00, 3.7456e+00, 6.2833e+00, 1.0764e+01, 3.8998e-02, 2.8279e-01],\n",
            "        [9.8397e+00, 3.4160e+00, 6.7251e+00, 1.1440e+01, 3.0795e-02, 2.6257e-01],\n",
            "        [1.7955e+01, 3.6351e+00, 6.4705e+00, 1.1070e+01, 3.8050e-02, 2.7468e-01],\n",
            "        [2.5793e+01, 3.5123e+00, 6.7698e+00, 1.1582e+01, 3.8946e-02, 2.6035e-01],\n",
            "        [3.3912e+01, 3.5797e+00, 6.5663e+00, 1.1232e+01, 4.2013e-02, 2.7072e-01],\n",
            "        [4.2029e+01, 3.5128e+00, 6.3812e+00, 1.0818e+01, 3.0141e-02, 2.7956e-01],\n",
            "        [4.9604e+01, 3.4813e+00, 7.0533e+00, 1.2109e+01, 4.1924e-02, 2.4533e-01],\n",
            "        [5.7569e+01, 3.5572e+00, 7.1918e+00, 1.2361e+01, 9.0649e-02, 2.4069e-01],\n",
            "        [6.5594e+01, 3.3699e+00, 7.1326e+00, 1.2200e+01, 6.1652e-02, 2.4468e-01],\n",
            "        [7.3834e+01, 3.4295e+00, 6.7107e+00, 1.1434e+01, 3.6593e-02, 2.6450e-01]])\n",
            "gt (cx,cy,w,h,cls) sample rows (first 10):\n",
            "tensor([[ 31.3306, 326.1636,  62.6612, 109.1649,   2.0000],\n",
            "        [629.5367, 446.3432,  19.4700, 140.3867,   2.0000],\n",
            "        [555.4011, 367.5976, 167.7413, 189.3704,   2.0000],\n",
            "        [ 70.1496, 331.4887,  50.9215,  77.2142,   2.0000],\n",
            "        [269.3423, 328.8261,  38.9399,  53.2512,   2.0000],\n",
            "        [460.2978, 358.1143,  67.3960,  82.5394,   2.0000],\n",
            "        [421.3579, 343.4702,  50.9215,  58.5763,   2.0000],\n",
            "        [406.3810, 338.1451,  34.4469,  53.2512,   2.0000],\n",
            "        [335.2407, 317.5103,   8.9861,  11.9815,   2.0000],\n",
            "        [338.2361, 323.5010,   7.4884,  13.3128,   2.0000]])\n",
            "pred obj min/max: 0.0010743298335000873 0.20255112648010254\n",
            "pred class logits min/max: 0.012355560436844826 0.7195032238960266\n",
            "IoU shape (N, M): torch.Size([25200, 21])\n",
            "max IoU overall: 0.8850704431533813\n",
            "max IoU per GT (cpu): [0.7520267  0.31989783 0.88507044 0.6648585  0.7649396  0.7262262\n",
            " 0.5406242  0.648301   0.41663402 0.65843135 0.6776633  0.57542425\n",
            " 0.8550787  0.7141117  0.6503822  0.69322056 0.52342117 0.25874597\n",
            " 0.59235525 0.39954403 0.34573805]\n",
            "max IoU per pred (cpu): [0. 0. 0. 0. 0. 0. 0. 0. 0. 0. 0. 0. 0. 0. 0. 0. 0. 0. 0. 0.]\n",
            "num preds above conf_th: 0 out of 25200\n",
            "scores above conf sample: []\n",
            "no preds above conf_th\n",
            "pred classes unique: [0 1 2 6 7 9]\n",
            "gt classes unique: [1 2 4 6 7]\n",
            "sample pred cls, sample gt cls: [2 2 2 2 2] [2 2 2 2 2]\n",
            "recall with iou=0.1 conf=0.01: tensor(0.8571)\n",
            "Epoch 20/100, Loss: 116.9497, recall: 0.0000\n"
          ]
        },
        {
          "output_type": "stream",
          "name": "stderr",
          "text": [
            " 58%|█████▊    | 22/38 [00:13<00:09,  1.61it/s]\n"
          ]
        },
        {
          "output_type": "error",
          "ename": "KeyboardInterrupt",
          "evalue": "",
          "traceback": [
            "\u001b[0;31m---------------------------------------------------------------------------\u001b[0m",
            "\u001b[0;31mKeyboardInterrupt\u001b[0m                         Traceback (most recent call last)",
            "\u001b[0;32m/tmp/ipython-input-1473428773.py\u001b[0m in \u001b[0;36m<cell line: 0>\u001b[0;34m()\u001b[0m\n\u001b[1;32m     26\u001b[0m \u001b[0;34m\u001b[0m\u001b[0m\n\u001b[1;32m     27\u001b[0m         \u001b[0;31m#loss calculation\u001b[0m\u001b[0;34m\u001b[0m\u001b[0;34m\u001b[0m\u001b[0m\n\u001b[0;32m---> 28\u001b[0;31m         \u001b[0mloss\u001b[0m \u001b[0;34m=\u001b[0m \u001b[0mcompute_loss\u001b[0m\u001b[0;34m(\u001b[0m\u001b[0mgt_drv\u001b[0m\u001b[0;34m,\u001b[0m \u001b[0mgt_lanes\u001b[0m\u001b[0;34m,\u001b[0m \u001b[0mgt_boxes\u001b[0m\u001b[0;34m,\u001b[0m \u001b[0mp_drv\u001b[0m\u001b[0;34m,\u001b[0m \u001b[0mp_lanes\u001b[0m\u001b[0;34m,\u001b[0m \u001b[0mp_boxes\u001b[0m\u001b[0;34m)\u001b[0m\u001b[0;34m\u001b[0m\u001b[0;34m\u001b[0m\u001b[0m\n\u001b[0m\u001b[1;32m     29\u001b[0m \u001b[0;34m\u001b[0m\u001b[0m\n\u001b[1;32m     30\u001b[0m         \u001b[0;31m#Backpropagation\u001b[0m\u001b[0;34m\u001b[0m\u001b[0;34m\u001b[0m\u001b[0m\n",
            "\u001b[0;32m/tmp/ipython-input-275161135.py\u001b[0m in \u001b[0;36mcompute_loss\u001b[0;34m(gt_drv, gt_lanes, gt_boxes, p_drv, p_lanes, p_boxes, l_drv, l_lanes, l_det)\u001b[0m\n\u001b[1;32m     32\u001b[0m \u001b[0;34m\u001b[0m\u001b[0m\n\u001b[1;32m     33\u001b[0m \u001b[0;32mdef\u001b[0m \u001b[0mcompute_loss\u001b[0m\u001b[0;34m(\u001b[0m\u001b[0mgt_drv\u001b[0m\u001b[0;34m,\u001b[0m \u001b[0mgt_lanes\u001b[0m\u001b[0;34m,\u001b[0m \u001b[0mgt_boxes\u001b[0m\u001b[0;34m,\u001b[0m \u001b[0mp_drv\u001b[0m\u001b[0;34m,\u001b[0m \u001b[0mp_lanes\u001b[0m\u001b[0;34m,\u001b[0m \u001b[0mp_boxes\u001b[0m\u001b[0;34m,\u001b[0m \u001b[0ml_drv\u001b[0m\u001b[0;34m=\u001b[0m\u001b[0;36m0.2\u001b[0m\u001b[0;34m,\u001b[0m \u001b[0ml_lanes\u001b[0m\u001b[0;34m=\u001b[0m\u001b[0;36m0.2\u001b[0m\u001b[0;34m,\u001b[0m \u001b[0ml_det\u001b[0m\u001b[0;34m=\u001b[0m\u001b[0;36m0.75\u001b[0m\u001b[0;34m)\u001b[0m\u001b[0;34m:\u001b[0m\u001b[0;34m\u001b[0m\u001b[0;34m\u001b[0m\u001b[0m\n\u001b[0;32m---> 34\u001b[0;31m     \u001b[0mdet_loss\u001b[0m \u001b[0;34m=\u001b[0m \u001b[0mdetection_loss\u001b[0m\u001b[0;34m(\u001b[0m\u001b[0mp_boxes\u001b[0m\u001b[0;34m,\u001b[0m \u001b[0mgt_boxes\u001b[0m\u001b[0;34m)\u001b[0m\u001b[0;34m\u001b[0m\u001b[0;34m\u001b[0m\u001b[0m\n\u001b[0m\u001b[1;32m     35\u001b[0m     \u001b[0;31m#drv_loss = F.binary_cross_entropy_with_logits(p_drv.squeeze(1), gt_drv, reduction='mean')\u001b[0m\u001b[0;34m\u001b[0m\u001b[0;34m\u001b[0m\u001b[0m\n\u001b[1;32m     36\u001b[0m     \u001b[0;31m#lanes_loss = ops.sigmoid_focal_loss(p_lanes.squeeze(1), gt_lanes, reduction='mean')\u001b[0m\u001b[0;34m\u001b[0m\u001b[0;34m\u001b[0m\u001b[0m\n",
            "\u001b[0;32m/tmp/ipython-input-275161135.py\u001b[0m in \u001b[0;36mdetection_loss\u001b[0;34m(p_boxes, gt_boxes, l_obj, l_cls, l_reg)\u001b[0m\n\u001b[1;32m     14\u001b[0m         \u001b[0mnc\u001b[0m \u001b[0;34m=\u001b[0m \u001b[0mp_boxes_i\u001b[0m\u001b[0;34m.\u001b[0m\u001b[0msize\u001b[0m\u001b[0;34m(\u001b[0m\u001b[0;34m-\u001b[0m\u001b[0;36m1\u001b[0m\u001b[0;34m)\u001b[0m \u001b[0;34m-\u001b[0m \u001b[0;36m5\u001b[0m\u001b[0;34m\u001b[0m\u001b[0;34m\u001b[0m\u001b[0m\n\u001b[1;32m     15\u001b[0m \u001b[0;34m\u001b[0m\u001b[0m\n\u001b[0;32m---> 16\u001b[0;31m         \u001b[0munique_pred_indices\u001b[0m\u001b[0;34m,\u001b[0m \u001b[0mfinal_gt_indices\u001b[0m \u001b[0;34m=\u001b[0m \u001b[0msimota\u001b[0m\u001b[0;34m(\u001b[0m\u001b[0mp_boxes_i\u001b[0m\u001b[0;34m,\u001b[0m \u001b[0mgt_boxes_i\u001b[0m\u001b[0;34m)\u001b[0m\u001b[0;34m\u001b[0m\u001b[0;34m\u001b[0m\u001b[0m\n\u001b[0m\u001b[1;32m     17\u001b[0m         \u001b[0mnum_pos\u001b[0m \u001b[0;34m=\u001b[0m \u001b[0mlen\u001b[0m\u001b[0;34m(\u001b[0m\u001b[0munique_pred_indices\u001b[0m\u001b[0;34m)\u001b[0m\u001b[0;34m\u001b[0m\u001b[0;34m\u001b[0m\u001b[0m\n\u001b[1;32m     18\u001b[0m \u001b[0;34m\u001b[0m\u001b[0m\n",
            "\u001b[0;32m/tmp/ipython-input-442668697.py\u001b[0m in \u001b[0;36msimota\u001b[0;34m(p_boxes, gt_boxes, l_iou, l_cls)\u001b[0m\n\u001b[1;32m     42\u001b[0m         \u001b[0mmask\u001b[0m \u001b[0;34m=\u001b[0m \u001b[0mmatched_pred_indices\u001b[0m \u001b[0;34m==\u001b[0m \u001b[0mpred_idx\u001b[0m\u001b[0;34m\u001b[0m\u001b[0;34m\u001b[0m\u001b[0m\n\u001b[1;32m     43\u001b[0m         \u001b[0mcosts\u001b[0m \u001b[0;34m=\u001b[0m \u001b[0mcost\u001b[0m\u001b[0;34m[\u001b[0m\u001b[0mmatched_gt_indices\u001b[0m\u001b[0;34m[\u001b[0m\u001b[0mmask\u001b[0m\u001b[0;34m]\u001b[0m\u001b[0;34m,\u001b[0m \u001b[0mmatched_pred_indices\u001b[0m\u001b[0;34m[\u001b[0m\u001b[0mmask\u001b[0m\u001b[0;34m]\u001b[0m\u001b[0;34m]\u001b[0m\u001b[0;34m\u001b[0m\u001b[0;34m\u001b[0m\u001b[0m\n\u001b[0;32m---> 44\u001b[0;31m         \u001b[0mmin_cost_idx\u001b[0m \u001b[0;34m=\u001b[0m \u001b[0mtorch\u001b[0m\u001b[0;34m.\u001b[0m\u001b[0margmin\u001b[0m\u001b[0;34m(\u001b[0m\u001b[0mcosts\u001b[0m\u001b[0;34m)\u001b[0m\u001b[0;34m\u001b[0m\u001b[0;34m\u001b[0m\u001b[0m\n\u001b[0m\u001b[1;32m     45\u001b[0m         \u001b[0mfinal_gt_indices\u001b[0m\u001b[0;34m[\u001b[0m\u001b[0mi\u001b[0m\u001b[0;34m]\u001b[0m \u001b[0;34m=\u001b[0m \u001b[0mmatched_gt_indices\u001b[0m\u001b[0;34m[\u001b[0m\u001b[0mmask\u001b[0m\u001b[0;34m]\u001b[0m\u001b[0;34m[\u001b[0m\u001b[0mmin_cost_idx\u001b[0m\u001b[0;34m]\u001b[0m\u001b[0;34m\u001b[0m\u001b[0;34m\u001b[0m\u001b[0m\n\u001b[1;32m     46\u001b[0m \u001b[0;34m\u001b[0m\u001b[0m\n",
            "\u001b[0;31mKeyboardInterrupt\u001b[0m: "
          ]
        }
      ],
      "execution_count": 33
    }
  ]
}