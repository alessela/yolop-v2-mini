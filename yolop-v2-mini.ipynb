{
  "metadata": {
    "kernelspec": {
      "name": "python3",
      "display_name": "Python 3",
      "language": "python"
    },
    "language_info": {
      "codemirror_mode": {
        "name": "ipython",
        "version": 3
      },
      "file_extension": ".py",
      "mimetype": "text/x-python",
      "name": "python",
      "nbconvert_exporter": "python",
      "pygments_lexer": "ipython3",
      "version": "3.11.11"
    },
    "kaggle": {
      "accelerator": "gpu",
      "dataSources": [
        {
          "sourceId": 12345190,
          "sourceType": "datasetVersion",
          "datasetId": 7775335
        }
      ],
      "dockerImageVersionId": 31040,
      "isInternetEnabled": false,
      "language": "python",
      "sourceType": "notebook",
      "isGpuEnabled": true
    },
    "colab": {
      "provenance": [],
      "toc_visible": true,
      "gpuType": "T4",
      "include_colab_link": true
    },
    "accelerator": "GPU"
  },
  "nbformat_minor": 0,
  "nbformat": 4,
  "cells": [
    {
      "cell_type": "markdown",
      "metadata": {
        "id": "view-in-github",
        "colab_type": "text"
      },
      "source": [
        "<a href=\"https://colab.research.google.com/github/alessela/yolop-v2-mini/blob/main/yolop-v2-mini.ipynb\" target=\"_parent\"><img src=\"https://colab.research.google.com/assets/colab-badge.svg\" alt=\"Open In Colab\"/></a>"
      ]
    },
    {
      "cell_type": "markdown",
      "source": [
        "# Import libraries"
      ],
      "metadata": {
        "id": "HOUOjqqDCdf4"
      }
    },
    {
      "cell_type": "code",
      "source": [
        "import json\n",
        "import os\n",
        "import random\n",
        "import cv2\n",
        "import numpy as np\n",
        "import gc\n",
        "import zipfile\n",
        "import matplotlib.pyplot as plt\n",
        "\n",
        "import torch\n",
        "import torch.nn as nn\n",
        "import torch.nn.functional as F\n",
        "import torch.optim as optim\n",
        "from torch.utils.data.dataloader import DataLoader\n",
        "from torch.utils.data.dataset import Dataset\n",
        "import torchvision.ops as ops\n",
        "\n",
        "import albumentations as A\n",
        "from albumentations.pytorch import ToTensorV2\n",
        "\n",
        "from sklearn.cluster import KMeans\n",
        "\n",
        "from tqdm import tqdm"
      ],
      "metadata": {
        "id": "664_RUUKCdf6",
        "trusted": true,
        "execution": {
          "iopub.status.busy": "2025-08-24T17:14:30.082574Z",
          "iopub.execute_input": "2025-08-24T17:14:30.082862Z",
          "iopub.status.idle": "2025-08-24T17:15:12.425316Z",
          "shell.execute_reply.started": "2025-08-24T17:14:30.082835Z",
          "shell.execute_reply": "2025-08-24T17:15:12.424488Z"
        }
      },
      "outputs": [],
      "execution_count": 1
    },
    {
      "cell_type": "markdown",
      "source": [
        "# Architecture"
      ],
      "metadata": {
        "id": "ew6QVrEyCdf8"
      }
    },
    {
      "cell_type": "markdown",
      "source": [
        "## Base components"
      ],
      "metadata": {
        "id": "vMUpaLFgCdf8"
      }
    },
    {
      "cell_type": "markdown",
      "source": [
        "### Conv"
      ],
      "metadata": {
        "id": "Hv5sOCWiCxRI"
      }
    },
    {
      "cell_type": "code",
      "source": [
        "class Conv(nn.Module):\n",
        "    def __init__(self, c_in, c_out, k, s=1, g=1):\n",
        "        super(Conv, self).__init__()\n",
        "\n",
        "        self.layers = nn.Sequential(\n",
        "            nn.Conv2d(c_in, c_out, k, s, (k - 1) // 2, g, bias=False),\n",
        "            nn.BatchNorm2d(c_out),\n",
        "            nn.SiLU(inplace=True)\n",
        "        )\n",
        "\n",
        "    def forward(self, x):\n",
        "        return self.layers(x)"
      ],
      "metadata": {
        "id": "SJO2EuhICdf8",
        "trusted": true,
        "execution": {
          "iopub.status.busy": "2025-08-24T17:15:12.426083Z",
          "iopub.execute_input": "2025-08-24T17:15:12.426509Z",
          "iopub.status.idle": "2025-08-24T17:15:12.431844Z",
          "shell.execute_reply.started": "2025-08-24T17:15:12.426480Z",
          "shell.execute_reply": "2025-08-24T17:15:12.431095Z"
        }
      },
      "outputs": [],
      "execution_count": 2
    },
    {
      "cell_type": "markdown",
      "source": [
        "### Downsampling"
      ],
      "metadata": {
        "id": "wI0WQTU_DF2d"
      }
    },
    {
      "cell_type": "code",
      "source": [
        "class Downsampling(nn.Module):\n",
        "    def __init__(self, c_in, c_out, k):\n",
        "        super(Downsampling, self).__init__()\n",
        "\n",
        "        self.conv1 = nn.Sequential(\n",
        "            Conv(c_in, c_in, 1),\n",
        "            Conv(c_in, c_out // 2, 3, 2)\n",
        "        )\n",
        "\n",
        "        self.conv2 = nn.Sequential(\n",
        "            nn.MaxPool2d(kernel_size=k, stride=k),\n",
        "            Conv(c_in, c_out // 2, 1)\n",
        "        )\n",
        "\n",
        "    def forward(self, x):\n",
        "        return torch.cat([self.conv1(x), self.conv2(x)], 1)"
      ],
      "metadata": {
        "id": "xwkcJSlUCdf9",
        "trusted": true,
        "execution": {
          "iopub.status.busy": "2025-08-24T17:15:12.433609Z",
          "iopub.execute_input": "2025-08-24T17:15:12.433817Z",
          "iopub.status.idle": "2025-08-24T17:15:12.447182Z",
          "shell.execute_reply.started": "2025-08-24T17:15:12.433800Z",
          "shell.execute_reply": "2025-08-24T17:15:12.446413Z"
        }
      },
      "outputs": [],
      "execution_count": 3
    },
    {
      "cell_type": "markdown",
      "source": [
        "## Backbone"
      ],
      "metadata": {
        "id": "epjTMiEiCdf9"
      }
    },
    {
      "cell_type": "markdown",
      "source": [
        "### ELAN Block"
      ],
      "metadata": {
        "id": "RlMWlVZDDXP0"
      }
    },
    {
      "cell_type": "code",
      "source": [
        "class ELANBlock(nn.Module):\n",
        "    def __init__(self, c_in, c_hidden, n_blocks, c_out):\n",
        "        super(ELANBlock, self).__init__()\n",
        "\n",
        "        self.transition_layer = Conv(c_in, c_hidden, 1)\n",
        "        self.base_layer = Conv(c_in, c_hidden, 1)\n",
        "\n",
        "        self.layers = nn.Sequential(*[Conv(c_hidden, c_hidden, 3) for _ in range(n_blocks)])\n",
        "\n",
        "        n_in = (n_blocks // 2 + 2) * c_hidden\n",
        "        self.feature_aggreation = Conv(n_in, c_out, 1)\n",
        "\n",
        "    def forward(self, x):\n",
        "        output = [self.transition_layer(x)]\n",
        "        x = self.base_layer(x)\n",
        "        output.append(x)\n",
        "\n",
        "        for idx, layer in enumerate(self.layers):\n",
        "            x = layer(x)\n",
        "            if idx % 2 == 1:\n",
        "                output.append(x)\n",
        "\n",
        "        output = torch.cat(output, 1)\n",
        "        return self.feature_aggreation(output)"
      ],
      "metadata": {
        "id": "R0FBhC9zCdf9",
        "trusted": true,
        "execution": {
          "iopub.status.busy": "2025-08-24T17:15:12.447974Z",
          "iopub.execute_input": "2025-08-24T17:15:12.448716Z",
          "iopub.status.idle": "2025-08-24T17:15:12.463557Z",
          "shell.execute_reply.started": "2025-08-24T17:15:12.448690Z",
          "shell.execute_reply": "2025-08-24T17:15:12.462818Z"
        }
      },
      "outputs": [],
      "execution_count": 4
    },
    {
      "cell_type": "markdown",
      "source": [
        "### SPPCSPC"
      ],
      "metadata": {
        "id": "EJVJjkTMDfek"
      }
    },
    {
      "cell_type": "code",
      "source": [
        "class SPPCSPC(nn.Module):\n",
        "    def __init__(self, c_in, c_out, k=[5, 9, 13]) -> None:\n",
        "        super(SPPCSPC, self).__init__()\n",
        "\n",
        "        self.conv1 = Conv(c_in, c_out, 1)\n",
        "\n",
        "        self.preprocess = nn.Sequential(\n",
        "            Conv(c_in, c_out, 1),\n",
        "            Conv(c_out, c_out, 3),\n",
        "            Conv(c_out, c_out, 1)\n",
        "        )\n",
        "\n",
        "        self.maxpool = nn.ModuleList([nn.MaxPool2d(ki, 1, ki // 2) for ki in k])\n",
        "\n",
        "        self.postprocess = nn.Sequential(\n",
        "            Conv(4 * c_out, c_out, 1),\n",
        "            Conv(c_out, c_out, 3)\n",
        "        )\n",
        "\n",
        "        self.concat = Conv(2 * c_out, c_out, 1)\n",
        "\n",
        "    def forward(self, x):\n",
        "        x1 = self.preprocess(x)\n",
        "\n",
        "        y1 = [x1] + [layer(x1) for layer in self.maxpool]\n",
        "        y1 = torch.cat(y1, 1)\n",
        "        y1 = self.postprocess(y1)\n",
        "\n",
        "        y2 = self.conv1(x)\n",
        "\n",
        "        return self.concat(torch.cat([y1, y2], 1))"
      ],
      "metadata": {
        "id": "OD9cMm9ACdf9",
        "trusted": true,
        "execution": {
          "iopub.status.busy": "2025-08-24T17:15:12.464451Z",
          "iopub.execute_input": "2025-08-24T17:15:12.464814Z",
          "iopub.status.idle": "2025-08-24T17:15:12.481288Z",
          "shell.execute_reply.started": "2025-08-24T17:15:12.464784Z",
          "shell.execute_reply": "2025-08-24T17:15:12.480587Z"
        }
      },
      "outputs": [],
      "execution_count": 5
    },
    {
      "cell_type": "markdown",
      "source": [
        "### Backbone"
      ],
      "metadata": {
        "id": "Pt3n2atKDyX1"
      }
    },
    {
      "cell_type": "code",
      "source": [
        "class Backbone(nn.Module):\n",
        "    def __init__(self, c_out_downs = [64, 128, 256, 512],\n",
        "                     c_hidd_elan = [32, 64, 128, 256],\n",
        "                     n_blocks = 6) -> None:\n",
        "        super(Backbone, self).__init__()\n",
        "\n",
        "        self.conv = Conv(3, 32, 3, 2)\n",
        "\n",
        "        n_in = 32\n",
        "        layers = []\n",
        "        for n_out, n_hidd in zip(c_out_downs, c_hidd_elan):\n",
        "            layers.append(nn.Sequential(\n",
        "                Downsampling(n_in, n_out, 2),\n",
        "                ELANBlock(n_out, n_hidd, n_blocks, n_out)\n",
        "            ))\n",
        "            n_in = n_out\n",
        "\n",
        "        self.layers = nn.Sequential(*layers)\n",
        "        self.spp = SPPCSPC(n_in, n_in)\n",
        "\n",
        "    def forward(self, x):\n",
        "        x = self.conv(x)\n",
        "\n",
        "        output = []\n",
        "        for idx, layer in enumerate(self.layers):\n",
        "            x = layer(x)\n",
        "            if idx > 0:\n",
        "                output.append(x)\n",
        "\n",
        "        output[-1] = self.spp(output[-1])\n",
        "\n",
        "        return output"
      ],
      "metadata": {
        "id": "mCC6i6vGCdf9",
        "trusted": true,
        "execution": {
          "iopub.status.busy": "2025-08-24T17:15:12.482107Z",
          "iopub.execute_input": "2025-08-24T17:15:12.482375Z",
          "iopub.status.idle": "2025-08-24T17:15:12.490904Z",
          "shell.execute_reply.started": "2025-08-24T17:15:12.482349Z",
          "shell.execute_reply": "2025-08-24T17:15:12.490098Z"
        }
      },
      "outputs": [],
      "execution_count": 6
    },
    {
      "cell_type": "markdown",
      "source": [
        "## Neck"
      ],
      "metadata": {
        "id": "vw9BMO-UCdf9"
      }
    },
    {
      "cell_type": "markdown",
      "source": [
        "### Fuse Feature Module"
      ],
      "metadata": {
        "id": "gfyuugMlD4RE"
      }
    },
    {
      "cell_type": "code",
      "source": [
        "class FuseFeatureModule(nn.Module):\n",
        "    def __init__(self, c_in, c_out) -> None:\n",
        "        super(FuseFeatureModule, self).__init__()\n",
        "\n",
        "        self.upsample = nn.Upsample(scale_factor=2, mode='nearest')\n",
        "        self.conv1 = Conv(c_in, c_in // 2, 1)\n",
        "        self.conv2 = Conv(c_in, c_in // 2, 1)\n",
        "        self.conv3 = Conv(c_in, c_out, 3)\n",
        "\n",
        "    def forward(self, x):\n",
        "        [x1, x2] = x\n",
        "        x1 = self.upsample(x1)\n",
        "        x1 = self.conv1(x1)\n",
        "        x2 = self.conv2(x2)\n",
        "        concat = torch.cat([x1, x2], 1)\n",
        "        return self.conv3(concat)"
      ],
      "metadata": {
        "id": "a_s4js0TCdf9",
        "trusted": true,
        "execution": {
          "iopub.status.busy": "2025-08-24T17:15:12.491773Z",
          "iopub.execute_input": "2025-08-24T17:15:12.492287Z",
          "iopub.status.idle": "2025-08-24T17:15:12.507146Z",
          "shell.execute_reply.started": "2025-08-24T17:15:12.492261Z",
          "shell.execute_reply": "2025-08-24T17:15:12.506415Z"
        }
      },
      "outputs": [],
      "execution_count": 7
    },
    {
      "cell_type": "markdown",
      "source": [
        "### Neck"
      ],
      "metadata": {
        "id": "juG7DQe0EB_5"
      }
    },
    {
      "cell_type": "code",
      "source": [
        "class Neck(nn.Module):\n",
        "    def __init__(self, c_in=[512, 256, 128], c_out=[256, 128, 128]) -> None:\n",
        "        super(Neck, self).__init__()\n",
        "\n",
        "        self.p5 = Conv(c_in[0], c_out[0], 1)\n",
        "\n",
        "        self.upsampling = nn.ModuleList([\n",
        "            FuseFeatureModule(n_in, n_out)\n",
        "            for n_in, n_out in zip(c_in[1:], c_out[1:])])\n",
        "\n",
        "    def forward(self, x):\n",
        "        x = x[::-1]\n",
        "        output = [self.p5(x[0])]\n",
        "\n",
        "        for layer, xi in zip(self.upsampling, x[1:]):\n",
        "            output.append(layer([output[-1], xi]))\n",
        "\n",
        "        return output"
      ],
      "metadata": {
        "id": "trF9FRwHCdf-",
        "trusted": true,
        "execution": {
          "iopub.status.busy": "2025-08-24T17:15:12.507839Z",
          "iopub.execute_input": "2025-08-24T17:15:12.508057Z",
          "iopub.status.idle": "2025-08-24T17:15:12.519827Z",
          "shell.execute_reply.started": "2025-08-24T17:15:12.508040Z",
          "shell.execute_reply": "2025-08-24T17:15:12.519276Z"
        }
      },
      "outputs": [],
      "execution_count": 8
    },
    {
      "cell_type": "markdown",
      "source": [
        "## Drivable area segment head"
      ],
      "metadata": {
        "id": "uOfGGckbCdf-"
      }
    },
    {
      "cell_type": "code",
      "source": [
        "class DrivableAreaSegmentHead(nn.Module):\n",
        "    def __init__(self, c_in, c_hidd) -> None:\n",
        "        super(DrivableAreaSegmentHead, self).__init__()\n",
        "\n",
        "        next_layers = [Conv(c_in, c_in, 1)]\n",
        "        n_in = c_in\n",
        "        for n_hidd in c_hidd:\n",
        "            next_layers.append(nn.Upsample(scale_factor=2, mode='nearest'))\n",
        "            next_layers.append(Conv(n_in, n_hidd, 3))\n",
        "\n",
        "            n_in = n_hidd\n",
        "\n",
        "        self.next_layers = nn.Sequential(*next_layers)\n",
        "\n",
        "    def forward(self, x):\n",
        "        return self.next_layers(x)"
      ],
      "metadata": {
        "id": "0q0iQnNYCdf-",
        "trusted": true,
        "execution": {
          "iopub.status.busy": "2025-08-24T17:15:12.522427Z",
          "iopub.execute_input": "2025-08-24T17:15:12.522639Z",
          "iopub.status.idle": "2025-08-24T17:15:12.533212Z",
          "shell.execute_reply.started": "2025-08-24T17:15:12.522623Z",
          "shell.execute_reply": "2025-08-24T17:15:12.532540Z"
        }
      },
      "outputs": [],
      "execution_count": 9
    },
    {
      "cell_type": "markdown",
      "source": [
        "## Lane segment head"
      ],
      "metadata": {
        "id": "eSuFGAlDFK2v"
      }
    },
    {
      "cell_type": "code",
      "source": [
        "class LaneSegmentHead(nn.Module):\n",
        "    def __init__(self, c_in, c_hidd):\n",
        "        super(LaneSegmentHead, self).__init__()\n",
        "\n",
        "        next_layers = [Conv(c_in, c_in, 1)]\n",
        "        n_in = c_in\n",
        "        for n_hidd in c_hidd:\n",
        "            next_layers.append(nn.ConvTranspose2d(n_in, n_hidd, 2, 2, bias=False))\n",
        "            n_in = n_hidd\n",
        "\n",
        "        self.next_layers = nn.Sequential(*next_layers)\n",
        "\n",
        "    def forward(self, x):\n",
        "        return self.next_layers(x)"
      ],
      "metadata": {
        "id": "DEXT0I3ACdf-",
        "trusted": true,
        "execution": {
          "iopub.status.busy": "2025-08-24T17:15:12.534012Z",
          "iopub.execute_input": "2025-08-24T17:15:12.534255Z",
          "iopub.status.idle": "2025-08-24T17:15:12.550544Z",
          "shell.execute_reply.started": "2025-08-24T17:15:12.534234Z",
          "shell.execute_reply": "2025-08-24T17:15:12.549757Z"
        }
      },
      "outputs": [],
      "execution_count": 10
    },
    {
      "cell_type": "markdown",
      "source": [
        "## Detection head"
      ],
      "metadata": {
        "id": "GPOvAbc2Cdf-"
      }
    },
    {
      "cell_type": "markdown",
      "source": [
        "### Path aggregation block"
      ],
      "metadata": {
        "id": "vg12CbkXFXx9"
      }
    },
    {
      "cell_type": "code",
      "source": [
        "class PathAggregationBlock(nn.Module):\n",
        "    def __init__(self, c_in) -> None:\n",
        "        super(PathAggregationBlock, self).__init__()\n",
        "\n",
        "        self.conv1 = Conv(c_in, c_in, 3, 2)\n",
        "        self.conv2 = Conv(2 * c_in, 2 * c_in, 3)\n",
        "\n",
        "    def forward(self, x):\n",
        "        [x1, x2] = x\n",
        "        x1 = self.conv1(x1)\n",
        "        concat = torch.cat([x1, x2], 1)\n",
        "        return self.conv2(concat)"
      ],
      "metadata": {
        "id": "RUV3i5JJCdf-",
        "trusted": true,
        "execution": {
          "iopub.status.busy": "2025-08-24T17:15:12.551316Z",
          "iopub.execute_input": "2025-08-24T17:15:12.551565Z",
          "iopub.status.idle": "2025-08-24T17:15:12.563512Z",
          "shell.execute_reply.started": "2025-08-24T17:15:12.551539Z",
          "shell.execute_reply": "2025-08-24T17:15:12.562834Z"
        }
      },
      "outputs": [],
      "execution_count": 11
    },
    {
      "cell_type": "markdown",
      "source": [
        "### Path aggregation network"
      ],
      "metadata": {
        "id": "QUArz0BdFqJ0"
      }
    },
    {
      "cell_type": "code",
      "source": [
        "class PathAggregationNetwork(nn.Module):\n",
        "    def __init__(self, c_in) -> None:\n",
        "        super(PathAggregationNetwork, self).__init__()\n",
        "\n",
        "        self.n3 = Conv(c_in[0], c_in[0], 1)\n",
        "        self.layers = nn.ModuleList([PathAggregationBlock(n_in) for n_in in c_in[1:]])\n",
        "\n",
        "    def forward(self, x):\n",
        "        x = x[::-1]\n",
        "        output = [self.n3(x[0])]\n",
        "\n",
        "        for layer, xi in zip(self.layers, x[1:]):\n",
        "            output.append(layer([output[-1], xi]))\n",
        "\n",
        "        return output"
      ],
      "metadata": {
        "id": "ztzv753iCdf-",
        "trusted": true,
        "execution": {
          "iopub.status.busy": "2025-08-24T17:15:12.564300Z",
          "iopub.execute_input": "2025-08-24T17:15:12.564484Z",
          "iopub.status.idle": "2025-08-24T17:15:12.576996Z",
          "shell.execute_reply.started": "2025-08-24T17:15:12.564469Z",
          "shell.execute_reply": "2025-08-24T17:15:12.576289Z"
        }
      },
      "outputs": [],
      "execution_count": 12
    },
    {
      "cell_type": "markdown",
      "source": [
        "### Detect head"
      ],
      "metadata": {
        "id": "jDUHRDgXFsua"
      }
    },
    {
      "cell_type": "code",
      "source": [
        "class DetectHead(nn.Module):\n",
        "    def __init__(self, nc, anchors,\n",
        "               c_in=[128, 128, 256], c_h=[128, 256, 512]) -> None:\n",
        "        super(DetectHead, self).__init__()\n",
        "\n",
        "        self.pan = PathAggregationNetwork(c_in)\n",
        "        self.stride = torch.tensor([8, 16, 32])\n",
        "        self.nc = nc\n",
        "        self.no = nc + 5\n",
        "        self.nl = len(anchors)\n",
        "        self.na = len(anchors[0])\n",
        "        self.grid = [torch.zeros(1)] * self.nl\n",
        "        self.register_buffer('anchor_grid', anchors.float().view(self.nl, 1, -1, 1, 1, 2))\n",
        "        self.detectors = nn.ModuleList(\n",
        "            [nn.Conv2d(n_h, self.no * self.na, 1) for n_h in c_h]\n",
        "        )\n",
        "\n",
        "    def forward(self, x):\n",
        "        x = self.pan(x)\n",
        "\n",
        "        for i in range(self.nl):\n",
        "            x[i] = self.detectors[i](x[i])\n",
        "            bs, _, ny, nx = x[i].shape\n",
        "\n",
        "            if self.grid[i].shape[2:4] != x[i].shape[2:4]:\n",
        "                self.grid[i] = self.make_grid(nx, ny).to(x[i].device)\n",
        "\n",
        "            x[i] = x[i].view(bs, self.na, self.no, ny, nx).permute(0, 1, 3, 4, 2).contiguous()\n",
        "\n",
        "            x[i][..., 0:2] = (x[i][..., 0:2].sigmoid() + self.grid[i]) * self.stride[i]\n",
        "            x[i][..., 2:4] = (x[i][..., 2:4].sigmoid() ** 2) * self.anchor_grid[i].to(x[i].device)\n",
        "\n",
        "            if not self.training:\n",
        "                x[i][..., 4:] = x[i][..., 4:].sigmoid()\n",
        "\n",
        "            x[i] = x[i].view(bs, -1, self.no)\n",
        "\n",
        "        return torch.cat(x, dim=1)\n",
        "\n",
        "    @staticmethod\n",
        "    def make_grid(nx, ny):\n",
        "        yv, xv = torch.meshgrid([torch.arange(ny), torch.arange(nx)])\n",
        "        return torch.stack((xv, yv), 2).view((1, 1, ny, nx, 2)).float()"
      ],
      "metadata": {
        "id": "F6wcsiXMCdf-",
        "trusted": true,
        "execution": {
          "iopub.status.busy": "2025-08-24T17:15:12.577790Z",
          "iopub.execute_input": "2025-08-24T17:15:12.578003Z",
          "iopub.status.idle": "2025-08-24T17:15:12.588603Z",
          "shell.execute_reply.started": "2025-08-24T17:15:12.577988Z",
          "shell.execute_reply": "2025-08-24T17:15:12.587964Z"
        }
      },
      "outputs": [],
      "execution_count": 66
    },
    {
      "cell_type": "markdown",
      "source": [
        "## Full implementation"
      ],
      "metadata": {
        "id": "MGti2OJdCdf_"
      }
    },
    {
      "cell_type": "code",
      "source": [
        "DEFAULT_ANCHORS = torch.tensor([\n",
        "    [(12, 16), (19, 36), (40, 28)],\n",
        "    [(36, 75), (76, 55), (72, 146)],\n",
        "    [(142, 110), (192, 243), (459, 401)]\n",
        "])\n",
        "\n",
        "class YOLOP(nn.Module):\n",
        "    def __init__(self, nc=10, anchors=DEFAULT_ANCHORS):\n",
        "        super(YOLOP, self).__init__()\n",
        "\n",
        "        self.backbone = Backbone()\n",
        "        self.neck = Neck()\n",
        "        self.drivableAreaHead = DrivableAreaSegmentHead(512, [256, 128, 64, 32, 1])\n",
        "        self.laneHead = LaneSegmentHead(128, [64, 32, 1])\n",
        "        self.detectHead = DetectHead(nc, anchors)\n",
        "\n",
        "    def forward(self, x):\n",
        "        x = self.backbone(x)\n",
        "        drivable = self.drivableAreaHead(x[-1])\n",
        "        x = self.neck(x)\n",
        "        lanes = self.laneHead(x[-1])\n",
        "        boxes = self.detectHead(x)\n",
        "\n",
        "        return drivable, lanes, boxes"
      ],
      "metadata": {
        "id": "GsnTXbWlCdf_",
        "trusted": true,
        "execution": {
          "iopub.status.busy": "2025-08-24T17:15:12.589398Z",
          "iopub.execute_input": "2025-08-24T17:15:12.589687Z",
          "iopub.status.idle": "2025-08-24T17:15:12.605355Z",
          "shell.execute_reply.started": "2025-08-24T17:15:12.589662Z",
          "shell.execute_reply": "2025-08-24T17:15:12.604707Z"
        }
      },
      "outputs": [],
      "execution_count": 14
    },
    {
      "cell_type": "code",
      "source": [
        "model = YOLOP()\n",
        "model.eval()\n",
        "x = torch.randint(0, 255, (1, 3, 640, 640)).float()\n",
        "\n",
        "p_drv, p_lanes, p_boxes = model(x)\n",
        "#print(p_drv.shape)\n",
        "#print(p_lanes.shape)\n",
        "#print(p_boxes.shape)\n",
        "print(p_boxes[..., 0:4].min(), p_boxes[..., 0:4].max())\n",
        "print(p_boxes[..., 4].min(), p_boxes[..., 4].max())\n",
        "print(p_boxes[..., 5:].min(), p_boxes[..., 5:].max())\n",
        "\n",
        "del model, x, p_drv, p_lanes, p_boxes\n",
        "torch.cuda.empty_cache()\n",
        "gc.collect()"
      ],
      "metadata": {
        "id": "ycpup8GyCdf_",
        "trusted": true,
        "outputId": "350206ee-20f3-47ec-bca1-0d5a71dad873",
        "colab": {
          "base_uri": "https://localhost:8080/"
        },
        "execution": {
          "iopub.status.busy": "2025-08-24T17:15:12.606051Z",
          "iopub.execute_input": "2025-08-24T17:15:12.606224Z",
          "iopub.status.idle": "2025-08-24T17:15:14.108122Z",
          "shell.execute_reply.started": "2025-08-24T17:15:12.606210Z",
          "shell.execute_reply": "2025-08-24T17:15:14.107459Z"
        }
      },
      "outputs": [
        {
          "output_type": "stream",
          "name": "stdout",
          "text": [
            "tensor(2.8737, grad_fn=<MinBackward1>) tensor(636.1690, grad_fn=<MaxBackward1>)\n",
            "tensor(0.4910, grad_fn=<MinBackward1>) tensor(0.5200, grad_fn=<MaxBackward1>)\n",
            "tensor(0.4787, grad_fn=<MinBackward1>) tensor(0.5205, grad_fn=<MaxBackward1>)\n"
          ]
        },
        {
          "output_type": "execute_result",
          "data": {
            "text/plain": [
              "1089"
            ]
          },
          "metadata": {},
          "execution_count": 82
        }
      ],
      "execution_count": 82
    },
    {
      "cell_type": "markdown",
      "source": [
        "# Dataset"
      ],
      "metadata": {
        "id": "zVhAr5ruCdf6"
      }
    },
    {
      "cell_type": "markdown",
      "source": [
        "## Download dataset"
      ],
      "metadata": {
        "id": "zIIYhU38F3ku"
      }
    },
    {
      "cell_type": "code",
      "source": [
        "import kagglehub\n",
        "\n",
        "# Download latest version\n",
        "DATASET_PATH = kagglehub.dataset_download(\"alesssaulea/bdd100k\")\n",
        "DATASET_PATH"
      ],
      "metadata": {
        "id": "8OkQW1VtIPqQ",
        "trusted": true,
        "outputId": "54b1f59f-34e1-4f4d-d413-b5e2662997d1",
        "colab": {
          "base_uri": "https://localhost:8080/",
          "height": 88
        },
        "execution": {
          "iopub.status.busy": "2025-08-24T17:15:14.108907Z",
          "iopub.execute_input": "2025-08-24T17:15:14.109190Z",
          "iopub.status.idle": "2025-08-24T17:15:14.112827Z",
          "shell.execute_reply.started": "2025-08-24T17:15:14.109163Z",
          "shell.execute_reply": "2025-08-24T17:15:14.111985Z"
        }
      },
      "outputs": [
        {
          "output_type": "stream",
          "name": "stdout",
          "text": [
            "Downloading from https://www.kaggle.com/api/v1/datasets/download/alesssaulea/bdd100k?dataset_version_number=2...\n"
          ]
        },
        {
          "output_type": "stream",
          "name": "stderr",
          "text": [
            "100%|██████████| 5.80G/5.80G [04:39<00:00, 22.3MB/s]"
          ]
        },
        {
          "output_type": "stream",
          "name": "stdout",
          "text": [
            "Extracting files...\n"
          ]
        },
        {
          "output_type": "stream",
          "name": "stderr",
          "text": [
            "\n"
          ]
        },
        {
          "output_type": "execute_result",
          "data": {
            "text/plain": [
              "'/root/.cache/kagglehub/datasets/alesssaulea/bdd100k/versions/2'"
            ],
            "application/vnd.google.colaboratory.intrinsic+json": {
              "type": "string"
            }
          },
          "metadata": {},
          "execution_count": 16
        }
      ],
      "execution_count": 16
    },
    {
      "cell_type": "code",
      "source": [
        "# DATASET_PATH = '/kaggle/input/bdd100k'"
      ],
      "metadata": {
        "id": "iqk1XDCYO3wW",
        "trusted": true,
        "execution": {
          "iopub.status.busy": "2025-08-24T17:15:14.113698Z",
          "iopub.execute_input": "2025-08-24T17:15:14.113993Z",
          "iopub.status.idle": "2025-08-24T17:15:14.127165Z",
          "shell.execute_reply.started": "2025-08-24T17:15:14.113970Z",
          "shell.execute_reply": "2025-08-24T17:15:14.126376Z"
        }
      },
      "outputs": [],
      "execution_count": 17
    },
    {
      "cell_type": "markdown",
      "source": [
        "## Paths"
      ],
      "metadata": {
        "id": "h7JnbMCeCdf7"
      }
    },
    {
      "cell_type": "code",
      "source": [
        "IMAGE_TRAIN_PATH = DATASET_PATH + '/images/100k/train'\n",
        "IMAGE_VAL_PATH = DATASET_PATH + '/images/100k/val'\n",
        "\n",
        "DET_TRAIN_PATH = DATASET_PATH + '/labels/det_20/train'\n",
        "DET_VAL_PATH = DATASET_PATH + '/labels/det_20/val'\n",
        "\n",
        "DRIVABLE_TRAIN_PATH = DATASET_PATH + '/labels/drivable/colormaps/train'\n",
        "DRIVABLE_VAL_PATH = DATASET_PATH + '/labels/drivable/colormaps/val'\n",
        "\n",
        "LANE_TRAIN_PATH = DATASET_PATH + '/labels/lane/colormaps/train'\n",
        "LANE_VAL_PATH = DATASET_PATH + '/labels/lane/colormaps/val'"
      ],
      "metadata": {
        "id": "u1yvXYtXCdf7",
        "trusted": true,
        "execution": {
          "iopub.status.busy": "2025-08-24T17:15:14.128015Z",
          "iopub.execute_input": "2025-08-24T17:15:14.128259Z",
          "iopub.status.idle": "2025-08-24T17:15:14.140208Z",
          "shell.execute_reply.started": "2025-08-24T17:15:14.128238Z",
          "shell.execute_reply": "2025-08-24T17:15:14.139483Z"
        }
      },
      "outputs": [],
      "execution_count": 18
    },
    {
      "cell_type": "markdown",
      "source": [
        "## Utils"
      ],
      "metadata": {
        "id": "rp2fRNdRCdf7"
      }
    },
    {
      "cell_type": "code",
      "source": [
        "CATEGORY_TO_INT = {\n",
        "  \"bicycle\": 0,\n",
        "  \"bus\": 1,\n",
        "  \"car\": 2,\n",
        "  \"motorcycle\": 3,\n",
        "  \"person\": 4,\n",
        "  \"pedestrian\": 4,\n",
        "  \"rider\": 5,\n",
        "  \"traffic light\": 6,\n",
        "  \"traffic sign\": 7,\n",
        "  \"train\": 8,\n",
        "  \"truck\": 9,\n",
        "  \"trailer\": 9\n",
        "}"
      ],
      "metadata": {
        "id": "EmAi4m5tCdf7",
        "trusted": true,
        "execution": {
          "iopub.status.busy": "2025-08-24T17:15:14.140982Z",
          "iopub.execute_input": "2025-08-24T17:15:14.141181Z",
          "iopub.status.idle": "2025-08-24T17:15:14.154493Z",
          "shell.execute_reply.started": "2025-08-24T17:15:14.141166Z",
          "shell.execute_reply": "2025-08-24T17:15:14.153653Z"
        }
      },
      "outputs": [],
      "execution_count": 19
    },
    {
      "cell_type": "markdown",
      "source": [
        "## Dataset class"
      ],
      "metadata": {
        "id": "dplfIIFDCdf8"
      }
    },
    {
      "cell_type": "code",
      "source": [
        "class BDD100K(Dataset):\n",
        "    def __init__(self, img_dir, drv_dir, lane_dir, det_dir, out_s, n=0, train=True):\n",
        "        self.img_dir = img_dir\n",
        "        self.drv_dir = drv_dir\n",
        "        self.lane_dir = lane_dir\n",
        "        self.det_dir = det_dir\n",
        "        self.out_s = out_s\n",
        "        self.transform = ToTensorV2()\n",
        "        self.train = train\n",
        "\n",
        "        img_list: list[str] = os.listdir(self.img_dir)\n",
        "        if n > 0:\n",
        "            img_list = random.sample(img_list, n)\n",
        "\n",
        "        self.images = []\n",
        "        for file in tqdm(img_list, total=len(img_list)):\n",
        "            self.images.append(self.load_image(file))\n",
        "\n",
        "        if self.train:\n",
        "            self.anchors = self.generate_anchors()\n",
        "\n",
        "    def load_image(self, file):\n",
        "        img_path = self.img_dir + '/' + file\n",
        "        det_path = self.det_dir + '/' + file.replace('.jpg', '.json')\n",
        "        drv_path = self.drv_dir + '/' + file.replace('.jpg', '.png')\n",
        "        lane_path = self.lane_dir + '/' + file.replace('.jpg', '.png')\n",
        "\n",
        "        img = cv2.imread(img_path)\n",
        "        h, w, _ = img.shape\n",
        "        img = cv2.resize(img, self.out_s)\n",
        "\n",
        "        drv = cv2.imread(drv_path, cv2.IMREAD_GRAYSCALE)\n",
        "        drv = cv2.resize(drv, self.out_s)\n",
        "        drv = (drv > 0).astype(np.float32)\n",
        "\n",
        "        lanes = cv2.imread(lane_path, cv2.IMREAD_GRAYSCALE)\n",
        "        lanes = cv2.resize(lanes, self.out_s)\n",
        "        lanes = (lanes > 0).astype(np.float32)\n",
        "\n",
        "        try:\n",
        "            with open(det_path) as f:\n",
        "                obj = json.load(f)\n",
        "                labels = obj['labels'] if 'labels' in obj else []\n",
        "        except:\n",
        "            labels = []\n",
        "\n",
        "        boxes = []\n",
        "        sw, sh = self.out_s\n",
        "        ratio_x, ratio_y = sw / w, sh / h\n",
        "\n",
        "        for lbl in labels:\n",
        "            if lbl['category'] in CATEGORY_TO_INT:\n",
        "                cat = CATEGORY_TO_INT[lbl['category']]\n",
        "                x1 = lbl['box2d']['x1'] * ratio_x\n",
        "                y1 = lbl['box2d']['y1'] * ratio_y\n",
        "                x2 = lbl['box2d']['x2'] * ratio_x\n",
        "                y2 = lbl['box2d']['y2'] * ratio_y\n",
        "\n",
        "                assert 0 <= x1 <= sw\n",
        "                assert 0 <= y1 <= sh\n",
        "                assert 0 <= x2 <= sw\n",
        "                assert 0 <= y2 <= sh\n",
        "\n",
        "                xc = (x1 + x2) / 2\n",
        "                yc = (y1 + y2) / 2\n",
        "                wb = abs(x1 - x2)\n",
        "                hb = abs(y1 - y2)\n",
        "\n",
        "                boxes.append((xc, yc, wb, hb, cat))\n",
        "\n",
        "        transf = self.transform(image=img, masks=[drv, lanes])\n",
        "        img = transf['image'].float()\n",
        "        drv, lanes = transf['masks']\n",
        "\n",
        "        return [img, drv, lanes, torch.tensor(boxes)]\n",
        "\n",
        "    def generate_anchors(self):\n",
        "        boxes = [[wb, hb] for _, _, _, lbls in self.images for _, _, wb, hb, _ in lbls]\n",
        "        kmeans = KMeans(n_clusters=9, random_state=0)\n",
        "        kmeans.fit(boxes)\n",
        "        anchors = kmeans.cluster_centers_\n",
        "        anchors = anchors[np.argsort(anchors[:, 0] * anchors[:, 1])]\n",
        "        return torch.tensor(anchors).reshape((3, 3, 2)).float()\n",
        "\n",
        "    def __getitem__(self, index):\n",
        "        return self.images[index]\n",
        "\n",
        "    def __len__(self):\n",
        "        return len(self.images)"
      ],
      "metadata": {
        "id": "7FfRETUFCdf8",
        "trusted": true,
        "execution": {
          "iopub.status.busy": "2025-08-24T17:15:14.155368Z",
          "iopub.execute_input": "2025-08-24T17:15:14.155602Z",
          "iopub.status.idle": "2025-08-24T17:15:14.179504Z",
          "shell.execute_reply.started": "2025-08-24T17:15:14.155584Z",
          "shell.execute_reply": "2025-08-24T17:15:14.178815Z"
        }
      },
      "outputs": [],
      "execution_count": 68
    },
    {
      "cell_type": "markdown",
      "source": [
        "# Training"
      ],
      "metadata": {
        "id": "zw1XC7AlCdf_"
      }
    },
    {
      "cell_type": "markdown",
      "source": [
        "## Setup"
      ],
      "metadata": {
        "id": "-8Pqlp8pCdf_"
      }
    },
    {
      "cell_type": "code",
      "source": [
        "device = torch.device('cuda' if torch.cuda.is_available() else 'cpu')\n",
        "device"
      ],
      "metadata": {
        "id": "4uMGCvn0Cdf_",
        "trusted": true,
        "outputId": "616728c1-d2aa-40d9-9362-7bd6087b940f",
        "colab": {
          "base_uri": "https://localhost:8080/"
        },
        "execution": {
          "iopub.status.busy": "2025-08-24T17:15:14.180279Z",
          "iopub.execute_input": "2025-08-24T17:15:14.180531Z",
          "iopub.status.idle": "2025-08-24T17:15:14.272500Z",
          "shell.execute_reply.started": "2025-08-24T17:15:14.180504Z",
          "shell.execute_reply": "2025-08-24T17:15:14.271710Z"
        }
      },
      "outputs": [
        {
          "output_type": "execute_result",
          "data": {
            "text/plain": [
              "device(type='cuda')"
            ]
          },
          "metadata": {},
          "execution_count": 21
        }
      ],
      "execution_count": 21
    },
    {
      "cell_type": "code",
      "source": [
        "dataset = BDD100K(IMAGE_TRAIN_PATH, DRIVABLE_TRAIN_PATH, LANE_TRAIN_PATH, DET_TRAIN_PATH, (640, 640), n=300)"
      ],
      "metadata": {
        "id": "1rsz1183CdgA",
        "trusted": true,
        "outputId": "ef067545-d9b0-44e3-819d-07bad690d6b1",
        "colab": {
          "base_uri": "https://localhost:8080/"
        },
        "execution": {
          "iopub.status.busy": "2025-08-24T17:15:14.273341Z",
          "iopub.execute_input": "2025-08-24T17:15:14.273544Z",
          "iopub.status.idle": "2025-08-24T17:15:27.485739Z",
          "shell.execute_reply.started": "2025-08-24T17:15:14.273521Z",
          "shell.execute_reply": "2025-08-24T17:15:27.484935Z"
        }
      },
      "outputs": [
        {
          "output_type": "stream",
          "name": "stderr",
          "text": [
            "100%|██████████| 300/300 [00:06<00:00, 47.23it/s]\n"
          ]
        }
      ],
      "execution_count": 87
    },
    {
      "cell_type": "code",
      "source": [
        "def collate_fn(batch):\n",
        "    imgs, drvs, lanes, lbls = zip(*batch)\n",
        "    return list(imgs), list(drvs), list(lanes), list(lbls)"
      ],
      "metadata": {
        "id": "-U8WPd6mCdgA",
        "trusted": true,
        "execution": {
          "iopub.status.busy": "2025-08-24T17:15:27.486822Z",
          "iopub.execute_input": "2025-08-24T17:15:27.487132Z",
          "iopub.status.idle": "2025-08-24T17:15:27.491464Z",
          "shell.execute_reply.started": "2025-08-24T17:15:27.487106Z",
          "shell.execute_reply": "2025-08-24T17:15:27.490709Z"
        }
      },
      "outputs": [],
      "execution_count": 23
    },
    {
      "cell_type": "code",
      "source": [
        "data_loader = DataLoader(dataset, batch_size=8, shuffle=True, collate_fn=collate_fn)"
      ],
      "metadata": {
        "id": "Mul9FgWmCdgA",
        "trusted": true,
        "execution": {
          "iopub.status.busy": "2025-08-24T17:15:27.492142Z",
          "iopub.execute_input": "2025-08-24T17:15:27.492313Z",
          "iopub.status.idle": "2025-08-24T17:15:27.505999Z",
          "shell.execute_reply.started": "2025-08-24T17:15:27.492299Z",
          "shell.execute_reply": "2025-08-24T17:15:27.505219Z"
        }
      },
      "outputs": [],
      "execution_count": 88
    },
    {
      "cell_type": "markdown",
      "source": [
        "## Loss function"
      ],
      "metadata": {
        "id": "vqbdGvWHCdgA"
      }
    },
    {
      "cell_type": "code",
      "source": [
        "def xywh_to_xyxy(boxes):\n",
        "    cx, cy, w, h = boxes[:, 0], boxes[:, 1], boxes[:, 2], boxes[:, 3]\n",
        "    return torch.stack([cx - w / 2, cy - h / 2, cx + w / 2, cy + h / 2], dim=1)"
      ],
      "metadata": {
        "id": "n7I69RbECdf7",
        "trusted": true,
        "execution": {
          "iopub.status.busy": "2025-08-24T17:15:27.506748Z",
          "iopub.execute_input": "2025-08-24T17:15:27.506968Z",
          "iopub.status.idle": "2025-08-24T17:15:27.519618Z",
          "shell.execute_reply.started": "2025-08-24T17:15:27.506952Z",
          "shell.execute_reply": "2025-08-24T17:15:27.518866Z"
        }
      },
      "outputs": [],
      "execution_count": 25
    },
    {
      "cell_type": "code",
      "source": [
        "def center_regions(boxes, radius=2.5):\n",
        "    center_w = boxes[:, 2] / radius\n",
        "    center_h = boxes[:, 3] / radius\n",
        "\n",
        "    cx1 = boxes[:, 0] - center_w\n",
        "    cy1 = boxes[:, 1] - center_h\n",
        "    cx2 = boxes[:, 0] + center_w\n",
        "    cy2 = boxes[:, 1] + center_h\n",
        "\n",
        "    return torch.cat([cx1.unsqueeze(1), cy1.unsqueeze(1), cx2.unsqueeze(1), cy2.unsqueeze(1)], dim=1)"
      ],
      "metadata": {
        "id": "VLaA7qxxJ1Sy",
        "trusted": true,
        "execution": {
          "iopub.status.busy": "2025-08-24T17:15:27.520552Z",
          "iopub.execute_input": "2025-08-24T17:15:27.521284Z",
          "iopub.status.idle": "2025-08-24T17:15:27.534064Z",
          "shell.execute_reply.started": "2025-08-24T17:15:27.521266Z",
          "shell.execute_reply": "2025-08-24T17:15:27.533341Z"
        }
      },
      "outputs": [],
      "execution_count": 26
    },
    {
      "cell_type": "code",
      "source": [
        "def filter_pred_in_center_region(p_boxes, c_regions):\n",
        "    gt_x1 = c_regions[:, 0].unsqueeze(1)\n",
        "    gt_y1 = c_regions[:, 1].unsqueeze(1)\n",
        "    gt_x2 = c_regions[:, 2].unsqueeze(1)\n",
        "    gt_y2 = c_regions[:, 3].unsqueeze(1)\n",
        "\n",
        "    px = p_boxes[:, 0].unsqueeze(0)\n",
        "    py = p_boxes[:, 1].unsqueeze(0)\n",
        "\n",
        "    in_x = (px >= gt_x1) & (px <= gt_x2)\n",
        "    in_y = (py >= gt_y1) & (py <= gt_y2)\n",
        "\n",
        "    return in_x & in_y"
      ],
      "metadata": {
        "id": "kZrwwYE0bT5M",
        "trusted": true,
        "execution": {
          "iopub.status.busy": "2025-08-24T17:15:27.537045Z",
          "iopub.execute_input": "2025-08-24T17:15:27.537283Z",
          "iopub.status.idle": "2025-08-24T17:15:27.552233Z",
          "shell.execute_reply.started": "2025-08-24T17:15:27.537265Z",
          "shell.execute_reply": "2025-08-24T17:15:27.551344Z"
        }
      },
      "outputs": [],
      "execution_count": 27
    },
    {
      "cell_type": "code",
      "source": [
        "def simota(p_boxes, gt_boxes, l_iou=6.0, l_cls=1.0):\n",
        "    num_pred = len(p_boxes)\n",
        "    num_gt = len(gt_boxes)\n",
        "    nc = p_boxes.size(-1) - 5\n",
        "\n",
        "    c_regions = center_regions(gt_boxes)\n",
        "    is_in_center = filter_pred_in_center_region(p_boxes, c_regions)\n",
        "\n",
        "    ious = ops.box_iou(xywh_to_xyxy(gt_boxes[:, :4]), xywh_to_xyxy(p_boxes[:, :4]))\n",
        "    iou_cost = 1 - ious\n",
        "\n",
        "    gt_cls = F.one_hot(gt_boxes[:, 4].long(), nc).unsqueeze(1).repeat(1, num_pred, 1).float()\n",
        "    pred_cls = p_boxes[:, 5:].unsqueeze(0).repeat(num_gt, 1, 1)\n",
        "    cls_cost = ops.sigmoid_focal_loss(pred_cls, gt_cls).sum(-1)\n",
        "\n",
        "    cost = l_iou * iou_cost + l_cls * cls_cost\n",
        "    cost[~is_in_center] = torch.inf\n",
        "\n",
        "    matched_gt_indices = []\n",
        "    matched_pred_indices = []\n",
        "\n",
        "    for i in range(num_gt):\n",
        "        iou_row = ious[i]\n",
        "        top_k = min(10, iou_row.size(0))\n",
        "        topk_ious, _ = torch.topk(iou_row, top_k)\n",
        "\n",
        "        dynamic_k = max(topk_ious.sum().int().item(), 1)\n",
        "\n",
        "        _, topk_cost_idx = torch.topk(cost[i], dynamic_k, largest=False)\n",
        "\n",
        "        matched_pred_indices.append(topk_cost_idx)\n",
        "        matched_gt_indices.append(torch.full_like(topk_cost_idx, i))\n",
        "\n",
        "    matched_pred_indices = torch.cat(matched_pred_indices)\n",
        "    matched_gt_indices = torch.cat(matched_gt_indices)\n",
        "\n",
        "    unique_pred_indices = matched_pred_indices.unique()\n",
        "    final_gt_indices = torch.full_like(unique_pred_indices, -1)\n",
        "\n",
        "    for i, pred_idx in enumerate(unique_pred_indices):\n",
        "        mask = matched_pred_indices == pred_idx\n",
        "        costs = cost[matched_gt_indices[mask], matched_pred_indices[mask]]\n",
        "        min_cost_idx = torch.argmin(costs)\n",
        "        final_gt_indices[i] = matched_gt_indices[mask][min_cost_idx]\n",
        "\n",
        "    matched_preds = p_boxes[unique_pred_indices]\n",
        "    matched_gts = gt_boxes[final_gt_indices]\n",
        "\n",
        "    return unique_pred_indices, final_gt_indices"
      ],
      "metadata": {
        "id": "qxz2YH6WL0GX",
        "trusted": true,
        "execution": {
          "iopub.status.busy": "2025-08-24T17:15:27.553019Z",
          "iopub.execute_input": "2025-08-24T17:15:27.553253Z",
          "iopub.status.idle": "2025-08-24T17:15:27.567565Z",
          "shell.execute_reply.started": "2025-08-24T17:15:27.553237Z",
          "shell.execute_reply": "2025-08-24T17:15:27.566652Z"
        }
      },
      "outputs": [],
      "execution_count": 63
    },
    {
      "cell_type": "code",
      "source": [
        "def detection_loss(p_boxes, gt_boxes, l_obj=0.5, l_cls=1.0, l_reg=5.0):\n",
        "    b = len(p_boxes)\n",
        "    reg_loss = torch.tensor(0., device=p_boxes.device)\n",
        "    obj_loss = torch.tensor(0., device=p_boxes.device)\n",
        "    cls_loss = torch.tensor(0., device=p_boxes.device)\n",
        "\n",
        "    for bi in range(b):\n",
        "        p_boxes_i = p_boxes[bi]\n",
        "        gt_boxes_i = gt_boxes[bi]\n",
        "\n",
        "        if len(gt_boxes_i) == 0:\n",
        "            continue\n",
        "\n",
        "        nc = p_boxes_i.size(-1) - 5\n",
        "\n",
        "        unique_pred_indices, final_gt_indices = simota(p_boxes_i, gt_boxes_i)\n",
        "\n",
        "        matched_preds = p_boxes_i[unique_pred_indices]\n",
        "        matched_gts = gt_boxes_i[final_gt_indices]\n",
        "\n",
        "        pred_xyxy = xywh_to_xyxy(matched_preds[:, :4])\n",
        "        gt_xyxy = xywh_to_xyxy(matched_gts[:, :4])\n",
        "        reg_loss += (1 - ops.box_iou(pred_xyxy, gt_xyxy).diag()).mean()\n",
        "\n",
        "        obj_target = torch.zeros_like(p_boxes_i[:, 4], device=p_boxes.device)\n",
        "        obj_target[unique_pred_indices] = 1.0\n",
        "        obj_loss += ops.sigmoid_focal_loss(p_boxes_i[:, 4], obj_target, reduction='mean')\n",
        "\n",
        "        gt_cls = F.one_hot(matched_gts[:, 4].long(), nc).float().to(p_boxes.device)\n",
        "        cls_loss += ops.sigmoid_focal_loss(matched_preds[:, 5:], gt_cls, reduction='mean')\n",
        "\n",
        "    print('obj loss:', obj_loss, 'cls loss:', cls_loss, 'reg loss:', reg_loss)\n",
        "\n",
        "    return l_obj * obj_loss + l_cls * cls_loss + l_reg * reg_loss\n",
        "\n",
        "def compute_loss(gt_drv, gt_lanes, gt_boxes, p_drv, p_lanes, p_boxes, l_drv=0.2, l_lanes=0.2, l_det=0.75):\n",
        "    det_loss = detection_loss(p_boxes, gt_boxes)\n",
        "    #drv_loss = F.binary_cross_entropy_with_logits(p_drv.squeeze(1), gt_drv, reduction='mean')\n",
        "    #lanes_loss = ops.sigmoid_focal_loss(p_lanes.squeeze(1), gt_lanes, reduction='mean')\n",
        "\n",
        "    #return l_det * det_loss + l_drv * drv_loss + l_lanes * lanes_loss\n",
        "    return det_loss"
      ],
      "metadata": {
        "id": "g3SlKAGlCdgA",
        "trusted": true,
        "execution": {
          "iopub.status.busy": "2025-08-24T17:15:27.568594Z",
          "iopub.execute_input": "2025-08-24T17:15:27.568849Z",
          "iopub.status.idle": "2025-08-24T17:15:27.589484Z",
          "shell.execute_reply.started": "2025-08-24T17:15:27.568819Z",
          "shell.execute_reply": "2025-08-24T17:15:27.588630Z"
        }
      },
      "outputs": [],
      "execution_count": 89
    },
    {
      "cell_type": "markdown",
      "source": [
        "## Metrics"
      ],
      "metadata": {
        "id": "tA-U9Ga6CaTb"
      }
    },
    {
      "cell_type": "code",
      "source": [
        "def compute_recall(pred_batch, gt_batch, iou_th=0.5, conf_th=0.3):\n",
        "    total_tp, total_fn = 0, 0\n",
        "\n",
        "    for i in range(len(pred_batch)):\n",
        "        pred = pred_batch[i]\n",
        "        gt = gt_batch[i]\n",
        "\n",
        "        if gt.numel() == 0:\n",
        "            continue\n",
        "\n",
        "        if pred.numel() == 0:\n",
        "            total_fn += len(gt)\n",
        "            continue\n",
        "\n",
        "        pred = pred[pred[:, 4] > conf_th]\n",
        "\n",
        "        if pred.numel() == 0:\n",
        "            total_fn += len(gt)\n",
        "            continue\n",
        "\n",
        "        p_boxes = pred[:, :4]\n",
        "        p_scores = pred[:, 4]\n",
        "        p_cls = pred[:, 5:].argmax(dim=-1)\n",
        "\n",
        "        gt_boxes = gt[:, :4]\n",
        "        gt_cls = gt[:, 4]\n",
        "\n",
        "        ious = ops.box_iou(xywh_to_xyxy(p_boxes), xywh_to_xyxy(gt_boxes))\n",
        "\n",
        "        matched_gt = torch.zeros(len(gt_boxes), dtype=torch.bool)\n",
        "        tp = 0\n",
        "\n",
        "        for j in range(len(pred)):\n",
        "            max_iou, gt_idx = ious[j].max(0)\n",
        "\n",
        "            if max_iou >= iou_th and not matched_gt[gt_idx.item()] and p_cls[j] == gt_cls[gt_idx]:\n",
        "                tp += 1\n",
        "                matched_gt[gt_idx.item()] = True\n",
        "\n",
        "        fn = len(gt_boxes) - matched_gt.sum()\n",
        "        total_tp += tp\n",
        "        total_fn += fn\n",
        "\n",
        "    return total_tp / (total_tp + total_fn) if total_tp + total_fn > 0 else 0"
      ],
      "metadata": {
        "id": "GWUgbWB0D6eQ",
        "trusted": true,
        "execution": {
          "iopub.status.busy": "2025-08-24T17:15:27.590318Z",
          "iopub.execute_input": "2025-08-24T17:15:27.590598Z",
          "iopub.status.idle": "2025-08-24T17:15:27.606640Z",
          "shell.execute_reply.started": "2025-08-24T17:15:27.590579Z",
          "shell.execute_reply": "2025-08-24T17:15:27.605974Z"
        }
      },
      "outputs": [],
      "execution_count": 30
    },
    {
      "cell_type": "markdown",
      "source": [
        "## Training loop"
      ],
      "metadata": {
        "id": "2lgXd21QCdgK"
      }
    },
    {
      "cell_type": "code",
      "source": [
        "torch.cuda.empty_cache()\n",
        "gc.collect()"
      ],
      "metadata": {
        "id": "Hjw2jSR1MHLE",
        "trusted": true,
        "outputId": "2a1bddf5-8659-4eb3-d698-8b58ba3ed59a",
        "colab": {
          "base_uri": "https://localhost:8080/"
        },
        "execution": {
          "iopub.status.busy": "2025-08-24T17:27:28.433550Z",
          "iopub.execute_input": "2025-08-24T17:27:28.434386Z",
          "iopub.status.idle": "2025-08-24T17:27:28.656907Z",
          "shell.execute_reply.started": "2025-08-24T17:27:28.434359Z",
          "shell.execute_reply": "2025-08-24T17:27:28.656304Z"
        }
      },
      "outputs": [
        {
          "output_type": "execute_result",
          "data": {
            "text/plain": [
              "13"
            ]
          },
          "metadata": {},
          "execution_count": 90
        }
      ],
      "execution_count": 90
    },
    {
      "cell_type": "code",
      "source": [
        "model = YOLOP(anchors=dataset.anchors).to(device)\n",
        "\n",
        "optimizer = optim.SGD(model.parameters(), lr=0.01, momentum=0.937, weight_decay=0.005)\n",
        "scheduler = optim.lr_scheduler.CosineAnnealingWarmRestarts(optimizer, 10, 2, 1e-5)\n",
        "\n",
        "epochs = 100\n",
        "patience, counter = 5, 0\n",
        "best_loss = float('inf')\n",
        "\n",
        "for epoch in range(epochs):\n",
        "    model.train()\n",
        "    epoch_loss = 0\n",
        "\n",
        "    max_conf = 0\n",
        "    max_cls = 0\n",
        "    max_reg = 0\n",
        "\n",
        "    for images, gt_drv, gt_lanes, gt_boxes in tqdm(data_loader):\n",
        "        images = torch.stack(images).float().to(device)\n",
        "        gt_drv = torch.stack(gt_drv).to(device)\n",
        "        gt_lanes = torch.stack(gt_lanes).to(device)\n",
        "        gt_boxes = [boxes.to(device) for boxes in gt_boxes]\n",
        "\n",
        "        #forward pass\n",
        "        p_drv, p_lanes, p_boxes = model(images)\n",
        "\n",
        "        if max_conf < p_boxes[..., 4].sigmoid().max().item():\n",
        "            max_conf = p_boxes[..., 4].sigmoid().max().item()\n",
        "\n",
        "        if max_cls < p_boxes[..., 5:].sigmoid().max().item():\n",
        "            max_cls = p_boxes[..., 5:].sigmoid().max().item()\n",
        "\n",
        "        if max_reg < p_boxes[..., :4].max().item():\n",
        "            max_reg = p_boxes[..., :4].max().item()\n",
        "\n",
        "        #loss calculation\n",
        "        assert torch.all(p_boxes[..., :4] >= 0)\n",
        "        assert torch.all(p_boxes[..., :4] <= 640)\n",
        "\n",
        "        loss = compute_loss(gt_drv, gt_lanes, gt_boxes, p_drv, p_lanes, p_boxes)\n",
        "\n",
        "        #Backpropagation\n",
        "        optimizer.zero_grad()\n",
        "        loss.backward()\n",
        "        optimizer.step()\n",
        "\n",
        "        epoch_loss += loss.item()\n",
        "\n",
        "        del p_drv, p_lanes, p_boxes, loss\n",
        "\n",
        "    print('max conf:', max_conf)\n",
        "    print('max cls:', max_cls)\n",
        "    print('max reg:', max_reg)\n",
        "\n",
        "    if epoch_loss < best_loss:\n",
        "        best_loss = epoch_loss\n",
        "        counter = 0\n",
        "        torch.save(model.state_dict(), \"yolop_v2_mini.pth\")\n",
        "    else:\n",
        "        counter += 1\n",
        "\n",
        "    model.eval()\n",
        "    recall_score = 0\n",
        "\n",
        "    with torch.no_grad():\n",
        "        for images, gt_drv, gt_lanes, gt_boxes in tqdm(data_loader):\n",
        "            images = torch.stack(images).float().to(device)\n",
        "            gt_drv = torch.stack(gt_drv).to(device)\n",
        "            gt_lanes = torch.stack(gt_lanes).to(device)\n",
        "            gt_boxes = [boxes.to(device) for boxes in gt_boxes]\n",
        "\n",
        "            #forward pass\n",
        "            p_drv, p_lanes, p_boxes = model(images)\n",
        "\n",
        "            recall_score += compute_recall(p_boxes, gt_boxes)\n",
        "\n",
        "            del p_drv, p_lanes, p_boxes\n",
        "\n",
        "    recall_score /= len(data_loader)\n",
        "\n",
        "    print(f\"Epoch {epoch+1}/{epochs}, Loss: {epoch_loss:.4f}, recall: {recall_score:.4f}\")\n",
        "\n",
        "    if counter >= patience:\n",
        "        print('Training stopped early')\n",
        "        break\n",
        "\n",
        "del model\n",
        "torch.cuda.empty_cache()\n",
        "gc.collect()"
      ],
      "metadata": {
        "id": "q7pl53WwCdgK",
        "trusted": true,
        "outputId": "ec306828-40d9-432a-91c2-dc02b3cbe5fe",
        "colab": {
          "base_uri": "https://localhost:8080/",
          "height": 699
        },
        "execution": {
          "iopub.status.busy": "2025-08-24T17:15:27.814999Z",
          "iopub.execute_input": "2025-08-24T17:15:27.815334Z",
          "iopub.status.idle": "2025-08-24T17:27:24.553237Z",
          "shell.execute_reply.started": "2025-08-24T17:15:27.815317Z",
          "shell.execute_reply": "2025-08-24T17:27:24.552235Z"
        }
      },
      "outputs": [
        {
          "output_type": "stream",
          "name": "stderr",
          "text": [
            "\r  0%|          | 0/38 [00:00<?, ?it/s]"
          ]
        },
        {
          "output_type": "stream",
          "name": "stdout",
          "text": [
            "obj loss: tensor(1.1287, device='cuda:0', grad_fn=<AddBackward0>) cls loss: tensor(1.0853, device='cuda:0', grad_fn=<AddBackward0>) reg loss: tensor(4.8260, device='cuda:0', grad_fn=<AddBackward0>)\n"
          ]
        },
        {
          "output_type": "stream",
          "name": "stderr",
          "text": [
            "\r  3%|▎         | 1/38 [00:00<00:27,  1.33it/s]"
          ]
        },
        {
          "output_type": "stream",
          "name": "stdout",
          "text": [
            "obj loss: tensor(1.1187, device='cuda:0', grad_fn=<AddBackward0>) cls loss: tensor(1.0195, device='cuda:0', grad_fn=<AddBackward0>) reg loss: tensor(4.5837, device='cuda:0', grad_fn=<AddBackward0>)\n"
          ]
        },
        {
          "output_type": "stream",
          "name": "stderr",
          "text": [
            "\r  5%|▌         | 2/38 [00:01<00:24,  1.50it/s]"
          ]
        },
        {
          "output_type": "stream",
          "name": "stdout",
          "text": [
            "obj loss: tensor(1.0553, device='cuda:0', grad_fn=<AddBackward0>) cls loss: tensor(0.9769, device='cuda:0', grad_fn=<AddBackward0>) reg loss: tensor(4.5998, device='cuda:0', grad_fn=<AddBackward0>)\n"
          ]
        },
        {
          "output_type": "stream",
          "name": "stderr",
          "text": [
            "\r  8%|▊         | 3/38 [00:02<00:24,  1.46it/s]"
          ]
        },
        {
          "output_type": "stream",
          "name": "stdout",
          "text": [
            "obj loss: tensor(1.0357, device='cuda:0', grad_fn=<AddBackward0>) cls loss: tensor(0.9596, device='cuda:0', grad_fn=<AddBackward0>) reg loss: tensor(4.4417, device='cuda:0', grad_fn=<AddBackward0>)\n"
          ]
        },
        {
          "output_type": "stream",
          "name": "stderr",
          "text": [
            "\r 11%|█         | 4/38 [00:02<00:25,  1.33it/s]"
          ]
        },
        {
          "output_type": "stream",
          "name": "stdout",
          "text": [
            "obj loss: tensor(0.9956, device='cuda:0', grad_fn=<AddBackward0>) cls loss: tensor(0.9375, device='cuda:0', grad_fn=<AddBackward0>) reg loss: tensor(4.3325, device='cuda:0', grad_fn=<AddBackward0>)\n"
          ]
        },
        {
          "output_type": "stream",
          "name": "stderr",
          "text": [
            "\r 13%|█▎        | 5/38 [00:03<00:27,  1.19it/s]"
          ]
        },
        {
          "output_type": "stream",
          "name": "stdout",
          "text": [
            "obj loss: tensor(0.9424, device='cuda:0', grad_fn=<AddBackward0>) cls loss: tensor(0.9954, device='cuda:0', grad_fn=<AddBackward0>) reg loss: tensor(4.4195, device='cuda:0', grad_fn=<AddBackward0>)\n"
          ]
        },
        {
          "output_type": "stream",
          "name": "stderr",
          "text": [
            "\r 16%|█▌        | 6/38 [00:04<00:23,  1.36it/s]"
          ]
        },
        {
          "output_type": "stream",
          "name": "stdout",
          "text": [
            "obj loss: tensor(0.9154, device='cuda:0', grad_fn=<AddBackward0>) cls loss: tensor(0.9175, device='cuda:0', grad_fn=<AddBackward0>) reg loss: tensor(4.1619, device='cuda:0', grad_fn=<AddBackward0>)\n"
          ]
        },
        {
          "output_type": "stream",
          "name": "stderr",
          "text": [
            "\r 18%|█▊        | 7/38 [00:05<00:21,  1.47it/s]"
          ]
        },
        {
          "output_type": "stream",
          "name": "stdout",
          "text": [
            "obj loss: tensor(0.8797, device='cuda:0', grad_fn=<AddBackward0>) cls loss: tensor(0.8897, device='cuda:0', grad_fn=<AddBackward0>) reg loss: tensor(4.3408, device='cuda:0', grad_fn=<AddBackward0>)\n"
          ]
        },
        {
          "output_type": "stream",
          "name": "stderr",
          "text": [
            "\r 21%|██        | 8/38 [00:05<00:18,  1.59it/s]"
          ]
        },
        {
          "output_type": "stream",
          "name": "stdout",
          "text": [
            "obj loss: tensor(0.8683, device='cuda:0', grad_fn=<AddBackward0>) cls loss: tensor(0.9194, device='cuda:0', grad_fn=<AddBackward0>) reg loss: tensor(4.2910, device='cuda:0', grad_fn=<AddBackward0>)\n"
          ]
        },
        {
          "output_type": "stream",
          "name": "stderr",
          "text": [
            "\r 24%|██▎       | 9/38 [00:06<00:17,  1.64it/s]"
          ]
        },
        {
          "output_type": "stream",
          "name": "stdout",
          "text": [
            "obj loss: tensor(0.8238, device='cuda:0', grad_fn=<AddBackward0>) cls loss: tensor(0.9171, device='cuda:0', grad_fn=<AddBackward0>) reg loss: tensor(4.3117, device='cuda:0', grad_fn=<AddBackward0>)\n"
          ]
        },
        {
          "output_type": "stream",
          "name": "stderr",
          "text": [
            "\r 26%|██▋       | 10/38 [00:06<00:16,  1.72it/s]"
          ]
        },
        {
          "output_type": "stream",
          "name": "stdout",
          "text": [
            "obj loss: tensor(0.7810, device='cuda:0', grad_fn=<AddBackward0>) cls loss: tensor(0.8862, device='cuda:0', grad_fn=<AddBackward0>) reg loss: tensor(4.1953, device='cuda:0', grad_fn=<AddBackward0>)\n"
          ]
        },
        {
          "output_type": "stream",
          "name": "stderr",
          "text": [
            "\r 29%|██▉       | 11/38 [00:07<00:15,  1.70it/s]"
          ]
        },
        {
          "output_type": "stream",
          "name": "stdout",
          "text": [
            "obj loss: tensor(0.7443, device='cuda:0', grad_fn=<AddBackward0>) cls loss: tensor(0.8174, device='cuda:0', grad_fn=<AddBackward0>) reg loss: tensor(4.0207, device='cuda:0', grad_fn=<AddBackward0>)\n"
          ]
        },
        {
          "output_type": "stream",
          "name": "stderr",
          "text": [
            "\r 32%|███▏      | 12/38 [00:07<00:15,  1.71it/s]"
          ]
        },
        {
          "output_type": "stream",
          "name": "stdout",
          "text": [
            "obj loss: tensor(0.6875, device='cuda:0', grad_fn=<AddBackward0>) cls loss: tensor(0.8362, device='cuda:0', grad_fn=<AddBackward0>) reg loss: tensor(4.3110, device='cuda:0', grad_fn=<AddBackward0>)\n"
          ]
        },
        {
          "output_type": "stream",
          "name": "stderr",
          "text": [
            "\r 34%|███▍      | 13/38 [00:08<00:14,  1.76it/s]"
          ]
        },
        {
          "output_type": "stream",
          "name": "stdout",
          "text": [
            "obj loss: tensor(0.6700, device='cuda:0', grad_fn=<AddBackward0>) cls loss: tensor(0.8618, device='cuda:0', grad_fn=<AddBackward0>) reg loss: tensor(4.1145, device='cuda:0', grad_fn=<AddBackward0>)\n"
          ]
        },
        {
          "output_type": "stream",
          "name": "stderr",
          "text": [
            "\r 37%|███▋      | 14/38 [00:08<00:13,  1.78it/s]"
          ]
        },
        {
          "output_type": "stream",
          "name": "stdout",
          "text": [
            "obj loss: tensor(0.6250, device='cuda:0', grad_fn=<AddBackward0>) cls loss: tensor(0.8240, device='cuda:0', grad_fn=<AddBackward0>) reg loss: tensor(4.2268, device='cuda:0', grad_fn=<AddBackward0>)\n"
          ]
        },
        {
          "output_type": "stream",
          "name": "stderr",
          "text": [
            "\r 39%|███▉      | 15/38 [00:09<00:13,  1.77it/s]"
          ]
        },
        {
          "output_type": "stream",
          "name": "stdout",
          "text": [
            "obj loss: tensor(0.6043, device='cuda:0', grad_fn=<AddBackward0>) cls loss: tensor(0.7973, device='cuda:0', grad_fn=<AddBackward0>) reg loss: tensor(4.2989, device='cuda:0', grad_fn=<AddBackward0>)\n"
          ]
        },
        {
          "output_type": "stream",
          "name": "stderr",
          "text": [
            "\r 42%|████▏     | 16/38 [00:10<00:12,  1.77it/s]"
          ]
        },
        {
          "output_type": "stream",
          "name": "stdout",
          "text": [
            "obj loss: tensor(0.5653, device='cuda:0', grad_fn=<AddBackward0>) cls loss: tensor(0.7970, device='cuda:0', grad_fn=<AddBackward0>) reg loss: tensor(4.1273, device='cuda:0', grad_fn=<AddBackward0>)\n"
          ]
        },
        {
          "output_type": "stream",
          "name": "stderr",
          "text": [
            "\r 45%|████▍     | 17/38 [00:10<00:12,  1.75it/s]"
          ]
        },
        {
          "output_type": "stream",
          "name": "stdout",
          "text": [
            "obj loss: tensor(0.5165, device='cuda:0', grad_fn=<AddBackward0>) cls loss: tensor(0.7783, device='cuda:0', grad_fn=<AddBackward0>) reg loss: tensor(4.1436, device='cuda:0', grad_fn=<AddBackward0>)\n"
          ]
        },
        {
          "output_type": "stream",
          "name": "stderr",
          "text": [
            "\r 47%|████▋     | 18/38 [00:11<00:13,  1.47it/s]"
          ]
        },
        {
          "output_type": "stream",
          "name": "stdout",
          "text": [
            "obj loss: tensor(0.4898, device='cuda:0', grad_fn=<AddBackward0>) cls loss: tensor(0.8072, device='cuda:0', grad_fn=<AddBackward0>) reg loss: tensor(4.1547, device='cuda:0', grad_fn=<AddBackward0>)\n"
          ]
        },
        {
          "output_type": "stream",
          "name": "stderr",
          "text": [
            "\r 50%|█████     | 19/38 [00:12<00:16,  1.16it/s]"
          ]
        },
        {
          "output_type": "stream",
          "name": "stdout",
          "text": [
            "obj loss: tensor(0.4568, device='cuda:0', grad_fn=<AddBackward0>) cls loss: tensor(0.7682, device='cuda:0', grad_fn=<AddBackward0>) reg loss: tensor(4.0346, device='cuda:0', grad_fn=<AddBackward0>)\n"
          ]
        },
        {
          "output_type": "stream",
          "name": "stderr",
          "text": [
            "\r 53%|█████▎    | 20/38 [00:14<00:19,  1.07s/it]"
          ]
        },
        {
          "output_type": "stream",
          "name": "stdout",
          "text": [
            "obj loss: tensor(0.4686, device='cuda:0', grad_fn=<AddBackward0>) cls loss: tensor(0.7905, device='cuda:0', grad_fn=<AddBackward0>) reg loss: tensor(4.2750, device='cuda:0', grad_fn=<AddBackward0>)\n"
          ]
        },
        {
          "output_type": "stream",
          "name": "stderr",
          "text": [
            "\r 55%|█████▌    | 21/38 [00:14<00:15,  1.08it/s]"
          ]
        },
        {
          "output_type": "stream",
          "name": "stdout",
          "text": [
            "obj loss: tensor(0.4237, device='cuda:0', grad_fn=<AddBackward0>) cls loss: tensor(0.8099, device='cuda:0', grad_fn=<AddBackward0>) reg loss: tensor(4.3619, device='cuda:0', grad_fn=<AddBackward0>)\n"
          ]
        },
        {
          "output_type": "stream",
          "name": "stderr",
          "text": [
            "\r 58%|█████▊    | 22/38 [00:15<00:12,  1.25it/s]"
          ]
        },
        {
          "output_type": "stream",
          "name": "stdout",
          "text": [
            "obj loss: tensor(0.3951, device='cuda:0', grad_fn=<AddBackward0>) cls loss: tensor(0.7693, device='cuda:0', grad_fn=<AddBackward0>) reg loss: tensor(4.2093, device='cuda:0', grad_fn=<AddBackward0>)\n"
          ]
        },
        {
          "output_type": "stream",
          "name": "stderr",
          "text": [
            "\r 61%|██████    | 23/38 [00:16<00:11,  1.36it/s]"
          ]
        },
        {
          "output_type": "stream",
          "name": "stdout",
          "text": [
            "obj loss: tensor(0.3654, device='cuda:0', grad_fn=<AddBackward0>) cls loss: tensor(0.7469, device='cuda:0', grad_fn=<AddBackward0>) reg loss: tensor(4.1907, device='cuda:0', grad_fn=<AddBackward0>)\n"
          ]
        },
        {
          "output_type": "stream",
          "name": "stderr",
          "text": [
            "\r 63%|██████▎   | 24/38 [00:16<00:09,  1.44it/s]"
          ]
        },
        {
          "output_type": "stream",
          "name": "stdout",
          "text": [
            "obj loss: tensor(0.3650, device='cuda:0', grad_fn=<AddBackward0>) cls loss: tensor(0.7576, device='cuda:0', grad_fn=<AddBackward0>) reg loss: tensor(3.9327, device='cuda:0', grad_fn=<AddBackward0>)\n"
          ]
        },
        {
          "output_type": "stream",
          "name": "stderr",
          "text": [
            "\r 66%|██████▌   | 25/38 [00:17<00:08,  1.53it/s]"
          ]
        },
        {
          "output_type": "stream",
          "name": "stdout",
          "text": [
            "obj loss: tensor(0.3657, device='cuda:0', grad_fn=<AddBackward0>) cls loss: tensor(0.7533, device='cuda:0', grad_fn=<AddBackward0>) reg loss: tensor(4.1013, device='cuda:0', grad_fn=<AddBackward0>)\n"
          ]
        },
        {
          "output_type": "stream",
          "name": "stderr",
          "text": [
            "\r 66%|██████▌   | 25/38 [00:17<00:09,  1.41it/s]\n"
          ]
        },
        {
          "output_type": "error",
          "ename": "KeyboardInterrupt",
          "evalue": "",
          "traceback": [
            "\u001b[0;31m---------------------------------------------------------------------------\u001b[0m",
            "\u001b[0;31mKeyboardInterrupt\u001b[0m                         Traceback (most recent call last)",
            "\u001b[0;32m/tmp/ipython-input-15762502.py\u001b[0m in \u001b[0;36m<cell line: 0>\u001b[0;34m()\u001b[0m\n\u001b[1;32m     45\u001b[0m         \u001b[0moptimizer\u001b[0m\u001b[0;34m.\u001b[0m\u001b[0mstep\u001b[0m\u001b[0;34m(\u001b[0m\u001b[0;34m)\u001b[0m\u001b[0;34m\u001b[0m\u001b[0;34m\u001b[0m\u001b[0m\n\u001b[1;32m     46\u001b[0m \u001b[0;34m\u001b[0m\u001b[0m\n\u001b[0;32m---> 47\u001b[0;31m         \u001b[0mepoch_loss\u001b[0m \u001b[0;34m+=\u001b[0m \u001b[0mloss\u001b[0m\u001b[0;34m.\u001b[0m\u001b[0mitem\u001b[0m\u001b[0;34m(\u001b[0m\u001b[0;34m)\u001b[0m\u001b[0;34m\u001b[0m\u001b[0;34m\u001b[0m\u001b[0m\n\u001b[0m\u001b[1;32m     48\u001b[0m \u001b[0;34m\u001b[0m\u001b[0m\n\u001b[1;32m     49\u001b[0m         \u001b[0;32mdel\u001b[0m \u001b[0mp_drv\u001b[0m\u001b[0;34m,\u001b[0m \u001b[0mp_lanes\u001b[0m\u001b[0;34m,\u001b[0m \u001b[0mp_boxes\u001b[0m\u001b[0;34m,\u001b[0m \u001b[0mloss\u001b[0m\u001b[0;34m\u001b[0m\u001b[0;34m\u001b[0m\u001b[0m\n",
            "\u001b[0;31mKeyboardInterrupt\u001b[0m: "
          ]
        }
      ],
      "execution_count": 91
    }
  ]
}