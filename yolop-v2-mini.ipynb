{
  "metadata": {
    "kernelspec": {
      "name": "python3",
      "display_name": "Python 3",
      "language": "python"
    },
    "language_info": {
      "codemirror_mode": {
        "name": "ipython",
        "version": 3
      },
      "file_extension": ".py",
      "mimetype": "text/x-python",
      "name": "python",
      "nbconvert_exporter": "python",
      "pygments_lexer": "ipython3",
      "version": "3.11.11"
    },
    "kaggle": {
      "accelerator": "gpu",
      "dataSources": [
        {
          "sourceId": 12345190,
          "sourceType": "datasetVersion",
          "datasetId": 7775335
        }
      ],
      "dockerImageVersionId": 31040,
      "isInternetEnabled": false,
      "language": "python",
      "sourceType": "notebook",
      "isGpuEnabled": true
    },
    "colab": {
      "gpuType": "T4",
      "provenance": [],
      "include_colab_link": true
    },
    "accelerator": "GPU"
  },
  "nbformat_minor": 0,
  "nbformat": 4,
  "cells": [
    {
      "cell_type": "markdown",
      "metadata": {
        "id": "view-in-github",
        "colab_type": "text"
      },
      "source": [
        "<a href=\"https://colab.research.google.com/github/alessela/yolop-v2-mini/blob/main/yolop-v2-mini.ipynb\" target=\"_parent\"><img src=\"https://colab.research.google.com/assets/colab-badge.svg\" alt=\"Open In Colab\"/></a>"
      ]
    },
    {
      "cell_type": "markdown",
      "source": [
        "# Import libraries"
      ],
      "metadata": {
        "id": "HOUOjqqDCdf4"
      }
    },
    {
      "cell_type": "code",
      "source": [
        "import json\n",
        "import os\n",
        "import random\n",
        "import cv2\n",
        "import numpy as np\n",
        "import gc\n",
        "import zipfile\n",
        "import matplotlib.pyplot as plt\n",
        "\n",
        "import torch\n",
        "import torch.nn as nn\n",
        "import torch.nn.functional as F\n",
        "import torch.optim as optim\n",
        "from torch.utils.data.dataloader import DataLoader\n",
        "from torch.utils.data.dataset import Dataset\n",
        "import torchvision.ops as ops\n",
        "import torch.cuda.amp as amp\n",
        "\n",
        "import albumentations as A\n",
        "from albumentations.pytorch import ToTensorV2\n",
        "\n",
        "from sklearn.cluster import KMeans\n",
        "\n",
        "from tqdm import tqdm"
      ],
      "metadata": {
        "id": "664_RUUKCdf6",
        "trusted": true
      },
      "outputs": [],
      "execution_count": 1
    },
    {
      "cell_type": "markdown",
      "source": [
        "# Dataset"
      ],
      "metadata": {
        "id": "zVhAr5ruCdf6"
      }
    },
    {
      "cell_type": "markdown",
      "source": [
        "## Download dataset"
      ],
      "metadata": {
        "id": "zIIYhU38F3ku"
      }
    },
    {
      "cell_type": "code",
      "source": [
        "import kagglehub\n",
        "\n",
        "# Download latest version\n",
        "DATASET_PATH = kagglehub.dataset_download(\"alesssaulea/bdd100k\")\n",
        "DATASET_PATH"
      ],
      "metadata": {
        "id": "8OkQW1VtIPqQ",
        "trusted": true,
        "outputId": "a1d507eb-702b-40b0-b321-73a09439d10b",
        "colab": {
          "base_uri": "https://localhost:8080/",
          "height": 36
        }
      },
      "outputs": [
        {
          "output_type": "execute_result",
          "data": {
            "text/plain": [
              "'/kaggle/input/bdd100k'"
            ],
            "application/vnd.google.colaboratory.intrinsic+json": {
              "type": "string"
            }
          },
          "metadata": {},
          "execution_count": 2
        }
      ],
      "execution_count": 2
    },
    {
      "cell_type": "code",
      "source": [
        "#DATASET_PATH = '/kaggle/input/bdd100k'"
      ],
      "metadata": {
        "id": "iqk1XDCYO3wW",
        "trusted": true
      },
      "outputs": [],
      "execution_count": 39
    },
    {
      "cell_type": "markdown",
      "source": [
        "## Paths"
      ],
      "metadata": {
        "id": "h7JnbMCeCdf7"
      }
    },
    {
      "cell_type": "code",
      "source": [
        "IMAGE_TRAIN_PATH = DATASET_PATH + '/images/100k/train'\n",
        "IMAGE_VAL_PATH = DATASET_PATH + '/images/100k/val'\n",
        "\n",
        "DET_TRAIN_PATH = DATASET_PATH + '/labels/det_20/train'\n",
        "DET_VAL_PATH = DATASET_PATH + '/labels/det_20/val'\n",
        "\n",
        "DRIVABLE_TRAIN_PATH = DATASET_PATH + '/labels/drivable/colormaps/train'\n",
        "DRIVABLE_VAL_PATH = DATASET_PATH + '/labels/drivable/colormaps/val'\n",
        "\n",
        "LANE_TRAIN_PATH = DATASET_PATH + '/labels/lane/colormaps/train'\n",
        "LANE_VAL_PATH = DATASET_PATH + '/labels/lane/colormaps/val'"
      ],
      "metadata": {
        "id": "u1yvXYtXCdf7",
        "trusted": true
      },
      "outputs": [],
      "execution_count": 3
    },
    {
      "cell_type": "markdown",
      "source": [
        "## Utils"
      ],
      "metadata": {
        "id": "rp2fRNdRCdf7"
      }
    },
    {
      "cell_type": "code",
      "source": [
        "CATEGORY_TO_INT = {\n",
        "  \"bicycle\": 0,\n",
        "  \"bus\": 1,\n",
        "  \"car\": 2,\n",
        "  \"motorcycle\": 3,\n",
        "  \"person\": 4,\n",
        "  \"pedestrian\": 4,\n",
        "  \"rider\": 5,\n",
        "  \"traffic light\": 6,\n",
        "  \"traffic sign\": 7,\n",
        "  \"train\": 8,\n",
        "  \"truck\": 9,\n",
        "  \"trailer\": 9\n",
        "}"
      ],
      "metadata": {
        "id": "EmAi4m5tCdf7",
        "trusted": true
      },
      "outputs": [],
      "execution_count": 4
    },
    {
      "cell_type": "code",
      "source": [
        "def xywh_to_xyxy(boxes):\n",
        "    cx, cy, w, h = boxes[:, 0], boxes[:, 1], boxes[:, 2], boxes[:, 3]\n",
        "    return torch.stack([cx - w / 2, cy - h / 2, cx + w / 2, cy + h / 2], dim=1)"
      ],
      "metadata": {
        "id": "n7I69RbECdf7",
        "trusted": true
      },
      "outputs": [],
      "execution_count": 5
    },
    {
      "cell_type": "markdown",
      "source": [
        "## Dataset class"
      ],
      "metadata": {
        "id": "dplfIIFDCdf8"
      }
    },
    {
      "cell_type": "code",
      "source": [
        "class BDD100K(Dataset):\n",
        "    def __init__(self, img_dir, drv_dir, lane_dir, det_dir, out_s, n=0, train=True):\n",
        "        self.img_dir = img_dir\n",
        "        self.drv_dir = drv_dir\n",
        "        self.lane_dir = lane_dir\n",
        "        self.det_dir = det_dir\n",
        "        self.out_s = out_s\n",
        "        self.transform = ToTensorV2()\n",
        "        self.train = train\n",
        "\n",
        "        img_list: list[str] = os.listdir(self.img_dir)\n",
        "        if n > 0:\n",
        "            img_list = random.sample(img_list, n)\n",
        "\n",
        "        self.images = []\n",
        "        for file in tqdm(img_list, total=len(img_list)):\n",
        "            self.images.append(self.load_image(file))\n",
        "\n",
        "        if self.train:\n",
        "            self.anchors = self.generate_anchors()\n",
        "\n",
        "            for i in tqdm(range(len(self.images))):\n",
        "                self.images[i][3] = self.encode_boxes(self.images[i][3])\n",
        "\n",
        "    def load_image(self, file):\n",
        "        img_path = self.img_dir + '/' + file\n",
        "        det_path = self.det_dir + '/' + file.replace('.jpg', '.json')\n",
        "        drv_path = self.drv_dir + '/' + file.replace('.jpg', '.png')\n",
        "        lane_path = self.lane_dir + '/' + file.replace('.jpg', '.png')\n",
        "\n",
        "        img = cv2.imread(img_path)\n",
        "        h, w, _ = img.shape\n",
        "        img = cv2.resize(img, self.out_s)\n",
        "\n",
        "        drv = cv2.imread(drv_path, cv2.IMREAD_GRAYSCALE)\n",
        "        drv = cv2.resize(drv, self.out_s)\n",
        "        drv = (drv > 0).astype(np.float32)\n",
        "\n",
        "        lanes = cv2.imread(lane_path, cv2.IMREAD_GRAYSCALE)\n",
        "        lanes = cv2.resize(lanes, self.out_s)\n",
        "        lanes = (lanes > 0).astype(np.float32)\n",
        "\n",
        "        try:\n",
        "            with open(det_path) as f:\n",
        "                obj = json.load(f)\n",
        "                labels = obj['labels'] if 'labels' in obj else []\n",
        "        except:\n",
        "            labels = []\n",
        "\n",
        "        boxes = []\n",
        "        sw, sh = self.out_s\n",
        "        ratio_x, ratio_y = sw / w, sh / h\n",
        "\n",
        "        for lbl in labels:\n",
        "            if lbl['category'] in CATEGORY_TO_INT:\n",
        "                cat = CATEGORY_TO_INT[lbl['category']]\n",
        "                x1 = lbl['box2d']['x1'] * ratio_x\n",
        "                y1 = lbl['box2d']['y1'] * ratio_y\n",
        "                x2 = lbl['box2d']['x2'] * ratio_x\n",
        "                y2 = lbl['box2d']['y2'] * ratio_y\n",
        "\n",
        "                xc = (x1 + x2) / 2\n",
        "                yc = (y1 + y2) / 2\n",
        "                wb = abs(x1 - x2)\n",
        "                hb = abs(y1 - y2)\n",
        "\n",
        "                boxes.append((xc, yc, wb, hb, cat))\n",
        "\n",
        "        transf = self.transform(image=img, masks=[drv, lanes])\n",
        "        img = transf['image'].float()\n",
        "        drv, lanes = transf['masks']\n",
        "\n",
        "        return [img, drv, lanes, torch.tensor(boxes)]\n",
        "\n",
        "    def generate_anchors(self):\n",
        "        boxes = [[int(wb), int(hb)] for _, _, _, lbls in self.images for _, _, wb, hb, _ in lbls]\n",
        "        kmeans = KMeans(n_clusters=9, random_state=0)\n",
        "        kmeans.fit(boxes)\n",
        "        anchors = kmeans.cluster_centers_\n",
        "        anchors = anchors[np.argsort(anchors[:, 0] * anchors[:, 1])]\n",
        "        return torch.tensor(anchors).round().int().reshape((3, 3, 2))\n",
        "\n",
        "    def encode_boxes(self, boxes):\n",
        "        targets = [torch.zeros(3, 80, 80, 15), torch.zeros(3, 40, 40, 15), torch.zeros(3, 20, 20, 15)]\n",
        "\n",
        "        if len(boxes) == 0:\n",
        "            for i in range(len(targets)):\n",
        "                targets[i] = targets[i].view(-1, 15)\n",
        "\n",
        "            return torch.cat(targets, dim=0)\n",
        "\n",
        "        num_gt = boxes.shape[0]\n",
        "        anchors_fl = self.anchors.reshape(-1, 2)\n",
        "        num_a = anchors_fl.shape[0]\n",
        "\n",
        "        centered_gt = torch.cat((torch.tensor(self.out_s).repeat(num_gt, 1) / 2, boxes[:, 2:4]), dim=1)\n",
        "        centered_an = torch.cat((torch.tensor(self.out_s).repeat(num_a, 1) / 2, anchors_fl), dim=1)\n",
        "        iou = ops.box_iou(xywh_to_xyxy(centered_gt), xywh_to_xyxy(centered_an))\n",
        "        _, anch = iou.max(dim=1)\n",
        "\n",
        "        for i in range(num_gt):\n",
        "            layer, idx = anch[i] // 3, anch[i] % 3\n",
        "            _, ny, nx, _ = targets[layer].shape\n",
        "            sx, sy = self.out_s[0] // nx, self.out_s[1] // ny\n",
        "\n",
        "            gtx, gty, gtw, gth, cls = boxes[i]\n",
        "            gx, gy = int(gtx / sx), int(gty / sy)\n",
        "\n",
        "            targets[layer][idx, gy, gx, 0] = gtx\n",
        "            targets[layer][idx, gy, gx, 1] = gty\n",
        "            targets[layer][idx, gy, gx, 2] = gtw\n",
        "            targets[layer][idx, gy, gx, 3] = gth\n",
        "            targets[layer][idx, gy, gx, 4] = 1.0\n",
        "            targets[layer][idx, gy, gx, 5 + int(cls)] = 1.0\n",
        "\n",
        "        for i in range(len(targets)):\n",
        "            targets[i] = targets[i].view(-1, 15)\n",
        "\n",
        "        return torch.cat(targets, dim=0)\n",
        "\n",
        "    def __getitem__(self, index):\n",
        "        return self.images[index]\n",
        "\n",
        "    def __len__(self):\n",
        "        return len(self.images)"
      ],
      "metadata": {
        "id": "7FfRETUFCdf8",
        "trusted": true
      },
      "outputs": [],
      "execution_count": 6
    },
    {
      "cell_type": "markdown",
      "source": [
        "# Architecture"
      ],
      "metadata": {
        "id": "ew6QVrEyCdf8"
      }
    },
    {
      "cell_type": "markdown",
      "source": [
        "## Base components"
      ],
      "metadata": {
        "id": "vMUpaLFgCdf8"
      }
    },
    {
      "cell_type": "markdown",
      "source": [
        "### Conv"
      ],
      "metadata": {
        "id": "Hv5sOCWiCxRI"
      }
    },
    {
      "cell_type": "code",
      "source": [
        "class Conv(nn.Module):\n",
        "  def __init__(self, c_in, c_out, k, s=1, g=1):\n",
        "    super(Conv, self).__init__()\n",
        "\n",
        "    self.layers = nn.Sequential(\n",
        "        nn.Conv2d(c_in, c_out, k, s, (k - 1) // 2, g, bias=False),\n",
        "        nn.BatchNorm2d(c_out),\n",
        "        nn.SiLU(inplace=True)\n",
        "    )\n",
        "\n",
        "  def forward(self, x):\n",
        "    return self.layers(x)"
      ],
      "metadata": {
        "id": "SJO2EuhICdf8",
        "trusted": true
      },
      "outputs": [],
      "execution_count": 7
    },
    {
      "cell_type": "markdown",
      "source": [
        "### Downsampling"
      ],
      "metadata": {
        "id": "wI0WQTU_DF2d"
      }
    },
    {
      "cell_type": "code",
      "source": [
        "class Downsampling(nn.Module):\n",
        "  def __init__(self, c_in, c_out, k):\n",
        "    super(Downsampling, self).__init__()\n",
        "\n",
        "    self.conv1 = nn.Sequential(\n",
        "        Conv(c_in, c_in, 1),\n",
        "        Conv(c_in, c_out // 2, 3, 2)\n",
        "    )\n",
        "\n",
        "    self.conv2 = nn.Sequential(\n",
        "        nn.MaxPool2d(kernel_size=k, stride=k),\n",
        "        Conv(c_in, c_out // 2, 1)\n",
        "    )\n",
        "\n",
        "  def forward(self, x):\n",
        "    return torch.cat([self.conv1(x), self.conv2(x)], 1)"
      ],
      "metadata": {
        "id": "xwkcJSlUCdf9",
        "trusted": true
      },
      "outputs": [],
      "execution_count": 8
    },
    {
      "cell_type": "markdown",
      "source": [
        "## Backbone"
      ],
      "metadata": {
        "id": "epjTMiEiCdf9"
      }
    },
    {
      "cell_type": "markdown",
      "source": [
        "### ELAN Block"
      ],
      "metadata": {
        "id": "RlMWlVZDDXP0"
      }
    },
    {
      "cell_type": "code",
      "source": [
        "class ELANBlock(nn.Module):\n",
        "    def __init__(self, c_in, c_hidden, n_blocks, c_out):\n",
        "        super(ELANBlock, self).__init__()\n",
        "\n",
        "        self.transition_layer = Conv(c_in, c_hidden, 1)\n",
        "        self.base_layer = Conv(c_in, c_hidden, 1)\n",
        "\n",
        "        self.layers = nn.Sequential(*[Conv(c_hidden, c_hidden, 3) for _ in range(n_blocks)])\n",
        "\n",
        "        n_in = (n_blocks // 2 + 2) * c_hidden\n",
        "        self.feature_aggreation = Conv(n_in, c_out, 1)\n",
        "\n",
        "    def forward(self, x):\n",
        "        output = [self.transition_layer(x)]\n",
        "        x = self.base_layer(x)\n",
        "        output.append(x)\n",
        "\n",
        "        for idx, layer in enumerate(self.layers):\n",
        "            x = layer(x)\n",
        "            if idx % 2 == 1:\n",
        "                output.append(x)\n",
        "\n",
        "        output = torch.cat(output, 1)\n",
        "        return self.feature_aggreation(output)"
      ],
      "metadata": {
        "id": "R0FBhC9zCdf9",
        "trusted": true
      },
      "outputs": [],
      "execution_count": 9
    },
    {
      "cell_type": "markdown",
      "source": [
        "### SPPCSPC"
      ],
      "metadata": {
        "id": "EJVJjkTMDfek"
      }
    },
    {
      "cell_type": "code",
      "source": [
        "class SPPCSPC(nn.Module):\n",
        "    def __init__(self, c_in, c_out, k=[5, 9, 13]) -> None:\n",
        "        super(SPPCSPC, self).__init__()\n",
        "\n",
        "        self.conv1 = Conv(c_in, c_out, 1)\n",
        "\n",
        "        self.preprocess = nn.Sequential(\n",
        "            Conv(c_in, c_out, 1),\n",
        "            Conv(c_out, c_out, 3),\n",
        "            Conv(c_out, c_out, 1)\n",
        "        )\n",
        "\n",
        "        self.maxpool = nn.ModuleList([nn.MaxPool2d(ki, 1, ki // 2) for ki in k])\n",
        "\n",
        "        self.postprocess = nn.Sequential(\n",
        "            Conv(4 * c_out, c_out, 1),\n",
        "            Conv(c_out, c_out, 3)\n",
        "        )\n",
        "\n",
        "        self.concat = Conv(2 * c_out, c_out, 1)\n",
        "\n",
        "    def forward(self, x):\n",
        "        x1 = self.preprocess(x)\n",
        "\n",
        "        y1 = [x1] + [layer(x1) for layer in self.maxpool]\n",
        "        y1 = torch.cat(y1, 1)\n",
        "        y1 = self.postprocess(y1)\n",
        "\n",
        "        y2 = self.conv1(x)\n",
        "\n",
        "        return self.concat(torch.cat([y1, y2], 1))"
      ],
      "metadata": {
        "id": "OD9cMm9ACdf9",
        "trusted": true
      },
      "outputs": [],
      "execution_count": 10
    },
    {
      "cell_type": "markdown",
      "source": [
        "### Backbone"
      ],
      "metadata": {
        "id": "Pt3n2atKDyX1"
      }
    },
    {
      "cell_type": "code",
      "source": [
        "class Backbone(nn.Module):\n",
        "    def __init__(self, c_out_downs = [64, 128, 256, 512],\n",
        "                     c_hidd_elan = [32, 64, 128, 256],\n",
        "                     n_blocks = 6) -> None:\n",
        "        super(Backbone, self).__init__()\n",
        "\n",
        "        self.conv = Conv(3, 32, 3, 2)\n",
        "\n",
        "        n_in = 32\n",
        "        layers = []\n",
        "        for n_out, n_hidd in zip(c_out_downs, c_hidd_elan):\n",
        "            layers.append(nn.Sequential(\n",
        "                Downsampling(n_in, n_out, 2),\n",
        "                ELANBlock(n_out, n_hidd, n_blocks, n_out)\n",
        "            ))\n",
        "            n_in = n_out\n",
        "\n",
        "        self.layers = nn.Sequential(*layers)\n",
        "        self.spp = SPPCSPC(n_in, n_in)\n",
        "\n",
        "    def forward(self, x):\n",
        "        x = self.conv(x)\n",
        "\n",
        "        output = []\n",
        "        for idx, layer in enumerate(self.layers):\n",
        "            x = layer(x)\n",
        "            if idx > 0:\n",
        "                output.append(x)\n",
        "\n",
        "        output[-1] = self.spp(output[-1])\n",
        "\n",
        "        return output"
      ],
      "metadata": {
        "id": "mCC6i6vGCdf9",
        "trusted": true
      },
      "outputs": [],
      "execution_count": 11
    },
    {
      "cell_type": "markdown",
      "source": [
        "## Neck"
      ],
      "metadata": {
        "id": "vw9BMO-UCdf9"
      }
    },
    {
      "cell_type": "markdown",
      "source": [
        "### Fuse Feature Module"
      ],
      "metadata": {
        "id": "gfyuugMlD4RE"
      }
    },
    {
      "cell_type": "code",
      "source": [
        "class FuseFeatureModule(nn.Module):\n",
        "    def __init__(self, c_in, c_out) -> None:\n",
        "        super(FuseFeatureModule, self).__init__()\n",
        "\n",
        "        self.upsample = nn.Upsample(scale_factor=2, mode='nearest')\n",
        "        self.conv1 = Conv(c_in, c_in // 2, 1)\n",
        "        self.conv2 = Conv(c_in, c_in // 2, 1)\n",
        "        self.conv3 = Conv(c_in, c_out, 3)\n",
        "\n",
        "    def forward(self, x):\n",
        "        [x1, x2] = x\n",
        "        x1 = self.upsample(x1)\n",
        "        x1 = self.conv1(x1)\n",
        "        x2 = self.conv2(x2)\n",
        "        concat = torch.cat([x1, x2], 1)\n",
        "        return self.conv3(concat)"
      ],
      "metadata": {
        "id": "a_s4js0TCdf9",
        "trusted": true
      },
      "outputs": [],
      "execution_count": 12
    },
    {
      "cell_type": "markdown",
      "source": [
        "### Neck"
      ],
      "metadata": {
        "id": "juG7DQe0EB_5"
      }
    },
    {
      "cell_type": "code",
      "source": [
        "class Neck(nn.Module):\n",
        "    def __init__(self, c_in=[512, 256, 128], c_out=[256, 128, 128]) -> None:\n",
        "        super(Neck, self).__init__()\n",
        "\n",
        "        self.p5 = Conv(c_in[0], c_out[0], 1)\n",
        "\n",
        "        self.upsampling = nn.ModuleList([\n",
        "            FuseFeatureModule(n_in, n_out)\n",
        "            for n_in, n_out in zip(c_in[1:], c_out[1:])])\n",
        "\n",
        "    def forward(self, x):\n",
        "        x = x[::-1]\n",
        "        output = [self.p5(x[0])]\n",
        "\n",
        "        for layer, xi in zip(self.upsampling, x[1:]):\n",
        "            output.append(layer([output[-1], xi]))\n",
        "\n",
        "        return output"
      ],
      "metadata": {
        "id": "trF9FRwHCdf-",
        "trusted": true
      },
      "outputs": [],
      "execution_count": 13
    },
    {
      "cell_type": "markdown",
      "source": [
        "## Drivable area segment head"
      ],
      "metadata": {
        "id": "uOfGGckbCdf-"
      }
    },
    {
      "cell_type": "code",
      "source": [
        "class DrivableAreaSegmentHead(nn.Module):\n",
        "    def __init__(self, c_in, c_hidd) -> None:\n",
        "        super(DrivableAreaSegmentHead, self).__init__()\n",
        "\n",
        "        next_layers = [Conv(c_in, c_in, 1)]\n",
        "        n_in = c_in\n",
        "        for n_hidd in c_hidd:\n",
        "            next_layers.append(nn.Upsample(scale_factor=2, mode='nearest'))\n",
        "            next_layers.append(Conv(n_in, n_hidd, 3))\n",
        "\n",
        "            n_in = n_hidd\n",
        "\n",
        "        self.next_layers = nn.Sequential(*next_layers)\n",
        "\n",
        "    def forward(self, x):\n",
        "        return self.next_layers(x)"
      ],
      "metadata": {
        "id": "0q0iQnNYCdf-",
        "trusted": true
      },
      "outputs": [],
      "execution_count": 14
    },
    {
      "cell_type": "markdown",
      "source": [
        "## Lane segment head"
      ],
      "metadata": {
        "id": "eSuFGAlDFK2v"
      }
    },
    {
      "cell_type": "code",
      "source": [
        "class LaneSegmentHead(nn.Module):\n",
        "    def __init__(self, c_in, c_hidd):\n",
        "        super(LaneSegmentHead, self).__init__()\n",
        "\n",
        "        next_layers = [Conv(c_in, c_in, 1)]\n",
        "        n_in = c_in\n",
        "        for n_hidd in c_hidd:\n",
        "            next_layers.append(nn.ConvTranspose2d(n_in, n_hidd, 2, 2, bias=False))\n",
        "            n_in = n_hidd\n",
        "\n",
        "        self.next_layers = nn.Sequential(*next_layers)\n",
        "\n",
        "    def forward(self, x):\n",
        "        return self.next_layers(x)"
      ],
      "metadata": {
        "id": "DEXT0I3ACdf-",
        "trusted": true
      },
      "outputs": [],
      "execution_count": 15
    },
    {
      "cell_type": "markdown",
      "source": [
        "## Detection head"
      ],
      "metadata": {
        "id": "GPOvAbc2Cdf-"
      }
    },
    {
      "cell_type": "markdown",
      "source": [
        "### Path aggregation block"
      ],
      "metadata": {
        "id": "vg12CbkXFXx9"
      }
    },
    {
      "cell_type": "code",
      "source": [
        "class PathAggregationBlock(nn.Module):\n",
        "    def __init__(self, c_in) -> None:\n",
        "        super(PathAggregationBlock, self).__init__()\n",
        "\n",
        "        self.conv1 = Conv(c_in, c_in, 3, 2)\n",
        "        self.conv2 = Conv(2 * c_in, 2 * c_in, 3)\n",
        "\n",
        "    def forward(self, x):\n",
        "        [x1, x2] = x\n",
        "        x1 = self.conv1(x1)\n",
        "        concat = torch.cat([x1, x2], 1)\n",
        "        return self.conv2(concat)"
      ],
      "metadata": {
        "id": "RUV3i5JJCdf-",
        "trusted": true
      },
      "outputs": [],
      "execution_count": 16
    },
    {
      "cell_type": "markdown",
      "source": [
        "### Path aggregation network"
      ],
      "metadata": {
        "id": "QUArz0BdFqJ0"
      }
    },
    {
      "cell_type": "code",
      "source": [
        "class PathAggregationNetwork(nn.Module):\n",
        "    def __init__(self, c_in) -> None:\n",
        "        super(PathAggregationNetwork, self).__init__()\n",
        "\n",
        "        self.n3 = Conv(c_in[0], c_in[0], 1)\n",
        "        self.layers = nn.ModuleList([PathAggregationBlock(n_in) for n_in in c_in[1:]])\n",
        "\n",
        "    def forward(self, x):\n",
        "        x = x[::-1]\n",
        "        output = [self.n3(x[0])]\n",
        "\n",
        "        for layer, xi in zip(self.layers, x[1:]):\n",
        "            output.append(layer([output[-1], xi]))\n",
        "\n",
        "        return output"
      ],
      "metadata": {
        "id": "ztzv753iCdf-",
        "trusted": true
      },
      "outputs": [],
      "execution_count": 17
    },
    {
      "cell_type": "markdown",
      "source": [
        "### Detect head"
      ],
      "metadata": {
        "id": "jDUHRDgXFsua"
      }
    },
    {
      "cell_type": "code",
      "source": [
        "class DetectHead(nn.Module):\n",
        "    def __init__(self, nc, anchors,\n",
        "               c_in=[128, 128, 256], c_h=[128, 256, 512]) -> None:\n",
        "        super(DetectHead, self).__init__()\n",
        "\n",
        "        self.pan = PathAggregationNetwork(c_in)\n",
        "        self.stride = torch.tensor([8, 16, 32])\n",
        "        self.nc = nc\n",
        "        self.no = nc + 5\n",
        "        self.nl = len(anchors)\n",
        "        self.na = len(anchors[0])\n",
        "        self.grid = [torch.zeros(1)] * self.nl\n",
        "        self.register_buffer('anchor_grid', anchors.float().view(self.nl, 1, -1, 1, 1, 2))\n",
        "        self.detectors = nn.ModuleList(\n",
        "            [nn.Conv2d(n_h, self.no * self.na, 1) for n_h in c_h]\n",
        "        )\n",
        "\n",
        "    def forward(self, x):\n",
        "        x = self.pan(x)\n",
        "\n",
        "        for i in range(self.nl):\n",
        "            x[i] = self.detectors[i](x[i])\n",
        "            bs, _, ny, nx = x[i].shape\n",
        "\n",
        "            if self.grid[i].shape[2:4] != x[i].shape[2:4]:\n",
        "                self.grid[i] = self.make_grid(nx, ny).to(x[i].device)\n",
        "\n",
        "            x[i] = x[i].view(bs, self.na, self.no, ny, nx).permute(0, 1, 3, 4, 2).contiguous()\n",
        "            x[i][..., 0:2] = (x[i][..., 0:2].sigmoid() + self.grid[i]) * self.stride[i]\n",
        "            x[i][..., 2:4] = x[i][..., 2:4].exp() * self.anchor_grid[i].to(x[i].device)\n",
        "            #x[i][..., 0:4] = torch.clamp(x[i][..., 0:4], min=0, max=640)\n",
        "\n",
        "            if not self.training:\n",
        "                x[i][..., 4:] = x[i][..., 4:].sigmoid()\n",
        "\n",
        "            x[i] = x[i].view(bs, -1, self.no)\n",
        "\n",
        "        return torch.cat(x, dim=1)\n",
        "\n",
        "    @staticmethod\n",
        "    def make_grid(nx, ny):\n",
        "        yv, xv = torch.meshgrid([torch.arange(ny), torch.arange(nx)])\n",
        "        return torch.stack((xv, yv), 2).view((1, 1, ny, nx, 2)).float()"
      ],
      "metadata": {
        "id": "F6wcsiXMCdf-",
        "trusted": true
      },
      "outputs": [],
      "execution_count": 18
    },
    {
      "cell_type": "markdown",
      "source": [
        "## Full implementation"
      ],
      "metadata": {
        "id": "MGti2OJdCdf_"
      }
    },
    {
      "cell_type": "code",
      "source": [
        "DEFAULT_ANCHORS = torch.tensor([\n",
        "    [(12, 16), (19, 36), (40, 28)],\n",
        "    [(36, 75), (76, 55), (72, 146)],\n",
        "    [(142, 110), (192, 243), (459, 401)]\n",
        "])\n",
        "\n",
        "class YOLOP(nn.Module):\n",
        "    def __init__(self, nc=10, anchors=DEFAULT_ANCHORS):\n",
        "        super(YOLOP, self).__init__()\n",
        "\n",
        "        self.backbone = Backbone()\n",
        "        self.neck = Neck()\n",
        "        self.drivableAreaHead = DrivableAreaSegmentHead(512, [256, 128, 64, 32, 1])\n",
        "        self.laneHead = LaneSegmentHead(128, [64, 32, 1])\n",
        "        self.detectHead = DetectHead(nc, anchors)\n",
        "\n",
        "    def forward(self, x):\n",
        "        x = self.backbone(x)\n",
        "        drivable = self.drivableAreaHead(x[-1])\n",
        "        x = self.neck(x)\n",
        "        lanes = self.laneHead(x[-1])\n",
        "        boxes = self.detectHead(x)\n",
        "\n",
        "        return drivable, lanes, boxes"
      ],
      "metadata": {
        "id": "GsnTXbWlCdf_",
        "trusted": true
      },
      "outputs": [],
      "execution_count": 19
    },
    {
      "cell_type": "code",
      "source": [
        "model = YOLOP()\n",
        "x = torch.randint(0, 255, (1, 3, 640, 640)).float()\n",
        "\n",
        "drv, lanes, boxes = model(x)\n",
        "print(drv.shape)\n",
        "print(lanes.shape)\n",
        "print(boxes.shape)\n",
        "\n",
        "del model, x, drv, lanes, boxes\n",
        "torch.cuda.empty_cache()\n",
        "gc.collect()"
      ],
      "metadata": {
        "id": "ycpup8GyCdf_",
        "trusted": true,
        "outputId": "a355f77b-2f87-45fd-93e6-3a3520507a06",
        "colab": {
          "base_uri": "https://localhost:8080/"
        }
      },
      "outputs": [
        {
          "output_type": "stream",
          "name": "stderr",
          "text": [
            "/usr/local/lib/python3.11/dist-packages/torch/functional.py:539: UserWarning: torch.meshgrid: in an upcoming release, it will be required to pass the indexing argument. (Triggered internally at /pytorch/aten/src/ATen/native/TensorShape.cpp:3637.)\n",
            "  return _VF.meshgrid(tensors, **kwargs)  # type: ignore[attr-defined]\n"
          ]
        },
        {
          "output_type": "stream",
          "name": "stdout",
          "text": [
            "torch.Size([1, 1, 640, 640])\n",
            "torch.Size([1, 1, 640, 640])\n",
            "torch.Size([1, 25200, 15])\n"
          ]
        },
        {
          "output_type": "execute_result",
          "data": {
            "text/plain": [
              "0"
            ]
          },
          "metadata": {},
          "execution_count": 20
        }
      ],
      "execution_count": 20
    },
    {
      "cell_type": "markdown",
      "source": [
        "# Training"
      ],
      "metadata": {
        "id": "zw1XC7AlCdf_"
      }
    },
    {
      "cell_type": "markdown",
      "source": [
        "## Setup"
      ],
      "metadata": {
        "id": "-8Pqlp8pCdf_"
      }
    },
    {
      "cell_type": "code",
      "source": [
        "device = torch.device('cuda' if torch.cuda.is_available() else 'cpu')\n",
        "device"
      ],
      "metadata": {
        "id": "4uMGCvn0Cdf_",
        "trusted": true,
        "outputId": "4f5cecf7-f260-412f-997b-cae9bc8793a9",
        "colab": {
          "base_uri": "https://localhost:8080/"
        }
      },
      "outputs": [
        {
          "output_type": "execute_result",
          "data": {
            "text/plain": [
              "device(type='cuda')"
            ]
          },
          "metadata": {},
          "execution_count": 21
        }
      ],
      "execution_count": 21
    },
    {
      "cell_type": "code",
      "source": [
        "dataset = BDD100K(IMAGE_TRAIN_PATH, DRIVABLE_TRAIN_PATH, LANE_TRAIN_PATH, DET_TRAIN_PATH, (640, 640), n=300)"
      ],
      "metadata": {
        "id": "1rsz1183CdgA",
        "trusted": true,
        "outputId": "0185095a-e017-4abe-a6e0-a19e08f51757",
        "colab": {
          "base_uri": "https://localhost:8080/"
        }
      },
      "outputs": [
        {
          "output_type": "stream",
          "name": "stderr",
          "text": [
            "100%|██████████| 300/300 [00:16<00:00, 18.56it/s]\n",
            "100%|██████████| 300/300 [00:01<00:00, 289.72it/s]\n"
          ]
        }
      ],
      "execution_count": 22
    },
    {
      "cell_type": "code",
      "source": [
        "def collate_fn(batch):\n",
        "  imgs, drvs, lanes, lbls = zip(*batch)\n",
        "  return list(imgs), list(drvs), list(lanes), list(lbls)"
      ],
      "metadata": {
        "id": "-U8WPd6mCdgA",
        "trusted": true
      },
      "outputs": [],
      "execution_count": 23
    },
    {
      "cell_type": "code",
      "source": [
        "data_loader = DataLoader(dataset, batch_size=8, shuffle=True, collate_fn=collate_fn)"
      ],
      "metadata": {
        "id": "Mul9FgWmCdgA",
        "trusted": true
      },
      "outputs": [],
      "execution_count": 24
    },
    {
      "cell_type": "markdown",
      "source": [
        "## Loss function"
      ],
      "metadata": {
        "id": "vqbdGvWHCdgA"
      }
    },
    {
      "cell_type": "code",
      "source": [
        "def detection_loss(p_boxes, gt_boxes, l_obj=0.7, l_cls=0.3, l_reg=0.1):\n",
        "    obj_loss = ops.sigmoid_focal_loss(p_boxes[..., 4], gt_boxes[..., 4], reduction='mean')\n",
        "    cls_loss = ops.sigmoid_focal_loss(p_boxes[..., 5:], gt_boxes[..., 5:], reduction='mean')\n",
        "\n",
        "    obj_mask = gt_boxes[..., 4] == 1\n",
        "\n",
        "    if obj_mask.any():\n",
        "        pred_xyxy = xywh_to_xyxy(p_boxes[obj_mask][..., :4])\n",
        "        gt_xyxy = xywh_to_xyxy(gt_boxes[obj_mask][..., :4])\n",
        "        reg_loss = ops.complete_box_iou_loss(pred_xyxy, gt_xyxy, reduction='mean')\n",
        "    else:\n",
        "        reg_loss = torch.tensor(0.0, device=p_boxes.device)\n",
        "\n",
        "    return l_obj * obj_loss + l_cls * cls_loss + l_reg * reg_loss\n",
        "\n",
        "def compute_loss(gt_drv, gt_lanes, gt_boxes, p_drv, p_lanes, p_boxes, l_drv=0.2, l_lanes=0.2, l_det=0.75):\n",
        "    det_loss = detection_loss(p_boxes, gt_boxes)\n",
        "    #drv_loss = F.binary_cross_entropy_with_logits(p_drv.squeeze(1), gt_drv, reduction='mean')\n",
        "    #lanes_loss = ops.sigmoid_focal_loss(p_lanes.squeeze(1), gt_lanes, reduction='mean')\n",
        "\n",
        "    #return l_det * det_loss + l_drv * drv_loss + l_lanes * lanes_loss\n",
        "    return det_loss"
      ],
      "metadata": {
        "id": "g3SlKAGlCdgA",
        "trusted": true
      },
      "outputs": [],
      "execution_count": 25
    },
    {
      "cell_type": "markdown",
      "source": [
        "## Training loop"
      ],
      "metadata": {
        "id": "2lgXd21QCdgK"
      }
    },
    {
      "cell_type": "code",
      "source": [
        "torch.cuda.empty_cache()\n",
        "gc.collect()"
      ],
      "metadata": {
        "id": "Hjw2jSR1MHLE",
        "trusted": true,
        "outputId": "c3e76283-dcb8-465c-eec4-36e006c202d9",
        "colab": {
          "base_uri": "https://localhost:8080/"
        }
      },
      "outputs": [
        {
          "output_type": "execute_result",
          "data": {
            "text/plain": [
              "0"
            ]
          },
          "metadata": {},
          "execution_count": 26
        }
      ],
      "execution_count": 26
    },
    {
      "cell_type": "code",
      "source": [
        "model = YOLOP(anchors=dataset.anchors).to(device)\n",
        "\n",
        "optimizer = optim.SGD(model.parameters(), lr=0.01, momentum=0.937, weight_decay=0.005)\n",
        "scheduler = optim.lr_scheduler.CosineAnnealingWarmRestarts(optimizer, 10, 2, 1e-5)\n",
        "\n",
        "epochs = 100\n",
        "patience, counter = 5, 0\n",
        "best_loss = float('inf')\n",
        "\n",
        "for epoch in range(epochs):\n",
        "    model.train()\n",
        "    epoch_loss = 0\n",
        "    recall_score = 0\n",
        "\n",
        "    for images, drivables, lanes, boxes in tqdm(data_loader):\n",
        "        images = torch.stack(images).float().to(device)\n",
        "        drivables = torch.stack(drivables).to(device)\n",
        "        lanes = torch.stack(lanes).to(device)\n",
        "        boxes = torch.stack(boxes).to(device)\n",
        "\n",
        "        #forward pass\n",
        "        p_drv, p_lanes, p_boxes = model(images)\n",
        "\n",
        "        #loss calculation\n",
        "        loss = compute_loss(drivables, lanes, boxes, p_drv, p_lanes, p_boxes)\n",
        "\n",
        "        #Backpropagation\n",
        "        optimizer.zero_grad()\n",
        "        loss.backward()\n",
        "        optimizer.step()\n",
        "\n",
        "        epoch_loss += loss.item()\n",
        "\n",
        "        del p_drv, p_lanes, p_boxes, drivables, lanes, boxes, images, loss\n",
        "\n",
        "    if epoch_loss < best_loss:\n",
        "        best_loss = epoch_loss\n",
        "        counter = 0\n",
        "        torch.save(model.state_dict(), \"yolop_v2_mini.pth\")\n",
        "    else:\n",
        "        counter += 1\n",
        "\n",
        "    print(f\"Epoch {epoch+1}/{epochs}, Loss: {epoch_loss:.4f}\")\n",
        "\n",
        "    if counter >= patience:\n",
        "        print('Training stopped early')\n",
        "        break\n",
        "\n",
        "del model\n",
        "torch.cuda.empty_cache()\n",
        "gc.collect()"
      ],
      "metadata": {
        "id": "q7pl53WwCdgK",
        "trusted": true,
        "outputId": "b37690ec-4181-4e4f-feb5-536ffb61ac7e",
        "colab": {
          "base_uri": "https://localhost:8080/"
        }
      },
      "outputs": [
        {
          "output_type": "stream",
          "name": "stderr",
          "text": [
            "100%|██████████| 38/38 [00:16<00:00,  2.36it/s]\n"
          ]
        },
        {
          "output_type": "stream",
          "name": "stdout",
          "text": [
            "Epoch 1/100, Loss: 7.0097\n"
          ]
        },
        {
          "output_type": "stream",
          "name": "stderr",
          "text": [
            "100%|██████████| 38/38 [00:14<00:00,  2.61it/s]\n"
          ]
        },
        {
          "output_type": "stream",
          "name": "stdout",
          "text": [
            "Epoch 2/100, Loss: 5.0003\n"
          ]
        },
        {
          "output_type": "stream",
          "name": "stderr",
          "text": [
            "100%|██████████| 38/38 [00:14<00:00,  2.59it/s]\n"
          ]
        },
        {
          "output_type": "stream",
          "name": "stdout",
          "text": [
            "Epoch 3/100, Loss: 4.1934\n"
          ]
        },
        {
          "output_type": "stream",
          "name": "stderr",
          "text": [
            "100%|██████████| 38/38 [00:14<00:00,  2.60it/s]\n"
          ]
        },
        {
          "output_type": "stream",
          "name": "stdout",
          "text": [
            "Epoch 4/100, Loss: 3.8233\n"
          ]
        },
        {
          "output_type": "stream",
          "name": "stderr",
          "text": [
            "100%|██████████| 38/38 [00:14<00:00,  2.60it/s]\n"
          ]
        },
        {
          "output_type": "stream",
          "name": "stdout",
          "text": [
            "Epoch 5/100, Loss: 3.6160\n"
          ]
        },
        {
          "output_type": "stream",
          "name": "stderr",
          "text": [
            "100%|██████████| 38/38 [00:14<00:00,  2.57it/s]\n"
          ]
        },
        {
          "output_type": "stream",
          "name": "stdout",
          "text": [
            "Epoch 6/100, Loss: 3.4771\n"
          ]
        },
        {
          "output_type": "stream",
          "name": "stderr",
          "text": [
            "100%|██████████| 38/38 [00:14<00:00,  2.56it/s]\n"
          ]
        },
        {
          "output_type": "stream",
          "name": "stdout",
          "text": [
            "Epoch 7/100, Loss: 3.3728\n"
          ]
        },
        {
          "output_type": "stream",
          "name": "stderr",
          "text": [
            "100%|██████████| 38/38 [00:14<00:00,  2.54it/s]\n"
          ]
        },
        {
          "output_type": "stream",
          "name": "stdout",
          "text": [
            "Epoch 8/100, Loss: 3.3011\n"
          ]
        },
        {
          "output_type": "stream",
          "name": "stderr",
          "text": [
            "100%|██████████| 38/38 [00:14<00:00,  2.56it/s]\n"
          ]
        },
        {
          "output_type": "stream",
          "name": "stdout",
          "text": [
            "Epoch 9/100, Loss: 3.2339\n"
          ]
        },
        {
          "output_type": "stream",
          "name": "stderr",
          "text": [
            "100%|██████████| 38/38 [00:14<00:00,  2.55it/s]\n"
          ]
        },
        {
          "output_type": "stream",
          "name": "stdout",
          "text": [
            "Epoch 10/100, Loss: 3.2055\n"
          ]
        },
        {
          "output_type": "stream",
          "name": "stderr",
          "text": [
            "100%|██████████| 38/38 [00:15<00:00,  2.52it/s]\n"
          ]
        },
        {
          "output_type": "stream",
          "name": "stdout",
          "text": [
            "Epoch 11/100, Loss: 3.1575\n"
          ]
        },
        {
          "output_type": "stream",
          "name": "stderr",
          "text": [
            "100%|██████████| 38/38 [00:15<00:00,  2.53it/s]\n"
          ]
        },
        {
          "output_type": "stream",
          "name": "stdout",
          "text": [
            "Epoch 12/100, Loss: 3.1258\n"
          ]
        },
        {
          "output_type": "stream",
          "name": "stderr",
          "text": [
            "100%|██████████| 38/38 [00:15<00:00,  2.53it/s]\n"
          ]
        },
        {
          "output_type": "stream",
          "name": "stdout",
          "text": [
            "Epoch 13/100, Loss: 3.1046\n"
          ]
        },
        {
          "output_type": "stream",
          "name": "stderr",
          "text": [
            "100%|██████████| 38/38 [00:15<00:00,  2.53it/s]\n"
          ]
        },
        {
          "output_type": "stream",
          "name": "stdout",
          "text": [
            "Epoch 14/100, Loss: 3.0824\n"
          ]
        },
        {
          "output_type": "stream",
          "name": "stderr",
          "text": [
            "100%|██████████| 38/38 [00:15<00:00,  2.53it/s]\n"
          ]
        },
        {
          "output_type": "stream",
          "name": "stdout",
          "text": [
            "Epoch 15/100, Loss: 3.0718\n"
          ]
        },
        {
          "output_type": "stream",
          "name": "stderr",
          "text": [
            "100%|██████████| 38/38 [00:15<00:00,  2.51it/s]\n"
          ]
        },
        {
          "output_type": "stream",
          "name": "stdout",
          "text": [
            "Epoch 16/100, Loss: 3.0533\n"
          ]
        },
        {
          "output_type": "stream",
          "name": "stderr",
          "text": [
            "100%|██████████| 38/38 [00:15<00:00,  2.51it/s]\n"
          ]
        },
        {
          "output_type": "stream",
          "name": "stdout",
          "text": [
            "Epoch 17/100, Loss: 3.0417\n"
          ]
        },
        {
          "output_type": "stream",
          "name": "stderr",
          "text": [
            "100%|██████████| 38/38 [00:15<00:00,  2.48it/s]\n"
          ]
        },
        {
          "output_type": "stream",
          "name": "stdout",
          "text": [
            "Epoch 18/100, Loss: 3.0294\n"
          ]
        },
        {
          "output_type": "stream",
          "name": "stderr",
          "text": [
            "100%|██████████| 38/38 [00:15<00:00,  2.50it/s]\n"
          ]
        },
        {
          "output_type": "stream",
          "name": "stdout",
          "text": [
            "Epoch 19/100, Loss: 3.0189\n"
          ]
        },
        {
          "output_type": "stream",
          "name": "stderr",
          "text": [
            "100%|██████████| 38/38 [00:15<00:00,  2.49it/s]\n"
          ]
        },
        {
          "output_type": "stream",
          "name": "stdout",
          "text": [
            "Epoch 20/100, Loss: 3.0080\n"
          ]
        },
        {
          "output_type": "stream",
          "name": "stderr",
          "text": [
            "100%|██████████| 38/38 [00:15<00:00,  2.49it/s]\n"
          ]
        },
        {
          "output_type": "stream",
          "name": "stdout",
          "text": [
            "Epoch 21/100, Loss: 2.9912\n"
          ]
        },
        {
          "output_type": "stream",
          "name": "stderr",
          "text": [
            "100%|██████████| 38/38 [00:15<00:00,  2.49it/s]\n"
          ]
        },
        {
          "output_type": "stream",
          "name": "stdout",
          "text": [
            "Epoch 22/100, Loss: 2.9838\n"
          ]
        },
        {
          "output_type": "stream",
          "name": "stderr",
          "text": [
            "100%|██████████| 38/38 [00:15<00:00,  2.49it/s]\n"
          ]
        },
        {
          "output_type": "stream",
          "name": "stdout",
          "text": [
            "Epoch 23/100, Loss: 2.9667\n"
          ]
        },
        {
          "output_type": "stream",
          "name": "stderr",
          "text": [
            "100%|██████████| 38/38 [00:15<00:00,  2.49it/s]\n"
          ]
        },
        {
          "output_type": "stream",
          "name": "stdout",
          "text": [
            "Epoch 24/100, Loss: 2.9627\n"
          ]
        },
        {
          "output_type": "stream",
          "name": "stderr",
          "text": [
            "100%|██████████| 38/38 [00:15<00:00,  2.49it/s]\n"
          ]
        },
        {
          "output_type": "stream",
          "name": "stdout",
          "text": [
            "Epoch 25/100, Loss: 2.9405\n"
          ]
        },
        {
          "output_type": "stream",
          "name": "stderr",
          "text": [
            "100%|██████████| 38/38 [00:15<00:00,  2.47it/s]\n"
          ]
        },
        {
          "output_type": "stream",
          "name": "stdout",
          "text": [
            "Epoch 26/100, Loss: 2.9364\n"
          ]
        },
        {
          "output_type": "stream",
          "name": "stderr",
          "text": [
            "100%|██████████| 38/38 [00:15<00:00,  2.51it/s]\n"
          ]
        },
        {
          "output_type": "stream",
          "name": "stdout",
          "text": [
            "Epoch 27/100, Loss: 2.9261\n"
          ]
        },
        {
          "output_type": "stream",
          "name": "stderr",
          "text": [
            "100%|██████████| 38/38 [00:15<00:00,  2.52it/s]\n"
          ]
        },
        {
          "output_type": "stream",
          "name": "stdout",
          "text": [
            "Epoch 28/100, Loss: 2.9058\n"
          ]
        },
        {
          "output_type": "stream",
          "name": "stderr",
          "text": [
            "100%|██████████| 38/38 [00:15<00:00,  2.51it/s]\n"
          ]
        },
        {
          "output_type": "stream",
          "name": "stdout",
          "text": [
            "Epoch 29/100, Loss: 2.8933\n"
          ]
        },
        {
          "output_type": "stream",
          "name": "stderr",
          "text": [
            "100%|██████████| 38/38 [00:15<00:00,  2.52it/s]\n"
          ]
        },
        {
          "output_type": "stream",
          "name": "stdout",
          "text": [
            "Epoch 30/100, Loss: 2.8764\n"
          ]
        },
        {
          "output_type": "stream",
          "name": "stderr",
          "text": [
            "100%|██████████| 38/38 [00:15<00:00,  2.52it/s]\n"
          ]
        },
        {
          "output_type": "stream",
          "name": "stdout",
          "text": [
            "Epoch 31/100, Loss: 2.8690\n"
          ]
        },
        {
          "output_type": "stream",
          "name": "stderr",
          "text": [
            "100%|██████████| 38/38 [00:15<00:00,  2.52it/s]\n"
          ]
        },
        {
          "output_type": "stream",
          "name": "stdout",
          "text": [
            "Epoch 32/100, Loss: 2.8419\n"
          ]
        },
        {
          "output_type": "stream",
          "name": "stderr",
          "text": [
            "100%|██████████| 38/38 [00:15<00:00,  2.52it/s]\n"
          ]
        },
        {
          "output_type": "stream",
          "name": "stdout",
          "text": [
            "Epoch 33/100, Loss: 2.8233\n"
          ]
        },
        {
          "output_type": "stream",
          "name": "stderr",
          "text": [
            "100%|██████████| 38/38 [00:15<00:00,  2.52it/s]\n"
          ]
        },
        {
          "output_type": "stream",
          "name": "stdout",
          "text": [
            "Epoch 34/100, Loss: 2.8006\n"
          ]
        },
        {
          "output_type": "stream",
          "name": "stderr",
          "text": [
            "100%|██████████| 38/38 [00:15<00:00,  2.52it/s]\n"
          ]
        },
        {
          "output_type": "stream",
          "name": "stdout",
          "text": [
            "Epoch 35/100, Loss: 2.7856\n"
          ]
        },
        {
          "output_type": "stream",
          "name": "stderr",
          "text": [
            "100%|██████████| 38/38 [00:15<00:00,  2.52it/s]\n"
          ]
        },
        {
          "output_type": "stream",
          "name": "stdout",
          "text": [
            "Epoch 36/100, Loss: 2.7745\n"
          ]
        },
        {
          "output_type": "stream",
          "name": "stderr",
          "text": [
            "100%|██████████| 38/38 [00:15<00:00,  2.52it/s]\n"
          ]
        },
        {
          "output_type": "stream",
          "name": "stdout",
          "text": [
            "Epoch 37/100, Loss: 2.7492\n"
          ]
        },
        {
          "output_type": "stream",
          "name": "stderr",
          "text": [
            "100%|██████████| 38/38 [00:15<00:00,  2.51it/s]\n"
          ]
        },
        {
          "output_type": "stream",
          "name": "stdout",
          "text": [
            "Epoch 38/100, Loss: 2.7385\n"
          ]
        },
        {
          "output_type": "stream",
          "name": "stderr",
          "text": [
            "100%|██████████| 38/38 [00:15<00:00,  2.52it/s]\n"
          ]
        },
        {
          "output_type": "stream",
          "name": "stdout",
          "text": [
            "Epoch 39/100, Loss: 2.7132\n"
          ]
        },
        {
          "output_type": "stream",
          "name": "stderr",
          "text": [
            "100%|██████████| 38/38 [00:15<00:00,  2.52it/s]\n"
          ]
        },
        {
          "output_type": "stream",
          "name": "stdout",
          "text": [
            "Epoch 40/100, Loss: 2.7078\n"
          ]
        },
        {
          "output_type": "stream",
          "name": "stderr",
          "text": [
            "100%|██████████| 38/38 [00:15<00:00,  2.52it/s]\n"
          ]
        },
        {
          "output_type": "stream",
          "name": "stdout",
          "text": [
            "Epoch 41/100, Loss: 2.6860\n"
          ]
        },
        {
          "output_type": "stream",
          "name": "stderr",
          "text": [
            "100%|██████████| 38/38 [00:15<00:00,  2.53it/s]\n"
          ]
        },
        {
          "output_type": "stream",
          "name": "stdout",
          "text": [
            "Epoch 42/100, Loss: 2.6732\n"
          ]
        },
        {
          "output_type": "stream",
          "name": "stderr",
          "text": [
            "100%|██████████| 38/38 [00:15<00:00,  2.51it/s]\n"
          ]
        },
        {
          "output_type": "stream",
          "name": "stdout",
          "text": [
            "Epoch 43/100, Loss: 2.6387\n"
          ]
        },
        {
          "output_type": "stream",
          "name": "stderr",
          "text": [
            "100%|██████████| 38/38 [00:15<00:00,  2.53it/s]\n"
          ]
        },
        {
          "output_type": "stream",
          "name": "stdout",
          "text": [
            "Epoch 44/100, Loss: 2.6287\n"
          ]
        },
        {
          "output_type": "stream",
          "name": "stderr",
          "text": [
            "100%|██████████| 38/38 [00:15<00:00,  2.52it/s]\n"
          ]
        },
        {
          "output_type": "stream",
          "name": "stdout",
          "text": [
            "Epoch 45/100, Loss: 2.6270\n"
          ]
        },
        {
          "output_type": "stream",
          "name": "stderr",
          "text": [
            "100%|██████████| 38/38 [00:15<00:00,  2.52it/s]\n"
          ]
        },
        {
          "output_type": "stream",
          "name": "stdout",
          "text": [
            "Epoch 46/100, Loss: 2.6146\n"
          ]
        },
        {
          "output_type": "stream",
          "name": "stderr",
          "text": [
            "100%|██████████| 38/38 [00:15<00:00,  2.51it/s]\n"
          ]
        },
        {
          "output_type": "stream",
          "name": "stdout",
          "text": [
            "Epoch 47/100, Loss: 2.6028\n"
          ]
        },
        {
          "output_type": "stream",
          "name": "stderr",
          "text": [
            "100%|██████████| 38/38 [00:15<00:00,  2.53it/s]\n"
          ]
        },
        {
          "output_type": "stream",
          "name": "stdout",
          "text": [
            "Epoch 48/100, Loss: 2.6070\n"
          ]
        },
        {
          "output_type": "stream",
          "name": "stderr",
          "text": [
            "100%|██████████| 38/38 [00:15<00:00,  2.52it/s]\n"
          ]
        },
        {
          "output_type": "stream",
          "name": "stdout",
          "text": [
            "Epoch 49/100, Loss: 2.5840\n"
          ]
        },
        {
          "output_type": "stream",
          "name": "stderr",
          "text": [
            "100%|██████████| 38/38 [00:15<00:00,  2.53it/s]\n"
          ]
        },
        {
          "output_type": "stream",
          "name": "stdout",
          "text": [
            "Epoch 50/100, Loss: 2.5608\n"
          ]
        },
        {
          "output_type": "stream",
          "name": "stderr",
          "text": [
            "100%|██████████| 38/38 [00:15<00:00,  2.51it/s]\n"
          ]
        },
        {
          "output_type": "stream",
          "name": "stdout",
          "text": [
            "Epoch 51/100, Loss: 2.5511\n"
          ]
        },
        {
          "output_type": "stream",
          "name": "stderr",
          "text": [
            "100%|██████████| 38/38 [00:15<00:00,  2.53it/s]\n"
          ]
        },
        {
          "output_type": "stream",
          "name": "stdout",
          "text": [
            "Epoch 52/100, Loss: 2.5467\n"
          ]
        },
        {
          "output_type": "stream",
          "name": "stderr",
          "text": [
            "100%|██████████| 38/38 [00:15<00:00,  2.52it/s]\n"
          ]
        },
        {
          "output_type": "stream",
          "name": "stdout",
          "text": [
            "Epoch 53/100, Loss: 2.5324\n"
          ]
        },
        {
          "output_type": "stream",
          "name": "stderr",
          "text": [
            "100%|██████████| 38/38 [00:15<00:00,  2.52it/s]\n"
          ]
        },
        {
          "output_type": "stream",
          "name": "stdout",
          "text": [
            "Epoch 54/100, Loss: 2.5347\n"
          ]
        },
        {
          "output_type": "stream",
          "name": "stderr",
          "text": [
            "100%|██████████| 38/38 [00:15<00:00,  2.52it/s]\n"
          ]
        },
        {
          "output_type": "stream",
          "name": "stdout",
          "text": [
            "Epoch 55/100, Loss: 2.5106\n"
          ]
        },
        {
          "output_type": "stream",
          "name": "stderr",
          "text": [
            "100%|██████████| 38/38 [00:15<00:00,  2.52it/s]\n"
          ]
        },
        {
          "output_type": "stream",
          "name": "stdout",
          "text": [
            "Epoch 56/100, Loss: 2.5326\n"
          ]
        },
        {
          "output_type": "stream",
          "name": "stderr",
          "text": [
            "100%|██████████| 38/38 [00:15<00:00,  2.52it/s]\n"
          ]
        },
        {
          "output_type": "stream",
          "name": "stdout",
          "text": [
            "Epoch 57/100, Loss: 2.5254\n"
          ]
        },
        {
          "output_type": "stream",
          "name": "stderr",
          "text": [
            "100%|██████████| 38/38 [00:15<00:00,  2.52it/s]\n"
          ]
        },
        {
          "output_type": "stream",
          "name": "stdout",
          "text": [
            "Epoch 58/100, Loss: 2.5294\n"
          ]
        },
        {
          "output_type": "stream",
          "name": "stderr",
          "text": [
            "100%|██████████| 38/38 [00:15<00:00,  2.51it/s]\n"
          ]
        },
        {
          "output_type": "stream",
          "name": "stdout",
          "text": [
            "Epoch 59/100, Loss: 2.5132\n"
          ]
        },
        {
          "output_type": "stream",
          "name": "stderr",
          "text": [
            "100%|██████████| 38/38 [00:15<00:00,  2.52it/s]\n"
          ]
        },
        {
          "output_type": "stream",
          "name": "stdout",
          "text": [
            "Epoch 60/100, Loss: 2.4988\n"
          ]
        },
        {
          "output_type": "stream",
          "name": "stderr",
          "text": [
            "100%|██████████| 38/38 [00:14<00:00,  2.53it/s]\n"
          ]
        },
        {
          "output_type": "stream",
          "name": "stdout",
          "text": [
            "Epoch 61/100, Loss: 2.4999\n"
          ]
        },
        {
          "output_type": "stream",
          "name": "stderr",
          "text": [
            "100%|██████████| 38/38 [00:15<00:00,  2.53it/s]\n"
          ]
        },
        {
          "output_type": "stream",
          "name": "stdout",
          "text": [
            "Epoch 62/100, Loss: 2.5137\n"
          ]
        },
        {
          "output_type": "stream",
          "name": "stderr",
          "text": [
            "100%|██████████| 38/38 [00:15<00:00,  2.52it/s]\n"
          ]
        },
        {
          "output_type": "stream",
          "name": "stdout",
          "text": [
            "Epoch 63/100, Loss: 2.5092\n"
          ]
        },
        {
          "output_type": "stream",
          "name": "stderr",
          "text": [
            "100%|██████████| 38/38 [00:15<00:00,  2.51it/s]\n"
          ]
        },
        {
          "output_type": "stream",
          "name": "stdout",
          "text": [
            "Epoch 64/100, Loss: 2.5050\n"
          ]
        },
        {
          "output_type": "stream",
          "name": "stderr",
          "text": [
            "100%|██████████| 38/38 [00:15<00:00,  2.51it/s]\n"
          ]
        },
        {
          "output_type": "stream",
          "name": "stdout",
          "text": [
            "Epoch 65/100, Loss: 2.5097\n",
            "Training stopped early\n"
          ]
        },
        {
          "output_type": "execute_result",
          "data": {
            "text/plain": [
              "628"
            ]
          },
          "metadata": {},
          "execution_count": 27
        }
      ],
      "execution_count": 27
    },
    {
      "cell_type": "markdown",
      "source": [
        "# Validation"
      ],
      "metadata": {
        "id": "QXUB8nsACdgK"
      }
    },
    {
      "cell_type": "markdown",
      "source": [
        "## Setup"
      ],
      "metadata": {
        "id": "Zln8TtgqCdgK"
      }
    },
    {
      "cell_type": "code",
      "source": [
        "val_dataset = BDD100K(IMAGE_VAL_PATH, DRIVABLE_VAL_PATH, LANE_VAL_PATH, DET_VAL_PATH, (640, 640), 300, False)"
      ],
      "metadata": {
        "id": "GYgDPN3dCdgL",
        "trusted": true,
        "outputId": "0ed9f2b2-db88-4185-db57-680223a96f38",
        "colab": {
          "base_uri": "https://localhost:8080/"
        }
      },
      "outputs": [
        {
          "output_type": "stream",
          "name": "stderr",
          "text": [
            " 72%|███████▏  | 217/300 [00:12<00:04, 20.56it/s]"
          ]
        }
      ],
      "execution_count": null
    },
    {
      "cell_type": "code",
      "source": [
        "val_data_loader = DataLoader(dataset, batch_size=8, shuffle=True, collate_fn=collate_fn)"
      ],
      "metadata": {
        "id": "N2ZVDZdlCdgL",
        "trusted": true
      },
      "outputs": [],
      "execution_count": null
    },
    {
      "cell_type": "markdown",
      "source": [
        "## Metrics"
      ],
      "metadata": {
        "id": "KRs5exm4CdgL"
      }
    },
    {
      "cell_type": "code",
      "source": [
        "def map_recall(pred_batch, gt_batch, iou_th=0.5, conf_th=0.001):\n",
        "  total_tp, total_fp, total_fn = 0, 0, 0\n",
        "\n",
        "  precisions = torch.zeros(len(pred_batch))\n",
        "\n",
        "  for i in range(len(pred_batch)):\n",
        "    pred = pred_batch[i]\n",
        "    gt = gt_batch[i]\n",
        "\n",
        "    if pred.numel() == 0:\n",
        "      total_fn += len(gt)\n",
        "      continue\n",
        "\n",
        "    conf = pred[:, 4]\n",
        "    pred = pred[conf > conf_th]\n",
        "    if pred.numel() == 0:\n",
        "      total_fn += len(gt)\n",
        "      continue\n",
        "\n",
        "    p_boxes = pred[:, :4]\n",
        "    p_scores = pred[:, 4]\n",
        "    p_cls = pred[:, 5:].argmax(dim=-1)\n",
        "\n",
        "    gt_boxes = gt[:, :4]\n",
        "    gt_cls = gt[:, 4]\n",
        "\n",
        "    ious = ops.box_iou(xywh_to_xyxy(p_boxes), xywh_to_xyxy(gt_boxes))\n",
        "    matched_gt = torch.zeros(len(gt_boxes), dtype=torch.bool)\n",
        "    tp, fp = 0, 0\n",
        "\n",
        "    for j in range(len(pred)):\n",
        "      max_iou, gt_idx = ious[j].max(0)\n",
        "      if max_iou >= iou_th and not matched_gt[gt_idx.item()] and p_cls[j] == gt_cls[gt_idx]:\n",
        "        tp += 1\n",
        "        matched_gt[gt_idx.item()] = True\n",
        "      else:\n",
        "        fp += 1\n",
        "\n",
        "    fn = len(gt_boxes) - matched_gt.sum()\n",
        "    total_tp += tp\n",
        "    total_fp += fp\n",
        "    total_fn += fn\n",
        "\n",
        "    precisions[i] = tp / (tp + fp) if tp + fp > 0 else 0\n",
        "\n",
        "  recall = total_tp / (total_tp + total_fn) if total_tp + total_fn > 0 else 0\n",
        "  mean_ap = precisions.mean().item()\n",
        "\n",
        "  return mean_ap, recall"
      ],
      "metadata": {
        "id": "16CCTh1FpoYF"
      },
      "execution_count": null,
      "outputs": []
    },
    {
      "cell_type": "markdown",
      "source": [
        "## Validation loop"
      ],
      "metadata": {
        "id": "YicRKnVECdgL"
      }
    },
    {
      "cell_type": "code",
      "source": [
        "torch.cuda.empty_cache()\n",
        "gc.collect()"
      ],
      "metadata": {
        "id": "wPwLXdhDCdgL",
        "trusted": true
      },
      "outputs": [],
      "execution_count": null
    },
    {
      "cell_type": "code",
      "source": [
        "model = YOLOP().to(device)\n",
        "model.load_state_dict(torch.load('yolop_v2_mini.pth'))\n",
        "\n",
        "model.eval()\n",
        "\n",
        "recall_score = 0\n",
        "map50_score = 0\n",
        "\n",
        "with torch.no_grad():\n",
        "    for images, drivables, lanes, boxes in tqdm(data_loader):\n",
        "        images = torch.stack(images).float().to(device)\n",
        "        drivables = torch.stack(drivables).to(device)\n",
        "        lanes = torch.stack(lanes).to(device)\n",
        "        boxes = [boxes[i].to(device) for i in range(len(boxes))]\n",
        "\n",
        "        #inference\n",
        "        p_drv, p_lanes, p_boxes = model(images)\n",
        "\n",
        "        #metrics calculation\n",
        "        map_s, recall_s = map_recall(p_boxes, boxes)\n",
        "\n",
        "        recall_score += recall_s\n",
        "        map50_score += map_s\n",
        "\n",
        "        del p_drv, p_lanes, p_boxes\n",
        "\n",
        "print('Recall:', recall_score / len(data_loader))\n",
        "print('mAP50:', map50_score / len(data_loader))\n",
        "\n",
        "del model\n",
        "torch.cuda.empty_cache()\n",
        "gc.collect()"
      ],
      "metadata": {
        "id": "QVPyYSd0CdgL",
        "trusted": true
      },
      "outputs": [],
      "execution_count": null
    }
  ]
}